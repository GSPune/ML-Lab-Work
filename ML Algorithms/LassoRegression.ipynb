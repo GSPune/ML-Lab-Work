{
 "cells": [
  {
   "cell_type": "code",
   "execution_count": null,
   "metadata": {},
   "outputs": [],
   "source": [
    "import numpy as np\n",
    "import matplotlib.pyplot as plt\n",
    "from mpl_toolkits.mplot3d import Axes3D\n",
    "from sklearn.linear_model import LinearRegression,LinearRegression\n",
    "from sklearn.model_selection import train_test_split\n",
    "from sklearn.metrics import mean_squared_error\n",
    "\n",
    "#Generating sample data with four features\n",
    "np.random.seed(0)\n",
    "X = np.random.randn(100,4)\n",
    "#True coefficients for generating the target variable y(only 2 features are relevant)\n",
    "true_coefs = np.array([2,-3,0,0])\n",
    "y = X.dot(true_coefs)+np.random.randn(100)*0.5 # add some noise"
   ]
  }
 ],
 "metadata": {
  "kernelspec": {
   "display_name": "Python 3",
   "language": "python",
   "name": "python3"
  },
  "language_info": {
   "name": "python",
   "version": "3.10.8"
  }
 },
 "nbformat": 4,
 "nbformat_minor": 2
}
