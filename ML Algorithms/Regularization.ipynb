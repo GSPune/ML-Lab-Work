{
 "cells": [
  {
   "cell_type": "markdown",
   "metadata": {},
   "source": [
    "### Regularization - (1)Lasso Regression"
   ]
  },
  {
   "cell_type": "code",
   "execution_count": 17,
   "metadata": {},
   "outputs": [],
   "source": [
    "import numpy as np\n",
    "import matplotlib.pyplot as plt\n",
    "from mpl_toolkits.mplot3d import Axes3D\n",
    "from sklearn.linear_model import LinearRegression,Lasso\n",
    "from sklearn.model_selection import train_test_split\n",
    "from sklearn.metrics import mean_squared_error,mean_absolute_percentage_error\n",
    "\n",
    "#Generating sample data with four features and 100 examples\n",
    "np.random.seed(0)\n",
    "X = np.random.randn(100,4)\n",
    "#True coefficients for generating the target variable y(only 2 features are relevant)\n",
    "true_coefs = np.array([2,-3,0,0])\n",
    "y = X.dot(true_coefs)+np.random.randn(100)*0.5 # add some noise\n",
    "# y.shape"
   ]
  },
  {
   "cell_type": "markdown",
   "metadata": {},
   "source": [
    "```\n",
    "We are spliting the data into testing and training sets and applying Ordinary Least Squares Method(OLS) without regularization\n",
    "\n",
    "After that we apply Lasso Regression with regularization parameter alpha and then predict on test data using both the above fits.\n",
    "```"
   ]
  },
  {
   "cell_type": "code",
   "execution_count": 18,
   "metadata": {},
   "outputs": [
    {
     "name": "stdout",
     "output_type": "stream",
     "text": [
      "True Coefficients: [ 2 -3  0  0]\n",
      "OLS Coefficients: [ 1.94596855 -3.0846254  -0.02214344  0.01336542]\n",
      "Lasso Coefficients: [ 1.86533678 -2.97935723 -0.          0.        ]\n",
      "OLS MSE: 0.25640032735703083\n",
      "Lasso MSE: 0.23592922560940796\n"
     ]
    }
   ],
   "source": [
    "X_train,X_test,y_train,y_test = train_test_split(X,y,test_size=0.2,random_state=0)\n",
    "'''random_state: This parameter controls the shuffling applied to the data before applying the split.'''\n",
    "\n",
    "ols = LinearRegression()\n",
    "ols.fit(X_train,y_train)\n",
    "ols_coefs = ols.coef_\n",
    "ols_coefs\n",
    "\n",
    "# Predict on test data with OLS and Lasso\n",
    "y_pred_ols = ols.predict(X_test)\n",
    "y_pred_lasso = lasso.predict(X_test)\n",
    "\n",
    "#Lasso Reg.\n",
    "lasso = Lasso(alpha=0.1)\n",
    "lasso.fit(X_train,y_train)\n",
    "lasso_coefs = lasso.coef_\n",
    "lasso_coefs\n",
    "\n",
    "# Mean Squared Error for both OLS and Lasso\n",
    "mse_ols = mean_squared_error(y_test, y_pred_ols)\n",
    "mse_lasso = mean_squared_error(y_test, y_pred_lasso)\n",
    "\n",
    "# Display the results and error metrics evaluated\n",
    "print(f\"True Coefficients: {true_coefs}\")\n",
    "print(f\"OLS Coefficients: {ols_coefs}\")\n",
    "print(f\"Lasso Coefficients: {lasso_coefs}\")\n",
    "print(f\"OLS MSE: {mse_ols}\")\n",
    "print(f\"Lasso MSE: {mse_lasso}\")"
   ]
  }
 ],
 "metadata": {
  "kernelspec": {
   "display_name": "Python 3",
   "language": "python",
   "name": "python3"
  },
  "language_info": {
   "codemirror_mode": {
    "name": "ipython",
    "version": 3
   },
   "file_extension": ".py",
   "mimetype": "text/x-python",
   "name": "python",
   "nbconvert_exporter": "python",
   "pygments_lexer": "ipython3",
   "version": "3.10.8"
  }
 },
 "nbformat": 4,
 "nbformat_minor": 2
}
