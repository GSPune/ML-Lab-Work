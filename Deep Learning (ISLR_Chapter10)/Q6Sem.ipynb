{
 "cells": [
  {
   "cell_type": "code",
   "execution_count": 160,
   "id": "20bdc01f-bd5c-43fb-9323-18ab3eb8b6b3",
   "metadata": {},
   "outputs": [
    {
     "name": "stdout",
     "output_type": "stream",
     "text": [
      "(392, 4)\n"
     ]
    }
   ],
   "source": [
    "import pandas as pd\n",
    "import statsmodels.api as sm\n",
    "\n",
    "# Load the Auto dataset\n",
    "auto = sm.datasets.get_rdataset(\"Auto\", \"ISLR\").data\n",
    "\n",
    "# Select specific columns\n",
    "auto_subset = auto[['acceleration', 'horsepower', 'weight','mpg']]\n",
    "\n",
    "# Check dimensions\n",
    "print(auto_subset.shape)\n"
   ]
  },
  {
   "cell_type": "code",
   "execution_count": 161,
   "id": "5f3bff2e-2701-4845-a3f0-51017d91959a",
   "metadata": {},
   "outputs": [],
   "source": [
    "import numpy as np, pandas as pd\n",
    "from matplotlib.pyplot import subplots\n",
    "from sklearn.linear_model import \\\n",
    "(LinearRegression ,\n",
    "LogisticRegression ,\n",
    "Lasso)\n",
    "from sklearn.preprocessing import StandardScaler\n",
    "from sklearn.model_selection import KFold\n",
    "from sklearn.pipeline import Pipeline\n",
    "from ISLP import load_data\n",
    "from ISLP.models import ModelSpec as MS\n",
    "from sklearn.model_selection import \\\n",
    "(train_test_split ,\n",
    "GridSearchCV)\n",
    "\n",
    "from ISLP.torch import (SimpleDataModule ,\n",
    "SimpleModule ,\n",
    "ErrorTracker ,\n",
    "rec_num_workers)\n",
    "\n",
    "import torch\n",
    "import torch.nn as nn\n",
    "import torch.optim as optim\n",
    "import torchinfo\n",
    "from torch.utils.data import TensorDataset"
   ]
  },
  {
   "cell_type": "code",
   "execution_count": 162,
   "id": "60cd1a55-eada-489d-8236-a3ae825a0e8e",
   "metadata": {},
   "outputs": [
    {
     "data": {
      "text/html": [
       "<div>\n",
       "<style scoped>\n",
       "    .dataframe tbody tr th:only-of-type {\n",
       "        vertical-align: middle;\n",
       "    }\n",
       "\n",
       "    .dataframe tbody tr th {\n",
       "        vertical-align: top;\n",
       "    }\n",
       "\n",
       "    .dataframe thead th {\n",
       "        text-align: right;\n",
       "    }\n",
       "</style>\n",
       "<table border=\"1\" class=\"dataframe\">\n",
       "  <thead>\n",
       "    <tr style=\"text-align: right;\">\n",
       "      <th></th>\n",
       "      <th>acceleration</th>\n",
       "      <th>horsepower</th>\n",
       "      <th>weight</th>\n",
       "      <th>mpg</th>\n",
       "    </tr>\n",
       "    <tr>\n",
       "      <th>rownames</th>\n",
       "      <th></th>\n",
       "      <th></th>\n",
       "      <th></th>\n",
       "      <th></th>\n",
       "    </tr>\n",
       "  </thead>\n",
       "  <tbody>\n",
       "    <tr>\n",
       "      <th>1</th>\n",
       "      <td>12.0</td>\n",
       "      <td>130</td>\n",
       "      <td>3504</td>\n",
       "      <td>18.0</td>\n",
       "    </tr>\n",
       "    <tr>\n",
       "      <th>2</th>\n",
       "      <td>11.5</td>\n",
       "      <td>165</td>\n",
       "      <td>3693</td>\n",
       "      <td>15.0</td>\n",
       "    </tr>\n",
       "    <tr>\n",
       "      <th>3</th>\n",
       "      <td>11.0</td>\n",
       "      <td>150</td>\n",
       "      <td>3436</td>\n",
       "      <td>18.0</td>\n",
       "    </tr>\n",
       "    <tr>\n",
       "      <th>4</th>\n",
       "      <td>12.0</td>\n",
       "      <td>150</td>\n",
       "      <td>3433</td>\n",
       "      <td>16.0</td>\n",
       "    </tr>\n",
       "    <tr>\n",
       "      <th>5</th>\n",
       "      <td>10.5</td>\n",
       "      <td>140</td>\n",
       "      <td>3449</td>\n",
       "      <td>17.0</td>\n",
       "    </tr>\n",
       "  </tbody>\n",
       "</table>\n",
       "</div>"
      ],
      "text/plain": [
       "          acceleration  horsepower  weight   mpg\n",
       "rownames                                        \n",
       "1                 12.0         130    3504  18.0\n",
       "2                 11.5         165    3693  15.0\n",
       "3                 11.0         150    3436  18.0\n",
       "4                 12.0         150    3433  16.0\n",
       "5                 10.5         140    3449  17.0"
      ]
     },
     "execution_count": 162,
     "metadata": {},
     "output_type": "execute_result"
    }
   ],
   "source": [
    "auto_subset.head()"
   ]
  },
  {
   "cell_type": "code",
   "execution_count": 163,
   "id": "a8799773-7426-4e72-b594-2b92a08875d1",
   "metadata": {},
   "outputs": [
    {
     "name": "stderr",
     "output_type": "stream",
     "text": [
      "Seed set to 0\n"
     ]
    }
   ],
   "source": [
    "from torchmetrics import (MeanAbsoluteError ,\n",
    "R2Score)\n",
    "from torchinfo import summary\n",
    "from torchvision.io import read_image\n",
    "from pytorch_lightning import Trainer\n",
    "from pytorch_lightning.loggers import CSVLogger\n",
    "from pytorch_lightning import seed_everything\n",
    "seed_everything(0, workers=True)\n",
    "torch.use_deterministic_algorithms(True , warn_only=True)"
   ]
  },
  {
   "cell_type": "code",
   "execution_count": 177,
   "id": "ca690f65-6dbc-4f79-9266-2e43f7b56662",
   "metadata": {},
   "outputs": [
    {
     "data": {
      "text/plain": [
       "numpy.ndarray"
      ]
     },
     "execution_count": 177,
     "metadata": {},
     "output_type": "execute_result"
    }
   ],
   "source": [
    "X = auto_subset[['acceleration','weight','horsepower']]\n",
    "Y = auto_subset[['mpg']]\n",
    "Y = Y.to_numpy()\n",
    "X = X.to_numpy()\n",
    "type(X)\n",
    "# Y"
   ]
  },
  {
   "cell_type": "code",
   "execution_count": 165,
   "id": "afa8df85-e567-4b84-8c8b-c0a934d772ef",
   "metadata": {},
   "outputs": [
    {
     "data": {
      "text/plain": [
       "numpy.ndarray"
      ]
     },
     "execution_count": 165,
     "metadata": {},
     "output_type": "execute_result"
    }
   ],
   "source": [
    "(X_train,X_test,Y_train,Y_test) = train_test_split(X,Y,test_size=1/3,random_state=1)\n",
    "X_train.shape\n",
    "type(X_train)"
   ]
  },
  {
   "cell_type": "code",
   "execution_count": 178,
   "id": "f7c2e380-2162-4928-b046-f55449f587e4",
   "metadata": {},
   "outputs": [],
   "source": [
    "class FFNN(nn.Module):\n",
    "    def __init__(self , input_size):\n",
    "        super(FFNN , self).__init__()\n",
    "        self.flatten = nn.Flatten()\n",
    "        self.sequential = nn.Sequential(\n",
    "        nn.Linear(input_size , 60),\n",
    "        nn.ReLU(),\n",
    "        nn.Dropout (0.5),\n",
    "        nn.Linear(60, 1))\n",
    "    def forward(self , x):\n",
    "        x = self.flatten(x)\n",
    "        return self.sequential(x).squeeze(-1)\n",
    "        # return torch.flatten(self.sequential(x))"
   ]
  },
  {
   "cell_type": "code",
   "execution_count": 179,
   "id": "6635600a-a742-46cd-af0f-4e7968f09d37",
   "metadata": {},
   "outputs": [
    {
     "data": {
      "text/plain": [
       "FFNN(\n",
       "  (flatten): Flatten(start_dim=1, end_dim=-1)\n",
       "  (sequential): Sequential(\n",
       "    (0): Linear(in_features=3, out_features=60, bias=True)\n",
       "    (1): ReLU()\n",
       "    (2): Dropout(p=0.5, inplace=False)\n",
       "    (3): Linear(in_features=60, out_features=1, bias=True)\n",
       "  )\n",
       ")"
      ]
     },
     "execution_count": 179,
     "metadata": {},
     "output_type": "execute_result"
    }
   ],
   "source": [
    "ffmodel = FFNN(X.shape[1])\n",
    "ffmodel"
   ]
  },
  {
   "cell_type": "code",
   "execution_count": 180,
   "id": "bc402f6b-6b18-4c00-834b-fc7f2734417d",
   "metadata": {},
   "outputs": [
    {
     "data": {
      "text/plain": [
       "===================================================================================================================\n",
       "Layer (type:depth-idx)                   Input Shape               Output Shape              Param #\n",
       "===================================================================================================================\n",
       "FFNN                                     [392, 3]                  [392]                     --\n",
       "├─Flatten: 1-1                           [392, 3]                  [392, 3]                  --\n",
       "├─Sequential: 1-2                        [392, 3]                  [392, 1]                  --\n",
       "│    └─Linear: 2-1                       [392, 3]                  [392, 60]                 240\n",
       "│    └─ReLU: 2-2                         [392, 60]                 [392, 60]                 --\n",
       "│    └─Dropout: 2-3                      [392, 60]                 [392, 60]                 --\n",
       "│    └─Linear: 2-4                       [392, 60]                 [392, 1]                  61\n",
       "===================================================================================================================\n",
       "Total params: 301\n",
       "Trainable params: 301\n",
       "Non-trainable params: 0\n",
       "Total mult-adds (Units.MEGABYTES): 0.12\n",
       "===================================================================================================================\n",
       "Input size (MB): 0.00\n",
       "Forward/backward pass size (MB): 0.19\n",
       "Params size (MB): 0.00\n",
       "Estimated Total Size (MB): 0.20\n",
       "==================================================================================================================="
      ]
     },
     "execution_count": 180,
     "metadata": {},
     "output_type": "execute_result"
    }
   ],
   "source": [
    "summary(ffmodel,\n",
    "input_size=X.shape,\n",
    "col_names=['input_size',\n",
    "'output_size',\n",
    "'num_params'])"
   ]
  },
  {
   "cell_type": "code",
   "execution_count": 181,
   "id": "83f113b1-f3a0-4741-af64-c3b394701eb1",
   "metadata": {},
   "outputs": [
    {
     "data": {
      "text/plain": [
       "torch.Size([392])"
      ]
     },
     "execution_count": 181,
     "metadata": {},
     "output_type": "execute_result"
    }
   ],
   "source": [
    "X = torch.tensor(X.astype(np.float32))\n",
    "Y = torch.tensor(Y.astype(np.float32)).view(-1)\n",
    "fnn_train = TensorDataset(X,Y)\n",
    "#X.shape\n",
    "Y.shape"
   ]
  },
  {
   "cell_type": "code",
   "execution_count": 182,
   "id": "c0fa4700-d7a8-41fb-b0c1-503a1d600e7d",
   "metadata": {},
   "outputs": [
    {
     "data": {
      "text/plain": [
       "(tensor([[  11.5000, 3693.0000,  165.0000],\n",
       "         [  11.0000, 3436.0000,  150.0000],\n",
       "         [  12.0000, 3433.0000,  150.0000],\n",
       "         [  10.5000, 3449.0000,  140.0000]]),\n",
       " tensor([15., 18., 16., 17.]))"
      ]
     },
     "execution_count": 182,
     "metadata": {},
     "output_type": "execute_result"
    }
   ],
   "source": [
    "fnn_train[1:5]"
   ]
  },
  {
   "cell_type": "code",
   "execution_count": 183,
   "id": "9539f15a-32be-4a80-a501-b11db7be23e6",
   "metadata": {},
   "outputs": [],
   "source": [
    "max_num_workers = rec_num_workers()\n",
    "\n",
    "ffn_dm = SimpleDataModule(fnn_train,\n",
    "fnn_train,\n",
    "batch_size=50,\n",
    "num_workers=min(4,max_num_workers),\n",
    "validation=fnn_train)"
   ]
  },
  {
   "cell_type": "code",
   "execution_count": 184,
   "id": "024c8310-4577-452e-a952-540d44b1016c",
   "metadata": {},
   "outputs": [
    {
     "name": "stdout",
     "output_type": "stream",
     "text": [
      "X shape: torch.Size([392, 3]), Y shape: torch.Size([392])\n",
      "Sample from dataset: (tensor([  12., 3504.,  130.]), tensor(18.))\n"
     ]
    }
   ],
   "source": [
    "print(f\"X shape: {X.shape}, Y shape: {Y.shape}\")\n",
    "print(f\"Sample from dataset: {fnn_train[0]}\")"
   ]
  },
  {
   "cell_type": "code",
   "execution_count": 185,
   "id": "b4051e52-2ce8-4356-9135-12f2693902dd",
   "metadata": {},
   "outputs": [],
   "source": [
    "ffn_module = SimpleModule.regression(ffmodel,\n",
    "metrics={'mae':MeanAbsoluteError()})\n",
    "\n",
    "logger = CSVLogger('logs', name='fnn')"
   ]
  },
  {
   "cell_type": "code",
   "execution_count": 186,
   "id": "e1ff8d85-c285-4295-89b8-fa501f60ab34",
   "metadata": {},
   "outputs": [
    {
     "name": "stderr",
     "output_type": "stream",
     "text": [
      "GPU available: False, used: False\n",
      "TPU available: False, using: 0 TPU cores\n",
      "HPU available: False, using: 0 HPUs\n",
      "\n",
      "  | Name  | Type    | Params | Mode \n",
      "------------------------------------------\n",
      "0 | model | FFNN    | 301    | train\n",
      "1 | loss  | MSELoss | 0      | train\n",
      "------------------------------------------\n",
      "301       Trainable params\n",
      "0         Non-trainable params\n",
      "301       Total params\n",
      "0.001     Total estimated model params size (MB)\n",
      "8         Modules in train mode\n",
      "0         Modules in eval mode\n"
     ]
    },
    {
     "name": "stdout",
     "output_type": "stream",
     "text": [
      "Epoch 0: 100%|█████████████████████████████████████████████████████████████████| 8/8 [00:05<00:00,  1.44it/s, v_num=10]\n",
      "Validation: |                                                                                    | 0/? [00:00<?, ?it/s]\u001b[A\n",
      "Validation:   0%|                                                                                | 0/8 [00:00<?, ?it/s]\u001b[A\n",
      "Validation DataLoader 0:   0%|                                                                   | 0/8 [00:00<?, ?it/s]\u001b[A\n",
      "Validation DataLoader 0:  12%|███████▎                                                  | 1/8 [00:00<00:00, 176.25it/s]\u001b[A\n",
      "Validation DataLoader 0:  25%|██████████████▌                                           | 2/8 [00:00<00:00, 135.89it/s]\u001b[A\n",
      "Validation DataLoader 0:  38%|█████████████████████▊                                    | 3/8 [00:00<00:00, 150.56it/s]\u001b[A\n",
      "Validation DataLoader 0:  50%|█████████████████████████████                             | 4/8 [00:00<00:00, 154.92it/s]\u001b[A\n",
      "Validation DataLoader 0:  62%|████████████████████████████████████▎                     | 5/8 [00:00<00:00, 142.53it/s]\u001b[A\n",
      "Validation DataLoader 0:  75%|███████████████████████████████████████████▌              | 6/8 [00:00<00:00, 146.05it/s]\u001b[A\n",
      "Validation DataLoader 0:  88%|██████████████████████████████████████████████████▊       | 7/8 [00:00<00:00, 152.40it/s]\u001b[A\n",
      "Validation DataLoader 0: 100%|██████████████████████████████████████████████████████████| 8/8 [00:00<00:00, 154.67it/s]\u001b[A\n",
      "Epoch 1: 100%|█████████████████████████████████████████████████████████████████| 8/8 [00:00<00:00, 57.58it/s, v_num=10]\u001b[A\n",
      "Validation: |                                                                                    | 0/? [00:00<?, ?it/s]\u001b[A\n",
      "Validation:   0%|                                                                                | 0/8 [00:00<?, ?it/s]\u001b[A\n",
      "Validation DataLoader 0:   0%|                                                                   | 0/8 [00:00<?, ?it/s]\u001b[A\n",
      "Validation DataLoader 0:  12%|███████▎                                                  | 1/8 [00:00<00:00, 132.41it/s]\u001b[A\n",
      "Validation DataLoader 0:  25%|██████████████▌                                           | 2/8 [00:00<00:00, 161.60it/s]\u001b[A\n",
      "Validation DataLoader 0:  38%|█████████████████████▊                                    | 3/8 [00:00<00:00, 183.14it/s]\u001b[A\n",
      "Validation DataLoader 0:  50%|█████████████████████████████                             | 4/8 [00:00<00:00, 181.45it/s]\u001b[A\n",
      "Validation DataLoader 0:  62%|████████████████████████████████████▎                     | 5/8 [00:00<00:00, 182.69it/s]\u001b[A\n",
      "Validation DataLoader 0:  75%|███████████████████████████████████████████▌              | 6/8 [00:00<00:00, 191.27it/s]\u001b[A\n",
      "Validation DataLoader 0:  88%|██████████████████████████████████████████████████▊       | 7/8 [00:00<00:00, 190.87it/s]\u001b[A\n",
      "Validation DataLoader 0: 100%|██████████████████████████████████████████████████████████| 8/8 [00:00<00:00, 195.25it/s]\u001b[A\n",
      "Epoch 2: 100%|█████████████████████████████████████████████████████████████████| 8/8 [00:00<00:00, 98.41it/s, v_num=10]\u001b[A\n",
      "Validation: |                                                                                    | 0/? [00:00<?, ?it/s]\u001b[A\n",
      "Validation:   0%|                                                                                | 0/8 [00:00<?, ?it/s]\u001b[A\n",
      "Validation DataLoader 0:   0%|                                                                   | 0/8 [00:00<?, ?it/s]\u001b[A\n",
      "Validation DataLoader 0:  12%|███████▎                                                  | 1/8 [00:00<00:00, 117.08it/s]\u001b[A\n",
      "Validation DataLoader 0:  25%|██████████████▌                                           | 2/8 [00:00<00:00, 157.67it/s]\u001b[A\n",
      "Validation DataLoader 0:  38%|█████████████████████▊                                    | 3/8 [00:00<00:00, 163.03it/s]\u001b[A\n",
      "Validation DataLoader 0:  50%|█████████████████████████████                             | 4/8 [00:00<00:00, 197.38it/s]\u001b[A\n",
      "Validation DataLoader 0:  62%|████████████████████████████████████▎                     | 5/8 [00:00<00:00, 177.56it/s]\u001b[A\n",
      "Validation DataLoader 0:  75%|███████████████████████████████████████████▌              | 6/8 [00:00<00:00, 176.48it/s]\u001b[A\n",
      "Validation DataLoader 0:  88%|██████████████████████████████████████████████████▊       | 7/8 [00:00<00:00, 184.20it/s]\u001b[A\n",
      "Validation DataLoader 0: 100%|██████████████████████████████████████████████████████████| 8/8 [00:00<00:00, 191.19it/s]\u001b[A\n",
      "Epoch 3: 100%|█████████████████████████████████████████████████████████████████| 8/8 [00:00<00:00, 97.36it/s, v_num=10]\u001b[A\n",
      "Validation: |                                                                                    | 0/? [00:00<?, ?it/s]\u001b[A\n",
      "Validation:   0%|                                                                                | 0/8 [00:00<?, ?it/s]\u001b[A\n",
      "Validation DataLoader 0:   0%|                                                                   | 0/8 [00:00<?, ?it/s]\u001b[A\n",
      "Validation DataLoader 0:  12%|███████▎                                                  | 1/8 [00:00<00:00, 120.54it/s]\u001b[A\n",
      "Validation DataLoader 0:  25%|██████████████▌                                           | 2/8 [00:00<00:00, 155.96it/s]\u001b[A\n",
      "Validation DataLoader 0:  38%|█████████████████████▊                                    | 3/8 [00:00<00:00, 162.64it/s]\u001b[A\n",
      "Validation DataLoader 0:  50%|█████████████████████████████                             | 4/8 [00:00<00:00, 176.97it/s]\u001b[A\n",
      "Validation DataLoader 0:  62%|████████████████████████████████████▎                     | 5/8 [00:00<00:00, 181.37it/s]\u001b[A\n",
      "Validation DataLoader 0:  75%|███████████████████████████████████████████▌              | 6/8 [00:00<00:00, 187.07it/s]\u001b[A\n",
      "Validation DataLoader 0:  88%|██████████████████████████████████████████████████▊       | 7/8 [00:00<00:00, 191.86it/s]\u001b[A\n",
      "Validation DataLoader 0: 100%|██████████████████████████████████████████████████████████| 8/8 [00:00<00:00, 191.85it/s]\u001b[A\n",
      "Epoch 4: 100%|█████████████████████████████████████████████████████████████████| 8/8 [00:00<00:00, 77.50it/s, v_num=10]\u001b[A\n",
      "Validation: |                                                                                    | 0/? [00:00<?, ?it/s]\u001b[A\n",
      "Validation:   0%|                                                                                | 0/8 [00:00<?, ?it/s]\u001b[A\n",
      "Validation DataLoader 0:   0%|                                                                   | 0/8 [00:00<?, ?it/s]\u001b[A\n",
      "Validation DataLoader 0:  12%|███████▍                                                   | 1/8 [00:00<00:00, 84.10it/s]\u001b[A\n",
      "Validation DataLoader 0:  25%|██████████████▌                                           | 2/8 [00:00<00:00, 112.99it/s]\u001b[A\n",
      "Validation DataLoader 0:  38%|█████████████████████▊                                    | 3/8 [00:00<00:00, 169.49it/s]\u001b[A\n",
      "Validation DataLoader 0:  50%|█████████████████████████████                             | 4/8 [00:00<00:00, 139.82it/s]\u001b[A\n",
      "Validation DataLoader 0:  62%|████████████████████████████████████▎                     | 5/8 [00:00<00:00, 106.01it/s]\u001b[A\n",
      "Validation DataLoader 0:  75%|███████████████████████████████████████████▌              | 6/8 [00:00<00:00, 115.02it/s]\u001b[A\n",
      "Validation DataLoader 0:  88%|██████████████████████████████████████████████████▊       | 7/8 [00:00<00:00, 122.45it/s]\u001b[A\n",
      "Validation DataLoader 0: 100%|██████████████████████████████████████████████████████████| 8/8 [00:00<00:00, 129.01it/s]\u001b[A\n",
      "Epoch 5: 100%|████████████████████████████████████████████████████████████████| 8/8 [00:00<00:00, 104.68it/s, v_num=10]\u001b[A\n",
      "Validation: |                                                                                    | 0/? [00:00<?, ?it/s]\u001b[A\n",
      "Validation:   0%|                                                                                | 0/8 [00:00<?, ?it/s]\u001b[A\n",
      "Validation DataLoader 0:   0%|                                                                   | 0/8 [00:00<?, ?it/s]\u001b[A\n",
      "Validation DataLoader 0:  12%|███████▎                                                  | 1/8 [00:00<00:00, 118.70it/s]\u001b[A\n",
      "Validation DataLoader 0:  25%|██████████████▌                                           | 2/8 [00:00<00:00, 155.77it/s]\u001b[A\n",
      "Validation DataLoader 0:  38%|█████████████████████▊                                    | 3/8 [00:00<00:00, 166.57it/s]\u001b[A\n",
      "Validation DataLoader 0:  50%|█████████████████████████████                             | 4/8 [00:00<00:00, 175.23it/s]\u001b[A\n",
      "Validation DataLoader 0:  62%|████████████████████████████████████▎                     | 5/8 [00:00<00:00, 180.15it/s]\u001b[A\n",
      "Validation DataLoader 0:  75%|███████████████████████████████████████████▌              | 6/8 [00:00<00:00, 179.99it/s]\u001b[A\n",
      "Validation DataLoader 0:  88%|██████████████████████████████████████████████████▊       | 7/8 [00:00<00:00, 184.35it/s]\u001b[A\n",
      "Validation DataLoader 0: 100%|██████████████████████████████████████████████████████████| 8/8 [00:00<00:00, 186.58it/s]\u001b[A\n",
      "Epoch 6: 100%|████████████████████████████████████████████████████████████████| 8/8 [00:00<00:00, 113.18it/s, v_num=10]\u001b[A\n",
      "Validation: |                                                                                    | 0/? [00:00<?, ?it/s]\u001b[A\n",
      "Validation:   0%|                                                                                | 0/8 [00:00<?, ?it/s]\u001b[A\n",
      "Validation DataLoader 0:   0%|                                                                   | 0/8 [00:00<?, ?it/s]\u001b[A\n",
      "Validation DataLoader 0:  12%|███████▎                                                  | 1/8 [00:00<00:00, 149.40it/s]\u001b[A\n",
      "Validation DataLoader 0:  25%|██████████████▌                                           | 2/8 [00:00<00:00, 170.33it/s]\u001b[A\n",
      "Validation DataLoader 0:  38%|█████████████████████▊                                    | 3/8 [00:00<00:00, 178.02it/s]\u001b[A\n",
      "Validation DataLoader 0:  50%|█████████████████████████████                             | 4/8 [00:00<00:00, 201.44it/s]\u001b[A\n",
      "Validation DataLoader 0:  62%|████████████████████████████████████▎                     | 5/8 [00:00<00:00, 215.47it/s]\u001b[A\n",
      "Validation DataLoader 0:  75%|███████████████████████████████████████████▌              | 6/8 [00:00<00:00, 212.65it/s]\u001b[A\n",
      "Validation DataLoader 0:  88%|██████████████████████████████████████████████████▊       | 7/8 [00:00<00:00, 212.02it/s]\u001b[A\n",
      "Validation DataLoader 0: 100%|██████████████████████████████████████████████████████████| 8/8 [00:00<00:00, 216.08it/s]\u001b[A\n",
      "Epoch 7: 100%|█████████████████████████████████████████████████████████████████| 8/8 [00:00<00:00, 98.97it/s, v_num=10]\u001b[A\n",
      "Validation: |                                                                                    | 0/? [00:00<?, ?it/s]\u001b[A\n",
      "Validation:   0%|                                                                                | 0/8 [00:00<?, ?it/s]\u001b[A\n",
      "Validation DataLoader 0:   0%|                                                                   | 0/8 [00:00<?, ?it/s]\u001b[A\n",
      "Validation DataLoader 0:  12%|███████▎                                                  | 1/8 [00:00<00:00, 132.12it/s]\u001b[A\n",
      "Validation DataLoader 0:  25%|██████████████▌                                           | 2/8 [00:00<00:00, 169.10it/s]\u001b[A\n",
      "Validation DataLoader 0:  38%|█████████████████████▊                                    | 3/8 [00:00<00:00, 194.81it/s]\u001b[A\n",
      "Validation DataLoader 0:  50%|█████████████████████████████                             | 4/8 [00:00<00:00, 205.21it/s]\u001b[A\n",
      "Validation DataLoader 0:  62%|████████████████████████████████████▎                     | 5/8 [00:00<00:00, 201.70it/s]\u001b[A\n",
      "Validation DataLoader 0:  75%|███████████████████████████████████████████▌              | 6/8 [00:00<00:00, 208.35it/s]\u001b[A\n",
      "Validation DataLoader 0:  88%|██████████████████████████████████████████████████▊       | 7/8 [00:00<00:00, 207.11it/s]\u001b[A\n",
      "Validation DataLoader 0: 100%|██████████████████████████████████████████████████████████| 8/8 [00:00<00:00, 212.63it/s]\u001b[A\n",
      "Epoch 8: 100%|█████████████████████████████████████████████████████████████████| 8/8 [00:00<00:00, 98.41it/s, v_num=10]\u001b[A\n",
      "Validation: |                                                                                    | 0/? [00:00<?, ?it/s]\u001b[A\n",
      "Validation:   0%|                                                                                | 0/8 [00:00<?, ?it/s]\u001b[A\n",
      "Validation DataLoader 0:   0%|                                                                   | 0/8 [00:00<?, ?it/s]\u001b[A\n",
      "Validation DataLoader 0:  12%|███████▎                                                  | 1/8 [00:00<00:00, 124.43it/s]\u001b[A\n",
      "Validation DataLoader 0:  25%|██████████████▌                                           | 2/8 [00:00<00:00, 165.86it/s]\u001b[A\n",
      "Validation DataLoader 0:  38%|█████████████████████▊                                    | 3/8 [00:00<00:00, 168.27it/s]\u001b[A\n",
      "Validation DataLoader 0:  50%|█████████████████████████████                             | 4/8 [00:00<00:00, 183.08it/s]\u001b[A\n",
      "Validation DataLoader 0:  62%|████████████████████████████████████▎                     | 5/8 [00:00<00:00, 193.28it/s]\u001b[A\n",
      "Validation DataLoader 0:  75%|███████████████████████████████████████████▌              | 6/8 [00:00<00:00, 200.74it/s]\u001b[A\n",
      "Validation DataLoader 0:  88%|██████████████████████████████████████████████████▊       | 7/8 [00:00<00:00, 208.01it/s]\u001b[A\n",
      "Validation DataLoader 0: 100%|██████████████████████████████████████████████████████████| 8/8 [00:00<00:00, 199.27it/s]\u001b[A\n",
      "Epoch 9: 100%|█████████████████████████████████████████████████████████████████| 8/8 [00:00<00:00, 90.49it/s, v_num=10]\u001b[A\n",
      "Validation: |                                                                                    | 0/? [00:00<?, ?it/s]\u001b[A\n",
      "Validation:   0%|                                                                                | 0/8 [00:00<?, ?it/s]\u001b[A\n",
      "Validation DataLoader 0:   0%|                                                                   | 0/8 [00:00<?, ?it/s]\u001b[A\n",
      "Validation DataLoader 0:  12%|███████▎                                                  | 1/8 [00:00<00:00, 102.34it/s]\u001b[A\n",
      "Validation DataLoader 0:  25%|██████████████▌                                           | 2/8 [00:00<00:00, 147.67it/s]\u001b[A\n",
      "Validation DataLoader 0:  38%|█████████████████████▊                                    | 3/8 [00:00<00:00, 146.46it/s]\u001b[A\n",
      "Validation DataLoader 0:  50%|█████████████████████████████                             | 4/8 [00:00<00:00, 171.55it/s]\u001b[A\n",
      "Validation DataLoader 0:  62%|████████████████████████████████████▎                     | 5/8 [00:00<00:00, 167.79it/s]\u001b[A\n",
      "Validation DataLoader 0:  75%|███████████████████████████████████████████▌              | 6/8 [00:00<00:00, 170.51it/s]\u001b[A\n",
      "Validation DataLoader 0:  88%|██████████████████████████████████████████████████▊       | 7/8 [00:00<00:00, 175.28it/s]\u001b[A\n",
      "Validation DataLoader 0: 100%|██████████████████████████████████████████████████████████| 8/8 [00:00<00:00, 190.51it/s]\u001b[A\n",
      "Epoch 10: 100%|███████████████████████████████████████████████████████████████| 8/8 [00:00<00:00, 115.84it/s, v_num=10]\u001b[A\n",
      "Validation: |                                                                                    | 0/? [00:00<?, ?it/s]\u001b[A\n",
      "Validation:   0%|                                                                                | 0/8 [00:00<?, ?it/s]\u001b[A\n",
      "Validation DataLoader 0:   0%|                                                                   | 0/8 [00:00<?, ?it/s]\u001b[A\n",
      "Validation DataLoader 0:  12%|███████▎                                                  | 1/8 [00:00<00:00, 136.93it/s]\u001b[A\n",
      "Validation DataLoader 0:  25%|██████████████▌                                           | 2/8 [00:00<00:00, 146.59it/s]\u001b[A\n",
      "Validation DataLoader 0:  38%|█████████████████████▊                                    | 3/8 [00:00<00:00, 158.11it/s]\u001b[A\n",
      "Validation DataLoader 0:  50%|█████████████████████████████                             | 4/8 [00:00<00:00, 169.02it/s]\u001b[A\n",
      "Validation DataLoader 0:  62%|████████████████████████████████████▎                     | 5/8 [00:00<00:00, 166.84it/s]\u001b[A\n",
      "Validation DataLoader 0:  75%|███████████████████████████████████████████▌              | 6/8 [00:00<00:00, 181.00it/s]\u001b[A\n",
      "Validation DataLoader 0:  88%|██████████████████████████████████████████████████▊       | 7/8 [00:00<00:00, 183.49it/s]\u001b[A\n",
      "Validation DataLoader 0: 100%|██████████████████████████████████████████████████████████| 8/8 [00:00<00:00, 188.73it/s]\u001b[A\n",
      "Epoch 11: 100%|███████████████████████████████████████████████████████████████| 8/8 [00:00<00:00, 101.36it/s, v_num=10]\u001b[A\n",
      "Validation: |                                                                                    | 0/? [00:00<?, ?it/s]\u001b[A\n",
      "Validation:   0%|                                                                                | 0/8 [00:00<?, ?it/s]\u001b[A\n",
      "Validation DataLoader 0:   0%|                                                                   | 0/8 [00:00<?, ?it/s]\u001b[A\n",
      "Validation DataLoader 0:  12%|███████▎                                                  | 1/8 [00:00<00:00, 154.99it/s]\u001b[A\n",
      "Validation DataLoader 0:  25%|██████████████▌                                           | 2/8 [00:00<00:00, 176.42it/s]\u001b[A\n",
      "Validation DataLoader 0:  38%|█████████████████████▊                                    | 3/8 [00:00<00:00, 264.62it/s]\u001b[A\n",
      "Validation DataLoader 0:  50%|█████████████████████████████                             | 4/8 [00:00<00:00, 206.10it/s]\u001b[A\n",
      "Validation DataLoader 0:  62%|████████████████████████████████████▎                     | 5/8 [00:00<00:00, 193.65it/s]\u001b[A\n",
      "Validation DataLoader 0:  75%|███████████████████████████████████████████▌              | 6/8 [00:00<00:00, 187.95it/s]\u001b[A\n",
      "Validation DataLoader 0:  88%|██████████████████████████████████████████████████▊       | 7/8 [00:00<00:00, 206.29it/s]\u001b[A\n",
      "Validation DataLoader 0: 100%|██████████████████████████████████████████████████████████| 8/8 [00:00<00:00, 188.27it/s]\u001b[A\n",
      "Epoch 12: 100%|███████████████████████████████████████████████████████████████| 8/8 [00:00<00:00, 110.07it/s, v_num=10]\u001b[A\n",
      "Validation: |                                                                                    | 0/? [00:00<?, ?it/s]\u001b[A\n",
      "Validation:   0%|                                                                                | 0/8 [00:00<?, ?it/s]\u001b[A\n",
      "Validation DataLoader 0:   0%|                                                                   | 0/8 [00:00<?, ?it/s]\u001b[A\n",
      "Validation DataLoader 0:  12%|███████▎                                                  | 1/8 [00:00<00:00, 125.78it/s]\u001b[A\n",
      "Validation DataLoader 0:  25%|██████████████▌                                           | 2/8 [00:00<00:00, 155.79it/s]\u001b[A\n",
      "Validation DataLoader 0:  38%|█████████████████████▊                                    | 3/8 [00:00<00:00, 181.81it/s]\u001b[A\n",
      "Validation DataLoader 0:  50%|█████████████████████████████                             | 4/8 [00:00<00:00, 186.53it/s]\u001b[A\n",
      "Validation DataLoader 0:  62%|████████████████████████████████████▎                     | 5/8 [00:00<00:00, 233.16it/s]\u001b[A\n",
      "Validation DataLoader 0:  75%|███████████████████████████████████████████▌              | 6/8 [00:00<00:00, 203.37it/s]\u001b[A\n",
      "Validation DataLoader 0:  88%|██████████████████████████████████████████████████▊       | 7/8 [00:00<00:00, 204.59it/s]\u001b[A\n",
      "Validation DataLoader 0: 100%|██████████████████████████████████████████████████████████| 8/8 [00:00<00:00, 204.61it/s]\u001b[A\n",
      "Epoch 13: 100%|███████████████████████████████████████████████████████████████| 8/8 [00:00<00:00, 100.55it/s, v_num=10]\u001b[A\n",
      "Validation: |                                                                                    | 0/? [00:00<?, ?it/s]\u001b[A\n",
      "Validation:   0%|                                                                                | 0/8 [00:00<?, ?it/s]\u001b[A\n",
      "Validation DataLoader 0:   0%|                                                                   | 0/8 [00:00<?, ?it/s]\u001b[A\n",
      "Validation DataLoader 0:  12%|███████▍                                                   | 1/8 [00:00<00:00, 25.40it/s]\u001b[A\n",
      "Validation DataLoader 0:  25%|██████████████▊                                            | 2/8 [00:00<00:00, 45.86it/s]\u001b[A\n",
      "Validation DataLoader 0:  38%|██████████████████████▏                                    | 3/8 [00:00<00:00, 62.98it/s]\u001b[A\n",
      "Validation DataLoader 0:  50%|█████████████████████████████▌                             | 4/8 [00:00<00:00, 77.41it/s]\u001b[A\n",
      "Validation DataLoader 0:  62%|████████████████████████████████████▉                      | 5/8 [00:00<00:00, 85.18it/s]\u001b[A\n",
      "Validation DataLoader 0:  75%|████████████████████████████████████████████▎              | 6/8 [00:00<00:00, 99.43it/s]\u001b[A\n",
      "Validation DataLoader 0:  88%|███████████████████████████████████████████████████▋       | 7/8 [00:00<00:00, 92.37it/s]\u001b[A\n",
      "Validation DataLoader 0: 100%|███████████████████████████████████████████████████████████| 8/8 [00:00<00:00, 99.29it/s]\u001b[A\n",
      "Epoch 14: 100%|████████████████████████████████████████████████████████████████| 8/8 [00:00<00:00, 97.70it/s, v_num=10]\u001b[A\n",
      "Validation: |                                                                                    | 0/? [00:00<?, ?it/s]\u001b[A\n",
      "Validation:   0%|                                                                                | 0/8 [00:00<?, ?it/s]\u001b[A\n",
      "Validation DataLoader 0:   0%|                                                                   | 0/8 [00:00<?, ?it/s]\u001b[A\n",
      "Validation DataLoader 0:  12%|███████▎                                                  | 1/8 [00:00<00:00, 123.40it/s]\u001b[A\n",
      "Validation DataLoader 0:  25%|██████████████▌                                           | 2/8 [00:00<00:00, 153.60it/s]\u001b[A\n",
      "Validation DataLoader 0:  38%|█████████████████████▊                                    | 3/8 [00:00<00:00, 230.40it/s]\u001b[A\n",
      "Validation DataLoader 0:  50%|█████████████████████████████                             | 4/8 [00:00<00:00, 183.61it/s]\u001b[A\n",
      "Validation DataLoader 0:  62%|████████████████████████████████████▎                     | 5/8 [00:00<00:00, 186.18it/s]\u001b[A\n",
      "Validation DataLoader 0:  75%|███████████████████████████████████████████▌              | 6/8 [00:00<00:00, 197.53it/s]\u001b[A\n",
      "Validation DataLoader 0:  88%|██████████████████████████████████████████████████▊       | 7/8 [00:00<00:00, 216.08it/s]\u001b[A\n",
      "Validation DataLoader 0: 100%|██████████████████████████████████████████████████████████| 8/8 [00:00<00:00, 199.05it/s]\u001b[A\n",
      "Epoch 15: 100%|███████████████████████████████████████████████████████████████| 8/8 [00:00<00:00, 114.15it/s, v_num=10]\u001b[A\n",
      "Validation: |                                                                                    | 0/? [00:00<?, ?it/s]\u001b[A\n",
      "Validation:   0%|                                                                                | 0/8 [00:00<?, ?it/s]\u001b[A\n",
      "Validation DataLoader 0:   0%|                                                                   | 0/8 [00:00<?, ?it/s]\u001b[A\n",
      "Validation DataLoader 0:  12%|███████▎                                                  | 1/8 [00:00<00:00, 142.87it/s]\u001b[A\n",
      "Validation DataLoader 0:  25%|██████████████▌                                           | 2/8 [00:00<00:00, 181.84it/s]\u001b[A\n",
      "Validation DataLoader 0:  38%|█████████████████████▊                                    | 3/8 [00:00<00:00, 195.18it/s]\u001b[A\n",
      "Validation DataLoader 0:  50%|█████████████████████████████                             | 4/8 [00:00<00:00, 213.04it/s]\u001b[A\n",
      "Validation DataLoader 0:  62%|████████████████████████████████████▎                     | 5/8 [00:00<00:00, 219.56it/s]\u001b[A\n",
      "Validation DataLoader 0:  75%|███████████████████████████████████████████▌              | 6/8 [00:00<00:00, 206.64it/s]\u001b[A\n",
      "Validation DataLoader 0:  88%|██████████████████████████████████████████████████▊       | 7/8 [00:00<00:00, 210.19it/s]\u001b[A\n",
      "Validation DataLoader 0: 100%|██████████████████████████████████████████████████████████| 8/8 [00:00<00:00, 210.27it/s]\u001b[A\n",
      "Epoch 16: 100%|███████████████████████████████████████████████████████████████| 8/8 [00:00<00:00, 104.92it/s, v_num=10]\u001b[A\n",
      "Validation: |                                                                                    | 0/? [00:00<?, ?it/s]\u001b[A\n",
      "Validation:   0%|                                                                                | 0/8 [00:00<?, ?it/s]\u001b[A\n",
      "Validation DataLoader 0:   0%|                                                                   | 0/8 [00:00<?, ?it/s]\u001b[A\n",
      "Validation DataLoader 0:  12%|███████▎                                                  | 1/8 [00:00<00:00, 166.66it/s]\u001b[A\n",
      "Validation DataLoader 0:  25%|██████████████▌                                           | 2/8 [00:00<00:00, 183.82it/s]\u001b[A\n",
      "Validation DataLoader 0:  38%|█████████████████████▊                                    | 3/8 [00:00<00:00, 182.55it/s]\u001b[A\n",
      "Validation DataLoader 0:  50%|█████████████████████████████                             | 4/8 [00:00<00:00, 243.40it/s]\u001b[A\n",
      "Validation DataLoader 0:  62%|████████████████████████████████████▎                     | 5/8 [00:00<00:00, 304.25it/s]\u001b[A\n",
      "Validation DataLoader 0:  75%|███████████████████████████████████████████▌              | 6/8 [00:00<00:00, 212.90it/s]\u001b[A\n",
      "Validation DataLoader 0:  88%|██████████████████████████████████████████████████▊       | 7/8 [00:00<00:00, 214.01it/s]\u001b[A\n",
      "Validation DataLoader 0: 100%|██████████████████████████████████████████████████████████| 8/8 [00:00<00:00, 217.94it/s]\u001b[A\n",
      "Epoch 17: 100%|███████████████████████████████████████████████████████████████| 8/8 [00:00<00:00, 114.48it/s, v_num=10]\u001b[A\n",
      "Validation: |                                                                                    | 0/? [00:00<?, ?it/s]\u001b[A\n",
      "Validation:   0%|                                                                                | 0/8 [00:00<?, ?it/s]\u001b[A\n",
      "Validation DataLoader 0:   0%|                                                                   | 0/8 [00:00<?, ?it/s]\u001b[A\n",
      "Validation DataLoader 0:  12%|███████▎                                                  | 1/8 [00:00<00:00, 135.50it/s]\u001b[A\n",
      "Validation DataLoader 0:  25%|██████████████▌                                           | 2/8 [00:00<00:00, 178.66it/s]\u001b[A\n",
      "Validation DataLoader 0:  38%|█████████████████████▊                                    | 3/8 [00:00<00:00, 193.23it/s]\u001b[A\n",
      "Validation DataLoader 0:  50%|█████████████████████████████                             | 4/8 [00:00<00:00, 204.86it/s]\u001b[A\n",
      "Validation DataLoader 0:  62%|████████████████████████████████████▎                     | 5/8 [00:00<00:00, 212.53it/s]\u001b[A\n",
      "Validation DataLoader 0:  75%|███████████████████████████████████████████▌              | 6/8 [00:00<00:00, 215.32it/s]\u001b[A\n",
      "Validation DataLoader 0:  88%|██████████████████████████████████████████████████▊       | 7/8 [00:00<00:00, 214.30it/s]\u001b[A\n",
      "Validation DataLoader 0: 100%|██████████████████████████████████████████████████████████| 8/8 [00:00<00:00, 218.21it/s]\u001b[A\n",
      "Epoch 18: 100%|███████████████████████████████████████████████████████████████| 8/8 [00:00<00:00, 111.39it/s, v_num=10]\u001b[A\n",
      "Validation: |                                                                                    | 0/? [00:00<?, ?it/s]\u001b[A\n",
      "Validation:   0%|                                                                                | 0/8 [00:00<?, ?it/s]\u001b[A\n",
      "Validation DataLoader 0:   0%|                                                                   | 0/8 [00:00<?, ?it/s]\u001b[A\n",
      "Validation DataLoader 0:  12%|███████▎                                                  | 1/8 [00:00<00:00, 142.53it/s]\u001b[A\n",
      "Validation DataLoader 0:  25%|██████████████▌                                           | 2/8 [00:00<00:00, 172.92it/s]\u001b[A\n",
      "Validation DataLoader 0:  38%|█████████████████████▊                                    | 3/8 [00:00<00:00, 191.72it/s]\u001b[A\n",
      "Validation DataLoader 0:  50%|█████████████████████████████                             | 4/8 [00:00<00:00, 203.57it/s]\u001b[A\n",
      "Validation DataLoader 0:  62%|████████████████████████████████████▎                     | 5/8 [00:00<00:00, 211.39it/s]\u001b[A\n",
      "Validation DataLoader 0:  75%|███████████████████████████████████████████▌              | 6/8 [00:00<00:00, 212.84it/s]\u001b[A\n",
      "Validation DataLoader 0:  88%|██████████████████████████████████████████████████▊       | 7/8 [00:00<00:00, 211.12it/s]\u001b[A\n",
      "Validation DataLoader 0: 100%|██████████████████████████████████████████████████████████| 8/8 [00:00<00:00, 212.81it/s]\u001b[A\n",
      "Epoch 19: 100%|███████████████████████████████████████████████████████████████| 8/8 [00:00<00:00, 104.87it/s, v_num=10]\u001b[A\n",
      "Validation: |                                                                                    | 0/? [00:00<?, ?it/s]\u001b[A\n",
      "Validation:   0%|                                                                                | 0/8 [00:00<?, ?it/s]\u001b[A\n",
      "Validation DataLoader 0:   0%|                                                                   | 0/8 [00:00<?, ?it/s]\u001b[A\n",
      "Validation DataLoader 0:  12%|███████▎                                                  | 1/8 [00:00<00:00, 134.09it/s]\u001b[A\n",
      "Validation DataLoader 0:  25%|██████████████▌                                           | 2/8 [00:00<00:00, 173.73it/s]\u001b[A\n",
      "Validation DataLoader 0:  38%|█████████████████████▊                                    | 3/8 [00:00<00:00, 169.81it/s]\u001b[A\n",
      "Validation DataLoader 0:  50%|█████████████████████████████                             | 4/8 [00:00<00:00, 181.95it/s]\u001b[A\n",
      "Validation DataLoader 0:  62%|████████████████████████████████████▎                     | 5/8 [00:00<00:00, 192.25it/s]\u001b[A\n",
      "Validation DataLoader 0:  75%|███████████████████████████████████████████▌              | 6/8 [00:00<00:00, 200.02it/s]\u001b[A\n",
      "Validation DataLoader 0:  88%|██████████████████████████████████████████████████▊       | 7/8 [00:00<00:00, 190.10it/s]\u001b[A\n",
      "Validation DataLoader 0: 100%|██████████████████████████████████████████████████████████| 8/8 [00:00<00:00, 195.86it/s]\u001b[A\n",
      "Epoch 20: 100%|███████████████████████████████████████████████████████████████| 8/8 [00:00<00:00, 108.58it/s, v_num=10]\u001b[A\n",
      "Validation: |                                                                                    | 0/? [00:00<?, ?it/s]\u001b[A\n",
      "Validation:   0%|                                                                                | 0/8 [00:00<?, ?it/s]\u001b[A\n",
      "Validation DataLoader 0:   0%|                                                                   | 0/8 [00:00<?, ?it/s]\u001b[A\n",
      "Validation DataLoader 0:  12%|███████▎                                                  | 1/8 [00:00<00:00, 125.17it/s]\u001b[A\n",
      "Validation DataLoader 0:  25%|██████████████▌                                           | 2/8 [00:00<00:00, 155.66it/s]\u001b[A\n",
      "Validation DataLoader 0:  38%|█████████████████████▊                                    | 3/8 [00:00<00:00, 177.87it/s]\u001b[A\n",
      "Validation DataLoader 0:  50%|█████████████████████████████                             | 4/8 [00:00<00:00, 201.92it/s]\u001b[A\n",
      "Validation DataLoader 0:  62%|████████████████████████████████████▎                     | 5/8 [00:00<00:00, 212.15it/s]\u001b[A\n",
      "Validation DataLoader 0:  75%|███████████████████████████████████████████▌              | 6/8 [00:00<00:00, 254.58it/s]\u001b[A\n",
      "Validation DataLoader 0:  88%|██████████████████████████████████████████████████▊       | 7/8 [00:00<00:00, 217.52it/s]\u001b[A\n",
      "Validation DataLoader 0: 100%|██████████████████████████████████████████████████████████| 8/8 [00:00<00:00, 207.26it/s]\u001b[A\n",
      "Epoch 21: 100%|███████████████████████████████████████████████████████████████| 8/8 [00:00<00:00, 100.46it/s, v_num=10]\u001b[A\n",
      "Validation: |                                                                                    | 0/? [00:00<?, ?it/s]\u001b[A\n",
      "Validation:   0%|                                                                                | 0/8 [00:00<?, ?it/s]\u001b[A\n",
      "Validation DataLoader 0:   0%|                                                                   | 0/8 [00:00<?, ?it/s]\u001b[A\n",
      "Validation DataLoader 0:  12%|███████▎                                                  | 1/8 [00:00<00:00, 166.76it/s]\u001b[A\n",
      "Validation DataLoader 0:  25%|██████████████▌                                           | 2/8 [00:00<00:00, 185.39it/s]\u001b[A\n",
      "Validation DataLoader 0:  38%|█████████████████████▊                                    | 3/8 [00:00<00:00, 217.58it/s]\u001b[A\n",
      "Validation DataLoader 0:  50%|█████████████████████████████                             | 4/8 [00:00<00:00, 224.84it/s]\u001b[A\n",
      "Validation DataLoader 0:  62%|████████████████████████████████████▎                     | 5/8 [00:00<00:00, 219.43it/s]\u001b[A\n",
      "Validation DataLoader 0:  75%|███████████████████████████████████████████▌              | 6/8 [00:00<00:00, 228.69it/s]\u001b[A\n",
      "Validation DataLoader 0:  88%|██████████████████████████████████████████████████▊       | 7/8 [00:00<00:00, 224.09it/s]\u001b[A\n",
      "Validation DataLoader 0: 100%|██████████████████████████████████████████████████████████| 8/8 [00:00<00:00, 232.73it/s]\u001b[A\n",
      "Epoch 22: 100%|███████████████████████████████████████████████████████████████| 8/8 [00:00<00:00, 110.27it/s, v_num=10]\u001b[A\n",
      "Validation: |                                                                                    | 0/? [00:00<?, ?it/s]\u001b[A\n",
      "Validation:   0%|                                                                                | 0/8 [00:00<?, ?it/s]\u001b[A\n",
      "Validation DataLoader 0:   0%|                                                                   | 0/8 [00:00<?, ?it/s]\u001b[A\n",
      "Validation DataLoader 0:  12%|███████▎                                                  | 1/8 [00:00<00:00, 147.87it/s]\u001b[A\n",
      "Validation DataLoader 0:  25%|██████████████▌                                           | 2/8 [00:00<00:00, 151.21it/s]\u001b[A\n",
      "Validation DataLoader 0:  38%|█████████████████████▊                                    | 3/8 [00:00<00:00, 173.70it/s]\u001b[A\n",
      "Validation DataLoader 0:  50%|█████████████████████████████                             | 4/8 [00:00<00:00, 181.55it/s]\u001b[A\n",
      "Validation DataLoader 0:  62%|████████████████████████████████████▎                     | 5/8 [00:00<00:00, 180.88it/s]\u001b[A\n",
      "Validation DataLoader 0:  75%|███████████████████████████████████████████▌              | 6/8 [00:00<00:00, 194.46it/s]\u001b[A\n",
      "Validation DataLoader 0:  88%|██████████████████████████████████████████████████▊       | 7/8 [00:00<00:00, 180.76it/s]\u001b[A\n",
      "Validation DataLoader 0: 100%|██████████████████████████████████████████████████████████| 8/8 [00:00<00:00, 182.07it/s]\u001b[A\n",
      "Epoch 23: 100%|███████████████████████████████████████████████████████████████| 8/8 [00:00<00:00, 102.20it/s, v_num=10]\u001b[A\n",
      "Validation: |                                                                                    | 0/? [00:00<?, ?it/s]\u001b[A\n",
      "Validation:   0%|                                                                                | 0/8 [00:00<?, ?it/s]\u001b[A\n",
      "Validation DataLoader 0:   0%|                                                                   | 0/8 [00:00<?, ?it/s]\u001b[A\n",
      "Validation DataLoader 0:  12%|███████▎                                                  | 1/8 [00:00<00:00, 165.18it/s]\u001b[A\n",
      "Validation DataLoader 0:  25%|██████████████▌                                           | 2/8 [00:00<00:00, 248.11it/s]\u001b[A\n",
      "Validation DataLoader 0:  38%|█████████████████████▊                                    | 3/8 [00:00<00:00, 214.87it/s]\u001b[A\n",
      "Validation DataLoader 0:  50%|█████████████████████████████                             | 4/8 [00:00<00:00, 221.89it/s]\u001b[A\n",
      "Validation DataLoader 0:  62%|████████████████████████████████████▎                     | 5/8 [00:00<00:00, 226.63it/s]\u001b[A\n",
      "Validation DataLoader 0:  75%|███████████████████████████████████████████▌              | 6/8 [00:00<00:00, 225.86it/s]\u001b[A\n",
      "Validation DataLoader 0:  88%|██████████████████████████████████████████████████▊       | 7/8 [00:00<00:00, 228.90it/s]\u001b[A\n",
      "Validation DataLoader 0: 100%|██████████████████████████████████████████████████████████| 8/8 [00:00<00:00, 215.89it/s]\u001b[A\n",
      "Epoch 24: 100%|███████████████████████████████████████████████████████████████| 8/8 [00:00<00:00, 116.18it/s, v_num=10]\u001b[A\n",
      "Validation: |                                                                                    | 0/? [00:00<?, ?it/s]\u001b[A\n",
      "Validation:   0%|                                                                                | 0/8 [00:00<?, ?it/s]\u001b[A\n",
      "Validation DataLoader 0:   0%|                                                                   | 0/8 [00:00<?, ?it/s]\u001b[A\n",
      "Validation DataLoader 0:  12%|███████▎                                                  | 1/8 [00:00<00:00, 147.25it/s]\u001b[A\n",
      "Validation DataLoader 0:  25%|██████████████▌                                           | 2/8 [00:00<00:00, 180.77it/s]\u001b[A\n",
      "Validation DataLoader 0:  38%|█████████████████████▊                                    | 3/8 [00:00<00:00, 199.69it/s]\u001b[A\n",
      "Validation DataLoader 0:  50%|█████████████████████████████                             | 4/8 [00:00<00:00, 205.29it/s]\u001b[A\n",
      "Validation DataLoader 0:  62%|████████████████████████████████████▎                     | 5/8 [00:00<00:00, 230.15it/s]\u001b[A\n",
      "Validation DataLoader 0:  75%|███████████████████████████████████████████▌              | 6/8 [00:00<00:00, 205.02it/s]\u001b[A\n",
      "Validation DataLoader 0:  88%|██████████████████████████████████████████████████▊       | 7/8 [00:00<00:00, 214.28it/s]\u001b[A\n",
      "Validation DataLoader 0: 100%|██████████████████████████████████████████████████████████| 8/8 [00:00<00:00, 206.38it/s]\u001b[A\n",
      "Epoch 25: 100%|███████████████████████████████████████████████████████████████| 8/8 [00:00<00:00, 109.52it/s, v_num=10]\u001b[A\n",
      "Validation: |                                                                                    | 0/? [00:00<?, ?it/s]\u001b[A\n",
      "Validation:   0%|                                                                                | 0/8 [00:00<?, ?it/s]\u001b[A\n",
      "Validation DataLoader 0:   0%|                                                                   | 0/8 [00:00<?, ?it/s]\u001b[A\n",
      "Validation DataLoader 0:  12%|███████▎                                                  | 1/8 [00:00<00:00, 129.16it/s]\u001b[A\n",
      "Validation DataLoader 0:  25%|██████████████▌                                           | 2/8 [00:00<00:00, 170.34it/s]\u001b[A\n",
      "Validation DataLoader 0:  38%|█████████████████████▊                                    | 3/8 [00:00<00:00, 190.61it/s]\u001b[A\n",
      "Validation DataLoader 0:  50%|█████████████████████████████                             | 4/8 [00:00<00:00, 192.33it/s]\u001b[A\n",
      "Validation DataLoader 0:  62%|████████████████████████████████████▎                     | 5/8 [00:00<00:00, 195.08it/s]\u001b[A\n",
      "Validation DataLoader 0:  75%|███████████████████████████████████████████▌              | 6/8 [00:00<00:00, 202.47it/s]\u001b[A\n",
      "Validation DataLoader 0:  88%|██████████████████████████████████████████████████▊       | 7/8 [00:00<00:00, 202.13it/s]\u001b[A\n",
      "Validation DataLoader 0: 100%|██████████████████████████████████████████████████████████| 8/8 [00:00<00:00, 205.16it/s]\u001b[A\n",
      "Epoch 26: 100%|███████████████████████████████████████████████████████████████| 8/8 [00:00<00:00, 102.59it/s, v_num=10]\u001b[A\n",
      "Validation: |                                                                                    | 0/? [00:00<?, ?it/s]\u001b[A\n",
      "Validation:   0%|                                                                                | 0/8 [00:00<?, ?it/s]\u001b[A\n",
      "Validation DataLoader 0:   0%|                                                                   | 0/8 [00:00<?, ?it/s]\u001b[A\n",
      "Validation DataLoader 0:  12%|███████▎                                                  | 1/8 [00:00<00:00, 101.21it/s]\u001b[A\n",
      "Validation DataLoader 0:  25%|██████████████▌                                           | 2/8 [00:00<00:00, 137.17it/s]\u001b[A\n",
      "Validation DataLoader 0:  38%|█████████████████████▊                                    | 3/8 [00:00<00:00, 154.25it/s]\u001b[A\n",
      "Validation DataLoader 0:  50%|█████████████████████████████                             | 4/8 [00:00<00:00, 171.29it/s]\u001b[A\n",
      "Validation DataLoader 0:  62%|████████████████████████████████████▎                     | 5/8 [00:00<00:00, 186.29it/s]\u001b[A\n",
      "Validation DataLoader 0:  75%|███████████████████████████████████████████▌              | 6/8 [00:00<00:00, 192.65it/s]\u001b[A\n",
      "Validation DataLoader 0:  88%|██████████████████████████████████████████████████▊       | 7/8 [00:00<00:00, 196.72it/s]\u001b[A\n",
      "Validation DataLoader 0: 100%|██████████████████████████████████████████████████████████| 8/8 [00:00<00:00, 187.02it/s]\u001b[A\n",
      "Epoch 27: 100%|███████████████████████████████████████████████████████████████| 8/8 [00:00<00:00, 114.37it/s, v_num=10]\u001b[A\n",
      "Validation: |                                                                                    | 0/? [00:00<?, ?it/s]\u001b[A\n",
      "Validation:   0%|                                                                                | 0/8 [00:00<?, ?it/s]\u001b[A\n",
      "Validation DataLoader 0:   0%|                                                                   | 0/8 [00:00<?, ?it/s]\u001b[A\n",
      "Validation DataLoader 0:  12%|███████▎                                                  | 1/8 [00:00<00:00, 166.65it/s]\u001b[A\n",
      "Validation DataLoader 0:  25%|██████████████▌                                           | 2/8 [00:00<00:00, 199.96it/s]\u001b[A\n",
      "Validation DataLoader 0:  38%|█████████████████████▊                                    | 3/8 [00:00<00:00, 196.62it/s]\u001b[A\n",
      "Validation DataLoader 0:  50%|█████████████████████████████                             | 4/8 [00:00<00:00, 219.07it/s]\u001b[A\n",
      "Validation DataLoader 0:  62%|████████████████████████████████████▎                     | 5/8 [00:00<00:00, 215.00it/s]\u001b[A\n",
      "Validation DataLoader 0:  75%|███████████████████████████████████████████▌              | 6/8 [00:00<00:00, 220.14it/s]\u001b[A\n",
      "Validation DataLoader 0:  88%|██████████████████████████████████████████████████▊       | 7/8 [00:00<00:00, 221.34it/s]\u001b[A\n",
      "Validation DataLoader 0: 100%|██████████████████████████████████████████████████████████| 8/8 [00:00<00:00, 224.54it/s]\u001b[A\n",
      "Epoch 28: 100%|███████████████████████████████████████████████████████████████| 8/8 [00:00<00:00, 111.19it/s, v_num=10]\u001b[A\n",
      "Validation: |                                                                                    | 0/? [00:00<?, ?it/s]\u001b[A\n",
      "Validation:   0%|                                                                                | 0/8 [00:00<?, ?it/s]\u001b[A\n",
      "Validation DataLoader 0:   0%|                                                                   | 0/8 [00:00<?, ?it/s]\u001b[A\n",
      "Validation DataLoader 0:  12%|███████▎                                                  | 1/8 [00:00<00:00, 142.85it/s]\u001b[A\n",
      "Validation DataLoader 0:  25%|██████████████▌                                           | 2/8 [00:00<00:00, 199.85it/s]\u001b[A\n",
      "Validation DataLoader 0:  38%|█████████████████████▊                                    | 3/8 [00:00<00:00, 183.45it/s]\u001b[A\n",
      "Validation DataLoader 0:  50%|█████████████████████████████                             | 4/8 [00:00<00:00, 196.41it/s]\u001b[A\n",
      "Validation DataLoader 0:  62%|████████████████████████████████████▎                     | 5/8 [00:00<00:00, 195.24it/s]\u001b[A\n",
      "Validation DataLoader 0:  75%|███████████████████████████████████████████▌              | 6/8 [00:00<00:00, 188.86it/s]\u001b[A\n",
      "Validation DataLoader 0:  88%|██████████████████████████████████████████████████▊       | 7/8 [00:00<00:00, 195.63it/s]\u001b[A\n",
      "Validation DataLoader 0: 100%|██████████████████████████████████████████████████████████| 8/8 [00:00<00:00, 196.18it/s]\u001b[A\n",
      "Epoch 29: 100%|███████████████████████████████████████████████████████████████| 8/8 [00:00<00:00, 115.65it/s, v_num=10]\u001b[A\n",
      "Validation: |                                                                                    | 0/? [00:00<?, ?it/s]\u001b[A\n",
      "Validation:   0%|                                                                                | 0/8 [00:00<?, ?it/s]\u001b[A\n",
      "Validation DataLoader 0:   0%|                                                                   | 0/8 [00:00<?, ?it/s]\u001b[A\n",
      "Validation DataLoader 0:  12%|███████▎                                                  | 1/8 [00:00<00:00, 147.95it/s]\u001b[A\n",
      "Validation DataLoader 0:  25%|██████████████▌                                           | 2/8 [00:00<00:00, 181.19it/s]\u001b[A\n",
      "Validation DataLoader 0:  38%|█████████████████████▊                                    | 3/8 [00:00<00:00, 199.47it/s]\u001b[A\n",
      "Validation DataLoader 0:  50%|█████████████████████████████                             | 4/8 [00:00<00:00, 212.96it/s]\u001b[A\n",
      "Validation DataLoader 0:  62%|████████████████████████████████████▎                     | 5/8 [00:00<00:00, 217.03it/s]\u001b[A\n",
      "Validation DataLoader 0:  75%|███████████████████████████████████████████▌              | 6/8 [00:00<00:00, 221.94it/s]\u001b[A\n",
      "Validation DataLoader 0:  88%|██████████████████████████████████████████████████▊       | 7/8 [00:00<00:00, 225.56it/s]\u001b[A\n",
      "Validation DataLoader 0: 100%|██████████████████████████████████████████████████████████| 8/8 [00:00<00:00, 235.06it/s]\u001b[A\n",
      "Epoch 29: 100%|████████████████████████████████████████████████████████████████| 8/8 [00:00<00:00, 63.57it/s, v_num=10]\u001b[A"
     ]
    },
    {
     "name": "stderr",
     "output_type": "stream",
     "text": [
      "`Trainer.fit` stopped: `max_epochs=30` reached.\n"
     ]
    },
    {
     "name": "stdout",
     "output_type": "stream",
     "text": [
      "Epoch 29: 100%|████████████████████████████████████████████████████████████████| 8/8 [00:00<00:00, 54.12it/s, v_num=10]\n"
     ]
    }
   ],
   "source": [
    "ff_trainer = Trainer(deterministic=True,\n",
    "max_epochs=30,\n",
    "log_every_n_steps=5,\n",
    "logger=logger,\n",
    "callbacks=[ErrorTracker()])\n",
    "ff_trainer.fit(ffn_module,datamodule=ffn_dm)"
   ]
  },
  {
   "cell_type": "code",
   "execution_count": 189,
   "id": "a67a1384-1070-44f2-8df7-2cf24d0f1a0d",
   "metadata": {},
   "outputs": [
    {
     "name": "stdout",
     "output_type": "stream",
     "text": [
      "Testing DataLoader 0: 100%|██████████████████████████████████████████████████████████████| 8/8 [00:00<00:00, 50.31it/s]\n",
      "────────────────────────────────────────────────────────────────────────────────────────────────────────────────────────\n",
      "       Test metric             DataLoader 0\n",
      "────────────────────────────────────────────────────────────────────────────────────────────────────────────────────────\n",
      "        test_loss            176.0777587890625\n",
      "        test_mae            11.470616340637207\n",
      "────────────────────────────────────────────────────────────────────────────────────────────────────────────────────────\n"
     ]
    },
    {
     "data": {
      "text/plain": [
       "[{'test_loss': 176.0777587890625, 'test_mae': 11.470616340637207}]"
      ]
     },
     "execution_count": 189,
     "metadata": {},
     "output_type": "execute_result"
    }
   ],
   "source": [
    "ff_trainer.test(ffn_module , datamodule=ffn_dm)"
   ]
  },
  {
   "cell_type": "code",
   "execution_count": 221,
   "id": "4db82f48-4f2e-4c62-b099-f3536127122b",
   "metadata": {},
   "outputs": [
    {
     "data": {
      "text/plain": [
       "tensor(12.4260, grad_fn=<MeanBackward0>)"
      ]
     },
     "execution_count": 221,
     "metadata": {},
     "output_type": "execute_result"
    }
   ],
   "source": [
    "preds = ffn_module(X)\n",
    "torch.abs(Y-preds).mean()"
   ]
  },
  {
   "cell_type": "code",
   "execution_count": null,
   "id": "46b41633-13b7-4675-aac8-9f702740ed66",
   "metadata": {
    "scrolled": true
   },
   "outputs": [],
   "source": [
    "import matplotlib.pyplot as plt\n",
    "plt.plot(preds.detach().numpy(),Y.detach().numpy(),'-o')"
   ]
  }
 ],
 "metadata": {
  "kernelspec": {
   "display_name": "Python 3 (ipykernel)",
   "language": "python",
   "name": "python3"
  },
  "language_info": {
   "codemirror_mode": {
    "name": "ipython",
    "version": 3
   },
   "file_extension": ".py",
   "mimetype": "text/x-python",
   "name": "python",
   "nbconvert_exporter": "python",
   "pygments_lexer": "ipython3",
   "version": "3.11.9"
  }
 },
 "nbformat": 4,
 "nbformat_minor": 5
}
