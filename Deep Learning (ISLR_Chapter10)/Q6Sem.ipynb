{
 "cells": [
  {
   "cell_type": "code",
   "execution_count": 1,
   "id": "20bdc01f-bd5c-43fb-9323-18ab3eb8b6b3",
   "metadata": {},
   "outputs": [
    {
     "name": "stdout",
     "output_type": "stream",
     "text": [
      "(392, 4)\n"
     ]
    }
   ],
   "source": [
    "import pandas as pd\n",
    "import statsmodels.api as sm\n",
    "\n",
    "# Load the Auto dataset\n",
    "auto = sm.datasets.get_rdataset(\"Auto\", \"ISLR\").data\n",
    "\n",
    "# Select specific columns\n",
    "auto_subset = auto[['acceleration', 'horsepower', 'weight','mpg']]\n",
    "\n",
    "# Check dimensions\n",
    "print(auto_subset.shape)\n"
   ]
  },
  {
   "cell_type": "code",
   "execution_count": 2,
   "id": "5f3bff2e-2701-4845-a3f0-51017d91959a",
   "metadata": {},
   "outputs": [],
   "source": [
    "import numpy as np, pandas as pd\n",
    "from matplotlib.pyplot import subplots\n",
    "from sklearn.linear_model import \\\n",
    "(LinearRegression ,\n",
    "LogisticRegression ,\n",
    "Lasso)\n",
    "from sklearn.preprocessing import StandardScaler\n",
    "from sklearn.model_selection import KFold\n",
    "from sklearn.pipeline import Pipeline\n",
    "from ISLP import load_data\n",
    "from ISLP.models import ModelSpec as MS\n",
    "from sklearn.model_selection import \\\n",
    "(train_test_split ,\n",
    "GridSearchCV)\n",
    "\n",
    "from ISLP.torch import (SimpleDataModule ,\n",
    "SimpleModule ,\n",
    "ErrorTracker ,\n",
    "rec_num_workers)\n",
    "\n",
    "import torch\n",
    "import torch.nn as nn\n",
    "import torch.optim as optim\n",
    "import torchinfo\n",
    "from torch.utils.data import TensorDataset"
   ]
  },
  {
   "cell_type": "code",
   "execution_count": 3,
   "id": "60cd1a55-eada-489d-8236-a3ae825a0e8e",
   "metadata": {},
   "outputs": [
    {
     "data": {
      "text/html": [
       "<div>\n",
       "<style scoped>\n",
       "    .dataframe tbody tr th:only-of-type {\n",
       "        vertical-align: middle;\n",
       "    }\n",
       "\n",
       "    .dataframe tbody tr th {\n",
       "        vertical-align: top;\n",
       "    }\n",
       "\n",
       "    .dataframe thead th {\n",
       "        text-align: right;\n",
       "    }\n",
       "</style>\n",
       "<table border=\"1\" class=\"dataframe\">\n",
       "  <thead>\n",
       "    <tr style=\"text-align: right;\">\n",
       "      <th></th>\n",
       "      <th>acceleration</th>\n",
       "      <th>horsepower</th>\n",
       "      <th>weight</th>\n",
       "      <th>mpg</th>\n",
       "    </tr>\n",
       "    <tr>\n",
       "      <th>rownames</th>\n",
       "      <th></th>\n",
       "      <th></th>\n",
       "      <th></th>\n",
       "      <th></th>\n",
       "    </tr>\n",
       "  </thead>\n",
       "  <tbody>\n",
       "    <tr>\n",
       "      <th>1</th>\n",
       "      <td>12.0</td>\n",
       "      <td>130</td>\n",
       "      <td>3504</td>\n",
       "      <td>18.0</td>\n",
       "    </tr>\n",
       "    <tr>\n",
       "      <th>2</th>\n",
       "      <td>11.5</td>\n",
       "      <td>165</td>\n",
       "      <td>3693</td>\n",
       "      <td>15.0</td>\n",
       "    </tr>\n",
       "    <tr>\n",
       "      <th>3</th>\n",
       "      <td>11.0</td>\n",
       "      <td>150</td>\n",
       "      <td>3436</td>\n",
       "      <td>18.0</td>\n",
       "    </tr>\n",
       "    <tr>\n",
       "      <th>4</th>\n",
       "      <td>12.0</td>\n",
       "      <td>150</td>\n",
       "      <td>3433</td>\n",
       "      <td>16.0</td>\n",
       "    </tr>\n",
       "    <tr>\n",
       "      <th>5</th>\n",
       "      <td>10.5</td>\n",
       "      <td>140</td>\n",
       "      <td>3449</td>\n",
       "      <td>17.0</td>\n",
       "    </tr>\n",
       "  </tbody>\n",
       "</table>\n",
       "</div>"
      ],
      "text/plain": [
       "          acceleration  horsepower  weight   mpg\n",
       "rownames                                        \n",
       "1                 12.0         130    3504  18.0\n",
       "2                 11.5         165    3693  15.0\n",
       "3                 11.0         150    3436  18.0\n",
       "4                 12.0         150    3433  16.0\n",
       "5                 10.5         140    3449  17.0"
      ]
     },
     "execution_count": 3,
     "metadata": {},
     "output_type": "execute_result"
    }
   ],
   "source": [
    "auto_subset.head()"
   ]
  },
  {
   "cell_type": "code",
   "execution_count": 4,
   "id": "a8799773-7426-4e72-b594-2b92a08875d1",
   "metadata": {},
   "outputs": [
    {
     "name": "stderr",
     "output_type": "stream",
     "text": [
      "Seed set to 0\n"
     ]
    }
   ],
   "source": [
    "from torchmetrics import (MeanAbsoluteError ,\n",
    "R2Score)\n",
    "from torchinfo import summary\n",
    "from torchvision.io import read_image\n",
    "from pytorch_lightning import Trainer\n",
    "from pytorch_lightning.loggers import CSVLogger\n",
    "from pytorch_lightning import seed_everything\n",
    "seed_everything(0, workers=True)\n",
    "torch.use_deterministic_algorithms(True , warn_only=True)"
   ]
  },
  {
   "cell_type": "code",
   "execution_count": 5,
   "id": "ca690f65-6dbc-4f79-9266-2e43f7b56662",
   "metadata": {},
   "outputs": [
    {
     "data": {
      "text/plain": [
       "numpy.ndarray"
      ]
     },
     "execution_count": 5,
     "metadata": {},
     "output_type": "execute_result"
    }
   ],
   "source": [
    "X = auto_subset[['acceleration','weight','horsepower']]\n",
    "Y = auto_subset[['mpg']]\n",
    "Y = Y.to_numpy()\n",
    "X = X.to_numpy()\n",
    "type(X)\n",
    "# Y"
   ]
  },
  {
   "cell_type": "code",
   "execution_count": 6,
   "id": "afa8df85-e567-4b84-8c8b-c0a934d772ef",
   "metadata": {},
   "outputs": [
    {
     "data": {
      "text/plain": [
       "numpy.ndarray"
      ]
     },
     "execution_count": 6,
     "metadata": {},
     "output_type": "execute_result"
    }
   ],
   "source": [
    "(X_train,X_test,Y_train,Y_test) = train_test_split(X,Y,test_size=1/3,random_state=1)\n",
    "X_train.shape\n",
    "type(X_train)"
   ]
  },
  {
   "cell_type": "code",
   "execution_count": 7,
   "id": "f7c2e380-2162-4928-b046-f55449f587e4",
   "metadata": {},
   "outputs": [],
   "source": [
    "class FFNN(nn.Module):\n",
    "    def __init__(self , input_size):\n",
    "        super(FFNN , self).__init__()\n",
    "        self.flatten = nn.Flatten()\n",
    "        self.sequential = nn.Sequential(\n",
    "        nn.Linear(input_size , 60),\n",
    "        nn.ReLU(),\n",
    "        nn.Dropout (0.5),\n",
    "        nn.Linear(60, 1))\n",
    "    def forward(self , x):\n",
    "        x = self.flatten(x)\n",
    "        return self.sequential(x).squeeze(-1)\n",
    "        # return torch.flatten(self.sequential(x))"
   ]
  },
  {
   "cell_type": "code",
   "execution_count": 8,
   "id": "6635600a-a742-46cd-af0f-4e7968f09d37",
   "metadata": {},
   "outputs": [
    {
     "data": {
      "text/plain": [
       "FFNN(\n",
       "  (flatten): Flatten(start_dim=1, end_dim=-1)\n",
       "  (sequential): Sequential(\n",
       "    (0): Linear(in_features=3, out_features=60, bias=True)\n",
       "    (1): ReLU()\n",
       "    (2): Dropout(p=0.5, inplace=False)\n",
       "    (3): Linear(in_features=60, out_features=1, bias=True)\n",
       "  )\n",
       ")"
      ]
     },
     "execution_count": 8,
     "metadata": {},
     "output_type": "execute_result"
    }
   ],
   "source": [
    "ffmodel = FFNN(X.shape[1])\n",
    "ffmodel"
   ]
  },
  {
   "cell_type": "code",
   "execution_count": 9,
   "id": "bc402f6b-6b18-4c00-834b-fc7f2734417d",
   "metadata": {},
   "outputs": [
    {
     "data": {
      "text/plain": [
       "===================================================================================================================\n",
       "Layer (type:depth-idx)                   Input Shape               Output Shape              Param #\n",
       "===================================================================================================================\n",
       "FFNN                                     [392, 3]                  [392]                     --\n",
       "├─Flatten: 1-1                           [392, 3]                  [392, 3]                  --\n",
       "├─Sequential: 1-2                        [392, 3]                  [392, 1]                  --\n",
       "│    └─Linear: 2-1                       [392, 3]                  [392, 60]                 240\n",
       "│    └─ReLU: 2-2                         [392, 60]                 [392, 60]                 --\n",
       "│    └─Dropout: 2-3                      [392, 60]                 [392, 60]                 --\n",
       "│    └─Linear: 2-4                       [392, 60]                 [392, 1]                  61\n",
       "===================================================================================================================\n",
       "Total params: 301\n",
       "Trainable params: 301\n",
       "Non-trainable params: 0\n",
       "Total mult-adds (Units.MEGABYTES): 0.12\n",
       "===================================================================================================================\n",
       "Input size (MB): 0.00\n",
       "Forward/backward pass size (MB): 0.19\n",
       "Params size (MB): 0.00\n",
       "Estimated Total Size (MB): 0.20\n",
       "==================================================================================================================="
      ]
     },
     "execution_count": 9,
     "metadata": {},
     "output_type": "execute_result"
    }
   ],
   "source": [
    "summary(ffmodel,\n",
    "input_size=X.shape,\n",
    "col_names=['input_size',\n",
    "'output_size',\n",
    "'num_params'])"
   ]
  },
  {
   "cell_type": "code",
   "execution_count": 10,
   "id": "83f113b1-f3a0-4741-af64-c3b394701eb1",
   "metadata": {},
   "outputs": [
    {
     "data": {
      "text/plain": [
       "torch.Size([392])"
      ]
     },
     "execution_count": 10,
     "metadata": {},
     "output_type": "execute_result"
    }
   ],
   "source": [
    "X = torch.tensor(X.astype(np.float32))\n",
    "Y = torch.tensor(Y.astype(np.float32)).view(-1)\n",
    "fnn_train = TensorDataset(X,Y)\n",
    "#X.shape\n",
    "Y.shape"
   ]
  },
  {
   "cell_type": "code",
   "execution_count": 11,
   "id": "c0fa4700-d7a8-41fb-b0c1-503a1d600e7d",
   "metadata": {},
   "outputs": [
    {
     "data": {
      "text/plain": [
       "(tensor([[  11.5000, 3693.0000,  165.0000],\n",
       "         [  11.0000, 3436.0000,  150.0000],\n",
       "         [  12.0000, 3433.0000,  150.0000],\n",
       "         [  10.5000, 3449.0000,  140.0000]]),\n",
       " tensor([15., 18., 16., 17.]))"
      ]
     },
     "execution_count": 11,
     "metadata": {},
     "output_type": "execute_result"
    }
   ],
   "source": [
    "fnn_train[1:5]"
   ]
  },
  {
   "cell_type": "code",
   "execution_count": 12,
   "id": "9539f15a-32be-4a80-a501-b11db7be23e6",
   "metadata": {},
   "outputs": [],
   "source": [
    "max_num_workers = rec_num_workers()\n",
    "\n",
    "ffn_dm = SimpleDataModule(fnn_train,\n",
    "fnn_train,\n",
    "batch_size=50,\n",
    "num_workers=min(4,max_num_workers),\n",
    "validation=fnn_train)"
   ]
  },
  {
   "cell_type": "code",
   "execution_count": 13,
   "id": "024c8310-4577-452e-a952-540d44b1016c",
   "metadata": {},
   "outputs": [
    {
     "name": "stdout",
     "output_type": "stream",
     "text": [
      "X shape: torch.Size([392, 3]), Y shape: torch.Size([392])\n",
      "Sample from dataset: (tensor([  12., 3504.,  130.]), tensor(18.))\n"
     ]
    }
   ],
   "source": [
    "print(f\"X shape: {X.shape}, Y shape: {Y.shape}\")\n",
    "print(f\"Sample from dataset: {fnn_train[0]}\")"
   ]
  },
  {
   "cell_type": "code",
   "execution_count": 14,
   "id": "b4051e52-2ce8-4356-9135-12f2693902dd",
   "metadata": {},
   "outputs": [],
   "source": [
    "ffn_module = SimpleModule.regression(ffmodel,\n",
    "metrics={'mae':MeanAbsoluteError()})\n",
    "\n",
    "logger = CSVLogger('logs', name='fnn')"
   ]
  },
  {
   "cell_type": "code",
   "execution_count": 15,
   "id": "e1ff8d85-c285-4295-89b8-fa501f60ab34",
   "metadata": {},
   "outputs": [
    {
     "name": "stderr",
     "output_type": "stream",
     "text": [
      "GPU available: False, used: False\n",
      "TPU available: False, using: 0 TPU cores\n",
      "HPU available: False, using: 0 HPUs\n",
      "\n",
      "  | Name  | Type    | Params | Mode \n",
      "------------------------------------------\n",
      "0 | model | FFNN    | 301    | train\n",
      "1 | loss  | MSELoss | 0      | train\n",
      "------------------------------------------\n",
      "301       Trainable params\n",
      "0         Non-trainable params\n",
      "301       Total params\n",
      "0.001     Total estimated model params size (MB)\n",
      "8         Modules in train mode\n",
      "0         Modules in eval mode\n"
     ]
    },
    {
     "name": "stdout",
     "output_type": "stream",
     "text": [
      "Epoch 0: 100%|█████████████████████████████████████████████████████████████████| 8/8 [00:09<00:00,  0.84it/s, v_num=12]\n",
      "Validation: |                                                                                    | 0/? [00:00<?, ?it/s]\u001b[A\n",
      "Validation:   0%|                                                                                | 0/8 [00:00<?, ?it/s]\u001b[A\n",
      "Validation DataLoader 0:   0%|                                                                   | 0/8 [00:00<?, ?it/s]\u001b[A\n",
      "Validation DataLoader 0:  12%|███████▎                                                  | 1/8 [00:00<00:00, 111.03it/s]\u001b[A\n",
      "Validation DataLoader 0:  25%|██████████████▌                                           | 2/8 [00:00<00:00, 138.30it/s]\u001b[A\n",
      "Validation DataLoader 0:  38%|█████████████████████▊                                    | 3/8 [00:00<00:00, 153.50it/s]\u001b[A\n",
      "Validation DataLoader 0:  50%|█████████████████████████████                             | 4/8 [00:00<00:00, 142.09it/s]\u001b[A\n",
      "Validation DataLoader 0:  62%|████████████████████████████████████▎                     | 5/8 [00:00<00:00, 144.22it/s]\u001b[A\n",
      "Validation DataLoader 0:  75%|███████████████████████████████████████████▌              | 6/8 [00:00<00:00, 151.24it/s]\u001b[A\n",
      "Validation DataLoader 0:  88%|██████████████████████████████████████████████████▊       | 7/8 [00:00<00:00, 148.75it/s]\u001b[A\n",
      "Validation DataLoader 0: 100%|██████████████████████████████████████████████████████████| 8/8 [00:00<00:00, 153.67it/s]\u001b[A\n",
      "Epoch 1: 100%|█████████████████████████████████████████████████████████████████| 8/8 [00:00<00:00, 77.65it/s, v_num=12]\u001b[A\n",
      "Validation: |                                                                                    | 0/? [00:00<?, ?it/s]\u001b[A\n",
      "Validation:   0%|                                                                                | 0/8 [00:00<?, ?it/s]\u001b[A\n",
      "Validation DataLoader 0:   0%|                                                                   | 0/8 [00:00<?, ?it/s]\u001b[A\n",
      "Validation DataLoader 0:  12%|███████▎                                                  | 1/8 [00:00<00:00, 113.22it/s]\u001b[A\n",
      "Validation DataLoader 0:  25%|██████████████▌                                           | 2/8 [00:00<00:00, 133.56it/s]\u001b[A\n",
      "Validation DataLoader 0:  38%|█████████████████████▊                                    | 3/8 [00:00<00:00, 148.44it/s]\u001b[A\n",
      "Validation DataLoader 0:  50%|█████████████████████████████                             | 4/8 [00:00<00:00, 147.02it/s]\u001b[A\n",
      "Validation DataLoader 0:  62%|████████████████████████████████████▎                     | 5/8 [00:00<00:00, 135.95it/s]\u001b[A\n",
      "Validation DataLoader 0:  75%|███████████████████████████████████████████▌              | 6/8 [00:00<00:00, 135.91it/s]\u001b[A\n",
      "Validation DataLoader 0:  88%|██████████████████████████████████████████████████▊       | 7/8 [00:00<00:00, 139.58it/s]\u001b[A\n",
      "Validation DataLoader 0: 100%|██████████████████████████████████████████████████████████| 8/8 [00:00<00:00, 133.06it/s]\u001b[A\n",
      "Epoch 2: 100%|█████████████████████████████████████████████████████████████████| 8/8 [00:00<00:00, 67.92it/s, v_num=12]\u001b[A\n",
      "Validation: |                                                                                    | 0/? [00:00<?, ?it/s]\u001b[A\n",
      "Validation:   0%|                                                                                | 0/8 [00:00<?, ?it/s]\u001b[A\n",
      "Validation DataLoader 0:   0%|                                                                   | 0/8 [00:00<?, ?it/s]\u001b[A\n",
      "Validation DataLoader 0:  12%|███████▍                                                   | 1/8 [00:00<00:00, 99.99it/s]\u001b[A\n",
      "Validation DataLoader 0:  25%|██████████████▌                                           | 2/8 [00:00<00:00, 106.16it/s]\u001b[A\n",
      "Validation DataLoader 0:  38%|█████████████████████▊                                    | 3/8 [00:00<00:00, 121.02it/s]\u001b[A\n",
      "Validation DataLoader 0:  50%|█████████████████████████████                             | 4/8 [00:00<00:00, 129.90it/s]\u001b[A\n",
      "Validation DataLoader 0:  62%|████████████████████████████████████▎                     | 5/8 [00:00<00:00, 130.49it/s]\u001b[A\n",
      "Validation DataLoader 0:  75%|███████████████████████████████████████████▌              | 6/8 [00:00<00:00, 129.19it/s]\u001b[A\n",
      "Validation DataLoader 0:  88%|██████████████████████████████████████████████████▊       | 7/8 [00:00<00:00, 117.64it/s]\u001b[A\n",
      "Validation DataLoader 0: 100%|██████████████████████████████████████████████████████████| 8/8 [00:00<00:00, 121.78it/s]\u001b[A\n",
      "Epoch 3: 100%|█████████████████████████████████████████████████████████████████| 8/8 [00:00<00:00, 37.66it/s, v_num=12]\u001b[A\n",
      "Validation: |                                                                                    | 0/? [00:00<?, ?it/s]\u001b[A\n",
      "Validation:   0%|                                                                                | 0/8 [00:00<?, ?it/s]\u001b[A\n",
      "Validation DataLoader 0:   0%|                                                                   | 0/8 [00:00<?, ?it/s]\u001b[A\n",
      "Validation DataLoader 0:  12%|███████▍                                                   | 1/8 [00:00<00:00, 16.74it/s]\u001b[A\n",
      "Validation DataLoader 0:  25%|██████████████▊                                            | 2/8 [00:00<00:00, 29.85it/s]\u001b[A\n",
      "Validation DataLoader 0:  38%|██████████████████████▏                                    | 3/8 [00:00<00:00, 40.15it/s]\u001b[A\n",
      "Validation DataLoader 0:  50%|█████████████████████████████▌                             | 4/8 [00:00<00:00, 46.52it/s]\u001b[A\n",
      "Validation DataLoader 0:  62%|████████████████████████████████████▉                      | 5/8 [00:00<00:00, 52.63it/s]\u001b[A\n",
      "Validation DataLoader 0:  75%|████████████████████████████████████████████▎              | 6/8 [00:00<00:00, 58.08it/s]\u001b[A\n",
      "Validation DataLoader 0:  88%|███████████████████████████████████████████████████▋       | 7/8 [00:00<00:00, 60.84it/s]\u001b[A\n",
      "Validation DataLoader 0: 100%|███████████████████████████████████████████████████████████| 8/8 [00:00<00:00, 59.31it/s]\u001b[A\n",
      "Epoch 4: 100%|█████████████████████████████████████████████████████████████████| 8/8 [00:00<00:00, 56.57it/s, v_num=12]\u001b[A\n",
      "Validation: |                                                                                    | 0/? [00:00<?, ?it/s]\u001b[A\n",
      "Validation:   0%|                                                                                | 0/8 [00:00<?, ?it/s]\u001b[A\n",
      "Validation DataLoader 0:   0%|                                                                   | 0/8 [00:00<?, ?it/s]\u001b[A\n",
      "Validation DataLoader 0:  12%|███████▍                                                   | 1/8 [00:00<00:00, 86.56it/s]\u001b[A\n",
      "Validation DataLoader 0:  25%|██████████████▌                                           | 2/8 [00:00<00:00, 105.49it/s]\u001b[A\n",
      "Validation DataLoader 0:  38%|█████████████████████▊                                    | 3/8 [00:00<00:00, 113.49it/s]\u001b[A\n",
      "Validation DataLoader 0:  50%|█████████████████████████████▌                             | 4/8 [00:00<00:00, 98.07it/s]\u001b[A\n",
      "Validation DataLoader 0:  62%|████████████████████████████████████▉                      | 5/8 [00:00<00:00, 89.43it/s]\u001b[A\n",
      "Validation DataLoader 0:  75%|████████████████████████████████████████████▎              | 6/8 [00:00<00:00, 92.28it/s]\u001b[A\n",
      "Validation DataLoader 0:  88%|███████████████████████████████████████████████████▋       | 7/8 [00:00<00:00, 97.11it/s]\u001b[A\n",
      "Validation DataLoader 0: 100%|██████████████████████████████████████████████████████████| 8/8 [00:00<00:00, 101.17it/s]\u001b[A\n",
      "Epoch 5: 100%|█████████████████████████████████████████████████████████████████| 8/8 [00:00<00:00, 43.25it/s, v_num=12]\u001b[A\n",
      "Validation: |                                                                                    | 0/? [00:00<?, ?it/s]\u001b[A\n",
      "Validation:   0%|                                                                                | 0/8 [00:00<?, ?it/s]\u001b[A\n",
      "Validation DataLoader 0:   0%|                                                                   | 0/8 [00:00<?, ?it/s]\u001b[A\n",
      "Validation DataLoader 0:  12%|███████▍                                                   | 1/8 [00:00<00:00, 20.15it/s]\u001b[A\n",
      "Validation DataLoader 0:  25%|██████████████▊                                            | 2/8 [00:00<00:00, 27.45it/s]\u001b[A\n",
      "Validation DataLoader 0:  38%|██████████████████████▏                                    | 3/8 [00:00<00:00, 35.51it/s]\u001b[A\n",
      "Validation DataLoader 0:  50%|█████████████████████████████▌                             | 4/8 [00:00<00:00, 42.33it/s]\u001b[A\n",
      "Validation DataLoader 0:  62%|████████████████████████████████████▉                      | 5/8 [00:00<00:00, 48.09it/s]\u001b[A\n",
      "Validation DataLoader 0:  75%|████████████████████████████████████████████▎              | 6/8 [00:00<00:00, 49.64it/s]\u001b[A\n",
      "Validation DataLoader 0:  88%|███████████████████████████████████████████████████▋       | 7/8 [00:00<00:00, 50.82it/s]\u001b[A\n",
      "Validation DataLoader 0: 100%|███████████████████████████████████████████████████████████| 8/8 [00:00<00:00, 55.17it/s]\u001b[A\n",
      "Epoch 6: 100%|█████████████████████████████████████████████████████████████████| 8/8 [00:00<00:00, 35.66it/s, v_num=12]\u001b[A\n",
      "Validation: |                                                                                    | 0/? [00:00<?, ?it/s]\u001b[A\n",
      "Validation:   0%|                                                                                | 0/8 [00:00<?, ?it/s]\u001b[A\n",
      "Validation DataLoader 0:   0%|                                                                   | 0/8 [00:00<?, ?it/s]\u001b[A\n",
      "Validation DataLoader 0:  12%|███████▎                                                  | 1/8 [00:00<00:00, 105.32it/s]\u001b[A\n",
      "Validation DataLoader 0:  25%|██████████████▌                                           | 2/8 [00:00<00:00, 137.79it/s]\u001b[A\n",
      "Validation DataLoader 0:  38%|█████████████████████▊                                    | 3/8 [00:00<00:00, 133.94it/s]\u001b[A\n",
      "Validation DataLoader 0:  50%|█████████████████████████████                             | 4/8 [00:00<00:00, 138.72it/s]\u001b[A\n",
      "Validation DataLoader 0:  62%|████████████████████████████████████▎                     | 5/8 [00:00<00:00, 142.27it/s]\u001b[A\n",
      "Validation DataLoader 0:  75%|███████████████████████████████████████████▌              | 6/8 [00:00<00:00, 139.68it/s]\u001b[A\n",
      "Validation DataLoader 0:  88%|██████████████████████████████████████████████████▊       | 7/8 [00:00<00:00, 132.68it/s]\u001b[A\n",
      "Validation DataLoader 0: 100%|██████████████████████████████████████████████████████████| 8/8 [00:00<00:00, 137.64it/s]\u001b[A\n",
      "Epoch 7: 100%|█████████████████████████████████████████████████████████████████| 8/8 [00:00<00:00, 68.04it/s, v_num=12]\u001b[A\n",
      "Validation: |                                                                                    | 0/? [00:00<?, ?it/s]\u001b[A\n",
      "Validation:   0%|                                                                                | 0/8 [00:00<?, ?it/s]\u001b[A\n",
      "Validation DataLoader 0:   0%|                                                                   | 0/8 [00:00<?, ?it/s]\u001b[A\n",
      "Validation DataLoader 0:  12%|███████▎                                                  | 1/8 [00:00<00:00, 101.89it/s]\u001b[A\n",
      "Validation DataLoader 0:  25%|██████████████▌                                           | 2/8 [00:00<00:00, 109.92it/s]\u001b[A\n",
      "Validation DataLoader 0:  38%|█████████████████████▊                                    | 3/8 [00:00<00:00, 122.37it/s]\u001b[A\n",
      "Validation DataLoader 0:  50%|█████████████████████████████                             | 4/8 [00:00<00:00, 126.76it/s]\u001b[A\n",
      "Validation DataLoader 0:  62%|████████████████████████████████████▎                     | 5/8 [00:00<00:00, 130.76it/s]\u001b[A\n",
      "Validation DataLoader 0:  75%|████████████████████████████████████████████▎              | 6/8 [00:00<00:00, 75.30it/s]\u001b[A\n",
      "Validation DataLoader 0:  88%|███████████████████████████████████████████████████▋       | 7/8 [00:00<00:00, 81.31it/s]\u001b[A\n",
      "Validation DataLoader 0: 100%|███████████████████████████████████████████████████████████| 8/8 [00:00<00:00, 84.93it/s]\u001b[A\n",
      "Epoch 8: 100%|█████████████████████████████████████████████████████████████████| 8/8 [00:00<00:00, 66.45it/s, v_num=12]\u001b[A\n",
      "Validation: |                                                                                    | 0/? [00:00<?, ?it/s]\u001b[A\n",
      "Validation:   0%|                                                                                | 0/8 [00:00<?, ?it/s]\u001b[A\n",
      "Validation DataLoader 0:   0%|                                                                   | 0/8 [00:00<?, ?it/s]\u001b[A\n",
      "Validation DataLoader 0:  12%|███████▍                                                   | 1/8 [00:00<00:00, 44.69it/s]\u001b[A\n",
      "Validation DataLoader 0:  25%|██████████████▊                                            | 2/8 [00:00<00:00, 72.02it/s]\u001b[A\n",
      "Validation DataLoader 0:  38%|██████████████████████▏                                    | 3/8 [00:00<00:00, 91.47it/s]\u001b[A\n",
      "Validation DataLoader 0:  50%|█████████████████████████████                             | 4/8 [00:00<00:00, 102.82it/s]\u001b[A\n",
      "Validation DataLoader 0:  62%|████████████████████████████████████▎                     | 5/8 [00:00<00:00, 112.39it/s]\u001b[A\n",
      "Validation DataLoader 0:  75%|███████████████████████████████████████████▌              | 6/8 [00:00<00:00, 118.82it/s]\u001b[A\n",
      "Validation DataLoader 0:  88%|██████████████████████████████████████████████████▊       | 7/8 [00:00<00:00, 125.35it/s]\u001b[A\n",
      "Validation DataLoader 0: 100%|██████████████████████████████████████████████████████████| 8/8 [00:00<00:00, 125.67it/s]\u001b[A\n",
      "Epoch 9: 100%|█████████████████████████████████████████████████████████████████| 8/8 [00:00<00:00, 50.96it/s, v_num=12]\u001b[A\n",
      "Validation: |                                                                                    | 0/? [00:00<?, ?it/s]\u001b[A\n",
      "Validation:   0%|                                                                                | 0/8 [00:00<?, ?it/s]\u001b[A\n",
      "Validation DataLoader 0:   0%|                                                                   | 0/8 [00:00<?, ?it/s]\u001b[A\n",
      "Validation DataLoader 0:  12%|███████▎                                                  | 1/8 [00:00<00:00, 100.17it/s]\u001b[A\n",
      "Validation DataLoader 0:  25%|██████████████▌                                           | 2/8 [00:00<00:00, 127.43it/s]\u001b[A\n",
      "Validation DataLoader 0:  38%|█████████████████████▊                                    | 3/8 [00:00<00:00, 143.22it/s]\u001b[A\n",
      "Validation DataLoader 0:  50%|█████████████████████████████                             | 4/8 [00:00<00:00, 148.32it/s]\u001b[A\n",
      "Validation DataLoader 0:  62%|████████████████████████████████████▎                     | 5/8 [00:00<00:00, 149.68it/s]\u001b[A\n",
      "Validation DataLoader 0:  75%|███████████████████████████████████████████▌              | 6/8 [00:00<00:00, 154.64it/s]\u001b[A\n",
      "Validation DataLoader 0:  88%|██████████████████████████████████████████████████▊       | 7/8 [00:00<00:00, 155.43it/s]\u001b[A\n",
      "Validation DataLoader 0: 100%|██████████████████████████████████████████████████████████| 8/8 [00:00<00:00, 160.42it/s]\u001b[A\n",
      "Epoch 10: 100%|████████████████████████████████████████████████████████████████| 8/8 [00:00<00:00, 63.71it/s, v_num=12]\u001b[A\n",
      "Validation: |                                                                                    | 0/? [00:00<?, ?it/s]\u001b[A\n",
      "Validation:   0%|                                                                                | 0/8 [00:00<?, ?it/s]\u001b[A\n",
      "Validation DataLoader 0:   0%|                                                                   | 0/8 [00:00<?, ?it/s]\u001b[A\n",
      "Validation DataLoader 0:  12%|███████▍                                                   | 1/8 [00:00<00:00, 91.76it/s]\u001b[A\n",
      "Validation DataLoader 0:  25%|██████████████▌                                           | 2/8 [00:00<00:00, 123.20it/s]\u001b[A\n",
      "Validation DataLoader 0:  38%|█████████████████████▊                                    | 3/8 [00:00<00:00, 134.60it/s]\u001b[A\n",
      "Validation DataLoader 0:  50%|█████████████████████████████                             | 4/8 [00:00<00:00, 139.06it/s]\u001b[A\n",
      "Validation DataLoader 0:  62%|████████████████████████████████████▎                     | 5/8 [00:00<00:00, 138.62it/s]\u001b[A\n",
      "Validation DataLoader 0:  75%|███████████████████████████████████████████▌              | 6/8 [00:00<00:00, 142.47it/s]\u001b[A\n",
      "Validation DataLoader 0:  88%|██████████████████████████████████████████████████▊       | 7/8 [00:00<00:00, 145.49it/s]\u001b[A\n",
      "Validation DataLoader 0: 100%|██████████████████████████████████████████████████████████| 8/8 [00:00<00:00, 147.83it/s]\u001b[A\n",
      "Epoch 11: 100%|████████████████████████████████████████████████████████████████| 8/8 [00:00<00:00, 67.40it/s, v_num=12]\u001b[A\n",
      "Validation: |                                                                                    | 0/? [00:00<?, ?it/s]\u001b[A\n",
      "Validation:   0%|                                                                                | 0/8 [00:00<?, ?it/s]\u001b[A\n",
      "Validation DataLoader 0:   0%|                                                                   | 0/8 [00:00<?, ?it/s]\u001b[A\n",
      "Validation DataLoader 0:  12%|███████▎                                                  | 1/8 [00:00<00:00, 106.98it/s]\u001b[A\n",
      "Validation DataLoader 0:  25%|██████████████▌                                           | 2/8 [00:00<00:00, 129.36it/s]\u001b[A\n",
      "Validation DataLoader 0:  38%|█████████████████████▊                                    | 3/8 [00:00<00:00, 146.19it/s]\u001b[A\n",
      "Validation DataLoader 0:  50%|█████████████████████████████                             | 4/8 [00:00<00:00, 148.16it/s]\u001b[A\n",
      "Validation DataLoader 0:  62%|████████████████████████████████████▎                     | 5/8 [00:00<00:00, 154.36it/s]\u001b[A\n",
      "Validation DataLoader 0:  75%|███████████████████████████████████████████▌              | 6/8 [00:00<00:00, 152.17it/s]\u001b[A\n",
      "Validation DataLoader 0:  88%|██████████████████████████████████████████████████▊       | 7/8 [00:00<00:00, 156.41it/s]\u001b[A\n",
      "Validation DataLoader 0: 100%|██████████████████████████████████████████████████████████| 8/8 [00:00<00:00, 160.17it/s]\u001b[A\n",
      "Epoch 12: 100%|████████████████████████████████████████████████████████████████| 8/8 [00:00<00:00, 73.84it/s, v_num=12]\u001b[A\n",
      "Validation: |                                                                                    | 0/? [00:00<?, ?it/s]\u001b[A\n",
      "Validation:   0%|                                                                                | 0/8 [00:00<?, ?it/s]\u001b[A\n",
      "Validation DataLoader 0:   0%|                                                                   | 0/8 [00:00<?, ?it/s]\u001b[A\n",
      "Validation DataLoader 0:  12%|███████▎                                                  | 1/8 [00:00<00:00, 106.60it/s]\u001b[A\n",
      "Validation DataLoader 0:  25%|██████████████▌                                           | 2/8 [00:00<00:00, 128.84it/s]\u001b[A\n",
      "Validation DataLoader 0:  38%|█████████████████████▊                                    | 3/8 [00:00<00:00, 134.73it/s]\u001b[A\n",
      "Validation DataLoader 0:  50%|█████████████████████████████                             | 4/8 [00:00<00:00, 138.95it/s]\u001b[A\n",
      "Validation DataLoader 0:  62%|████████████████████████████████████▎                     | 5/8 [00:00<00:00, 143.23it/s]\u001b[A\n",
      "Validation DataLoader 0:  75%|███████████████████████████████████████████▌              | 6/8 [00:00<00:00, 152.57it/s]\u001b[A\n",
      "Validation DataLoader 0:  88%|██████████████████████████████████████████████████▊       | 7/8 [00:00<00:00, 150.35it/s]\u001b[A\n",
      "Validation DataLoader 0: 100%|██████████████████████████████████████████████████████████| 8/8 [00:00<00:00, 151.80it/s]\u001b[A\n",
      "Epoch 13: 100%|████████████████████████████████████████████████████████████████| 8/8 [00:00<00:00, 68.73it/s, v_num=12]\u001b[A\n",
      "Validation: |                                                                                    | 0/? [00:00<?, ?it/s]\u001b[A\n",
      "Validation:   0%|                                                                                | 0/8 [00:00<?, ?it/s]\u001b[A\n",
      "Validation DataLoader 0:   0%|                                                                   | 0/8 [00:00<?, ?it/s]\u001b[A\n",
      "Validation DataLoader 0:  12%|███████▍                                                   | 1/8 [00:00<00:00, 72.91it/s]\u001b[A\n",
      "Validation DataLoader 0:  25%|██████████████▊                                            | 2/8 [00:00<00:00, 90.18it/s]\u001b[A\n",
      "Validation DataLoader 0:  38%|█████████████████████▊                                    | 3/8 [00:00<00:00, 101.80it/s]\u001b[A\n",
      "Validation DataLoader 0:  50%|█████████████████████████████                             | 4/8 [00:00<00:00, 112.65it/s]\u001b[A\n",
      "Validation DataLoader 0:  62%|████████████████████████████████████▎                     | 5/8 [00:00<00:00, 121.32it/s]\u001b[A\n",
      "Validation DataLoader 0:  75%|███████████████████████████████████████████▌              | 6/8 [00:00<00:00, 128.63it/s]\u001b[A\n",
      "Validation DataLoader 0:  88%|██████████████████████████████████████████████████▊       | 7/8 [00:00<00:00, 130.09it/s]\u001b[A\n",
      "Validation DataLoader 0: 100%|██████████████████████████████████████████████████████████| 8/8 [00:00<00:00, 133.76it/s]\u001b[A\n",
      "Epoch 14: 100%|████████████████████████████████████████████████████████████████| 8/8 [00:00<00:00, 66.33it/s, v_num=12]\u001b[A\n",
      "Validation: |                                                                                    | 0/? [00:00<?, ?it/s]\u001b[A\n",
      "Validation:   0%|                                                                                | 0/8 [00:00<?, ?it/s]\u001b[A\n",
      "Validation DataLoader 0:   0%|                                                                   | 0/8 [00:00<?, ?it/s]\u001b[A\n",
      "Validation DataLoader 0:  12%|███████▍                                                   | 1/8 [00:00<00:00, 77.03it/s]\u001b[A\n",
      "Validation DataLoader 0:  25%|██████████████▌                                           | 2/8 [00:00<00:00, 104.79it/s]\u001b[A\n",
      "Validation DataLoader 0:  38%|█████████████████████▊                                    | 3/8 [00:00<00:00, 107.49it/s]\u001b[A\n",
      "Validation DataLoader 0:  50%|█████████████████████████████                             | 4/8 [00:00<00:00, 117.06it/s]\u001b[A\n",
      "Validation DataLoader 0:  62%|████████████████████████████████████▎                     | 5/8 [00:00<00:00, 124.95it/s]\u001b[A\n",
      "Validation DataLoader 0:  75%|███████████████████████████████████████████▌              | 6/8 [00:00<00:00, 123.95it/s]\u001b[A\n",
      "Validation DataLoader 0:  88%|██████████████████████████████████████████████████▊       | 7/8 [00:00<00:00, 125.20it/s]\u001b[A\n",
      "Validation DataLoader 0: 100%|██████████████████████████████████████████████████████████| 8/8 [00:00<00:00, 123.19it/s]\u001b[A\n",
      "Epoch 15: 100%|████████████████████████████████████████████████████████████████| 8/8 [00:00<00:00, 76.00it/s, v_num=12]\u001b[A\n",
      "Validation: |                                                                                    | 0/? [00:00<?, ?it/s]\u001b[A\n",
      "Validation:   0%|                                                                                | 0/8 [00:00<?, ?it/s]\u001b[A\n",
      "Validation DataLoader 0:   0%|                                                                   | 0/8 [00:00<?, ?it/s]\u001b[A\n",
      "Validation DataLoader 0:  12%|███████▎                                                  | 1/8 [00:00<00:00, 123.84it/s]\u001b[A\n",
      "Validation DataLoader 0:  25%|██████████████▌                                           | 2/8 [00:00<00:00, 130.79it/s]\u001b[A\n",
      "Validation DataLoader 0:  38%|█████████████████████▊                                    | 3/8 [00:00<00:00, 147.84it/s]\u001b[A\n",
      "Validation DataLoader 0:  50%|█████████████████████████████                             | 4/8 [00:00<00:00, 148.53it/s]\u001b[A\n",
      "Validation DataLoader 0:  62%|████████████████████████████████████▎                     | 5/8 [00:00<00:00, 154.08it/s]\u001b[A\n",
      "Validation DataLoader 0:  75%|███████████████████████████████████████████▌              | 6/8 [00:00<00:00, 160.23it/s]\u001b[A\n",
      "Validation DataLoader 0:  88%|██████████████████████████████████████████████████▊       | 7/8 [00:00<00:00, 160.62it/s]\u001b[A\n",
      "Validation DataLoader 0: 100%|██████████████████████████████████████████████████████████| 8/8 [00:00<00:00, 164.67it/s]\u001b[A\n",
      "Epoch 16: 100%|████████████████████████████████████████████████████████████████| 8/8 [00:00<00:00, 74.19it/s, v_num=12]\u001b[A\n",
      "Validation: |                                                                                    | 0/? [00:00<?, ?it/s]\u001b[A\n",
      "Validation:   0%|                                                                                | 0/8 [00:00<?, ?it/s]\u001b[A\n",
      "Validation DataLoader 0:   0%|                                                                   | 0/8 [00:00<?, ?it/s]\u001b[A\n",
      "Validation DataLoader 0:  12%|███████▎                                                  | 1/8 [00:00<00:00, 100.40it/s]\u001b[A\n",
      "Validation DataLoader 0:  25%|██████████████▌                                           | 2/8 [00:00<00:00, 108.19it/s]\u001b[A\n",
      "Validation DataLoader 0:  38%|█████████████████████▊                                    | 3/8 [00:00<00:00, 122.52it/s]\u001b[A\n",
      "Validation DataLoader 0:  50%|█████████████████████████████▌                             | 4/8 [00:00<00:00, 80.26it/s]\u001b[A\n",
      "Validation DataLoader 0:  62%|████████████████████████████████████▉                      | 5/8 [00:00<00:00, 86.91it/s]\u001b[A\n",
      "Validation DataLoader 0:  75%|████████████████████████████████████████████▎              | 6/8 [00:00<00:00, 93.07it/s]\u001b[A\n",
      "Validation DataLoader 0:  88%|███████████████████████████████████████████████████▋       | 7/8 [00:00<00:00, 99.10it/s]\u001b[A\n",
      "Validation DataLoader 0: 100%|██████████████████████████████████████████████████████████| 8/8 [00:00<00:00, 104.02it/s]\u001b[A\n",
      "Epoch 17: 100%|████████████████████████████████████████████████████████████████| 8/8 [00:00<00:00, 74.14it/s, v_num=12]\u001b[A\n",
      "Validation: |                                                                                    | 0/? [00:00<?, ?it/s]\u001b[A\n",
      "Validation:   0%|                                                                                | 0/8 [00:00<?, ?it/s]\u001b[A\n",
      "Validation DataLoader 0:   0%|                                                                   | 0/8 [00:00<?, ?it/s]\u001b[A\n",
      "Validation DataLoader 0:  12%|███████▍                                                   | 1/8 [00:00<00:00, 99.34it/s]\u001b[A\n",
      "Validation DataLoader 0:  25%|██████████████▌                                           | 2/8 [00:00<00:00, 122.45it/s]\u001b[A\n",
      "Validation DataLoader 0:  38%|█████████████████████▊                                    | 3/8 [00:00<00:00, 133.38it/s]\u001b[A\n",
      "Validation DataLoader 0:  50%|█████████████████████████████                             | 4/8 [00:00<00:00, 144.55it/s]\u001b[A\n",
      "Validation DataLoader 0:  62%|████████████████████████████████████▎                     | 5/8 [00:00<00:00, 144.20it/s]\u001b[A\n",
      "Validation DataLoader 0:  75%|███████████████████████████████████████████▌              | 6/8 [00:00<00:00, 146.72it/s]\u001b[A\n",
      "Validation DataLoader 0:  88%|██████████████████████████████████████████████████▊       | 7/8 [00:00<00:00, 149.27it/s]\u001b[A\n",
      "Validation DataLoader 0: 100%|██████████████████████████████████████████████████████████| 8/8 [00:00<00:00, 154.17it/s]\u001b[A\n",
      "Epoch 18: 100%|████████████████████████████████████████████████████████████████| 8/8 [00:00<00:00, 58.08it/s, v_num=12]\u001b[A\n",
      "Validation: |                                                                                    | 0/? [00:00<?, ?it/s]\u001b[A\n",
      "Validation:   0%|                                                                                | 0/8 [00:00<?, ?it/s]\u001b[A\n",
      "Validation DataLoader 0:   0%|                                                                   | 0/8 [00:00<?, ?it/s]\u001b[A\n",
      "Validation DataLoader 0:  12%|███████▎                                                  | 1/8 [00:00<00:00, 110.02it/s]\u001b[A\n",
      "Validation DataLoader 0:  25%|██████████████▌                                           | 2/8 [00:00<00:00, 124.44it/s]\u001b[A\n",
      "Validation DataLoader 0:  38%|█████████████████████▊                                    | 3/8 [00:00<00:00, 129.51it/s]\u001b[A\n",
      "Validation DataLoader 0:  50%|█████████████████████████████                             | 4/8 [00:00<00:00, 132.49it/s]\u001b[A\n",
      "Validation DataLoader 0:  62%|████████████████████████████████████▎                     | 5/8 [00:00<00:00, 140.20it/s]\u001b[A\n",
      "Validation DataLoader 0:  75%|███████████████████████████████████████████▌              | 6/8 [00:00<00:00, 143.61it/s]\u001b[A\n",
      "Validation DataLoader 0:  88%|██████████████████████████████████████████████████▊       | 7/8 [00:00<00:00, 146.51it/s]\u001b[A\n",
      "Validation DataLoader 0: 100%|██████████████████████████████████████████████████████████| 8/8 [00:00<00:00, 148.96it/s]\u001b[A\n",
      "Epoch 19: 100%|████████████████████████████████████████████████████████████████| 8/8 [00:00<00:00, 76.60it/s, v_num=12]\u001b[A\n",
      "Validation: |                                                                                    | 0/? [00:00<?, ?it/s]\u001b[A\n",
      "Validation:   0%|                                                                                | 0/8 [00:00<?, ?it/s]\u001b[A\n",
      "Validation DataLoader 0:   0%|                                                                   | 0/8 [00:00<?, ?it/s]\u001b[A\n",
      "Validation DataLoader 0:  12%|███████▎                                                  | 1/8 [00:00<00:00, 109.90it/s]\u001b[A\n",
      "Validation DataLoader 0:  25%|██████████████▌                                           | 2/8 [00:00<00:00, 134.14it/s]\u001b[A\n",
      "Validation DataLoader 0:  38%|█████████████████████▊                                    | 3/8 [00:00<00:00, 137.49it/s]\u001b[A\n",
      "Validation DataLoader 0:  50%|█████████████████████████████                             | 4/8 [00:00<00:00, 142.87it/s]\u001b[A\n",
      "Validation DataLoader 0:  62%|████████████████████████████████████▎                     | 5/8 [00:00<00:00, 144.03it/s]\u001b[A\n",
      "Validation DataLoader 0:  75%|███████████████████████████████████████████▌              | 6/8 [00:00<00:00, 151.07it/s]\u001b[A\n",
      "Validation DataLoader 0:  88%|██████████████████████████████████████████████████▊       | 7/8 [00:00<00:00, 155.48it/s]\u001b[A\n",
      "Validation DataLoader 0: 100%|██████████████████████████████████████████████████████████| 8/8 [00:00<00:00, 158.45it/s]\u001b[A\n",
      "Epoch 20: 100%|████████████████████████████████████████████████████████████████| 8/8 [00:00<00:00, 82.22it/s, v_num=12]\u001b[A\n",
      "Validation: |                                                                                    | 0/? [00:00<?, ?it/s]\u001b[A\n",
      "Validation:   0%|                                                                                | 0/8 [00:00<?, ?it/s]\u001b[A\n",
      "Validation DataLoader 0:   0%|                                                                   | 0/8 [00:00<?, ?it/s]\u001b[A\n",
      "Validation DataLoader 0:  12%|███████▎                                                  | 1/8 [00:00<00:00, 101.71it/s]\u001b[A\n",
      "Validation DataLoader 0:  25%|██████████████▌                                           | 2/8 [00:00<00:00, 127.70it/s]\u001b[A\n",
      "Validation DataLoader 0:  38%|█████████████████████▊                                    | 3/8 [00:00<00:00, 140.81it/s]\u001b[A\n",
      "Validation DataLoader 0:  50%|█████████████████████████████                             | 4/8 [00:00<00:00, 149.12it/s]\u001b[A\n",
      "Validation DataLoader 0:  62%|████████████████████████████████████▎                     | 5/8 [00:00<00:00, 153.37it/s]\u001b[A\n",
      "Validation DataLoader 0:  75%|███████████████████████████████████████████▌              | 6/8 [00:00<00:00, 158.78it/s]\u001b[A\n",
      "Validation DataLoader 0:  88%|██████████████████████████████████████████████████▊       | 7/8 [00:00<00:00, 156.62it/s]\u001b[A\n",
      "Validation DataLoader 0: 100%|██████████████████████████████████████████████████████████| 8/8 [00:00<00:00, 162.80it/s]\u001b[A\n",
      "Epoch 21: 100%|████████████████████████████████████████████████████████████████| 8/8 [00:00<00:00, 69.43it/s, v_num=12]\u001b[A\n",
      "Validation: |                                                                                    | 0/? [00:00<?, ?it/s]\u001b[A\n",
      "Validation:   0%|                                                                                | 0/8 [00:00<?, ?it/s]\u001b[A\n",
      "Validation DataLoader 0:   0%|                                                                   | 0/8 [00:00<?, ?it/s]\u001b[A\n",
      "Validation DataLoader 0:  12%|███████▎                                                  | 1/8 [00:00<00:00, 112.63it/s]\u001b[A\n",
      "Validation DataLoader 0:  25%|██████████████▌                                           | 2/8 [00:00<00:00, 121.32it/s]\u001b[A\n",
      "Validation DataLoader 0:  38%|█████████████████████▊                                    | 3/8 [00:00<00:00, 137.12it/s]\u001b[A\n",
      "Validation DataLoader 0:  50%|█████████████████████████████                             | 4/8 [00:00<00:00, 142.53it/s]\u001b[A\n",
      "Validation DataLoader 0:  62%|████████████████████████████████████▎                     | 5/8 [00:00<00:00, 146.78it/s]\u001b[A\n",
      "Validation DataLoader 0:  75%|███████████████████████████████████████████▌              | 6/8 [00:00<00:00, 148.65it/s]\u001b[A\n",
      "Validation DataLoader 0:  88%|██████████████████████████████████████████████████▊       | 7/8 [00:00<00:00, 149.00it/s]\u001b[A\n",
      "Validation DataLoader 0: 100%|██████████████████████████████████████████████████████████| 8/8 [00:00<00:00, 147.53it/s]\u001b[A\n",
      "Epoch 22: 100%|████████████████████████████████████████████████████████████████| 8/8 [00:00<00:00, 69.21it/s, v_num=12]\u001b[A\n",
      "Validation: |                                                                                    | 0/? [00:00<?, ?it/s]\u001b[A\n",
      "Validation:   0%|                                                                                | 0/8 [00:00<?, ?it/s]\u001b[A\n",
      "Validation DataLoader 0:   0%|                                                                   | 0/8 [00:00<?, ?it/s]\u001b[A\n",
      "Validation DataLoader 0:  12%|███████▍                                                   | 1/8 [00:00<00:00, 84.29it/s]\u001b[A\n",
      "Validation DataLoader 0:  25%|██████████████▌                                           | 2/8 [00:00<00:00, 100.64it/s]\u001b[A\n",
      "Validation DataLoader 0:  38%|█████████████████████▊                                    | 3/8 [00:00<00:00, 115.95it/s]\u001b[A\n",
      "Validation DataLoader 0:  50%|█████████████████████████████                             | 4/8 [00:00<00:00, 121.67it/s]\u001b[A\n",
      "Validation DataLoader 0:  62%|████████████████████████████████████▎                     | 5/8 [00:00<00:00, 128.38it/s]\u001b[A\n",
      "Validation DataLoader 0:  75%|███████████████████████████████████████████▌              | 6/8 [00:00<00:00, 130.58it/s]\u001b[A\n",
      "Validation DataLoader 0:  88%|██████████████████████████████████████████████████▊       | 7/8 [00:00<00:00, 134.74it/s]\u001b[A\n",
      "Validation DataLoader 0: 100%|██████████████████████████████████████████████████████████| 8/8 [00:00<00:00, 139.97it/s]\u001b[A\n",
      "Epoch 23: 100%|████████████████████████████████████████████████████████████████| 8/8 [00:00<00:00, 79.09it/s, v_num=12]\u001b[A\n",
      "Validation: |                                                                                    | 0/? [00:00<?, ?it/s]\u001b[A\n",
      "Validation:   0%|                                                                                | 0/8 [00:00<?, ?it/s]\u001b[A\n",
      "Validation DataLoader 0:   0%|                                                                   | 0/8 [00:00<?, ?it/s]\u001b[A\n",
      "Validation DataLoader 0:  12%|███████▎                                                  | 1/8 [00:00<00:00, 120.38it/s]\u001b[A\n",
      "Validation DataLoader 0:  25%|██████████████▌                                           | 2/8 [00:00<00:00, 125.92it/s]\u001b[A\n",
      "Validation DataLoader 0:  38%|█████████████████████▊                                    | 3/8 [00:00<00:00, 139.48it/s]\u001b[A\n",
      "Validation DataLoader 0:  50%|█████████████████████████████                             | 4/8 [00:00<00:00, 143.99it/s]\u001b[A\n",
      "Validation DataLoader 0:  62%|████████████████████████████████████▎                     | 5/8 [00:00<00:00, 143.37it/s]\u001b[A\n",
      "Validation DataLoader 0:  75%|███████████████████████████████████████████▌              | 6/8 [00:00<00:00, 146.13it/s]\u001b[A\n",
      "Validation DataLoader 0:  88%|██████████████████████████████████████████████████▊       | 7/8 [00:00<00:00, 151.04it/s]\u001b[A\n",
      "Validation DataLoader 0: 100%|██████████████████████████████████████████████████████████| 8/8 [00:00<00:00, 149.97it/s]\u001b[A\n",
      "Epoch 24: 100%|████████████████████████████████████████████████████████████████| 8/8 [00:00<00:00, 69.75it/s, v_num=12]\u001b[A\n",
      "Validation: |                                                                                    | 0/? [00:00<?, ?it/s]\u001b[A\n",
      "Validation:   0%|                                                                                | 0/8 [00:00<?, ?it/s]\u001b[A\n",
      "Validation DataLoader 0:   0%|                                                                   | 0/8 [00:00<?, ?it/s]\u001b[A\n",
      "Validation DataLoader 0:  12%|███████▍                                                   | 1/8 [00:00<00:00, 80.79it/s]\u001b[A\n",
      "Validation DataLoader 0:  25%|██████████████▊                                            | 2/8 [00:00<00:00, 90.09it/s]\u001b[A\n",
      "Validation DataLoader 0:  38%|█████████████████████▊                                    | 3/8 [00:00<00:00, 104.49it/s]\u001b[A\n",
      "Validation DataLoader 0:  50%|█████████████████████████████                             | 4/8 [00:00<00:00, 106.34it/s]\u001b[A\n",
      "Validation DataLoader 0:  62%|████████████████████████████████████▎                     | 5/8 [00:00<00:00, 107.77it/s]\u001b[A\n",
      "Validation DataLoader 0:  75%|███████████████████████████████████████████▌              | 6/8 [00:00<00:00, 111.37it/s]\u001b[A\n",
      "Validation DataLoader 0:  88%|██████████████████████████████████████████████████▊       | 7/8 [00:00<00:00, 114.07it/s]\u001b[A\n",
      "Validation DataLoader 0: 100%|██████████████████████████████████████████████████████████| 8/8 [00:00<00:00, 114.90it/s]\u001b[A\n",
      "Epoch 25: 100%|████████████████████████████████████████████████████████████████| 8/8 [00:00<00:00, 57.77it/s, v_num=12]\u001b[A\n",
      "Validation: |                                                                                    | 0/? [00:00<?, ?it/s]\u001b[A\n",
      "Validation:   0%|                                                                                | 0/8 [00:00<?, ?it/s]\u001b[A\n",
      "Validation DataLoader 0:   0%|                                                                   | 0/8 [00:00<?, ?it/s]\u001b[A\n",
      "Validation DataLoader 0:  12%|███████▍                                                   | 1/8 [00:00<00:00, 91.51it/s]\u001b[A\n",
      "Validation DataLoader 0:  25%|██████████████▌                                           | 2/8 [00:00<00:00, 108.89it/s]\u001b[A\n",
      "Validation DataLoader 0:  38%|█████████████████████▊                                    | 3/8 [00:00<00:00, 117.57it/s]\u001b[A\n",
      "Validation DataLoader 0:  50%|█████████████████████████████                             | 4/8 [00:00<00:00, 119.15it/s]\u001b[A\n",
      "Validation DataLoader 0:  62%|████████████████████████████████████▎                     | 5/8 [00:00<00:00, 115.82it/s]\u001b[A\n",
      "Validation DataLoader 0:  75%|███████████████████████████████████████████▌              | 6/8 [00:00<00:00, 119.68it/s]\u001b[A\n",
      "Validation DataLoader 0:  88%|██████████████████████████████████████████████████▊       | 7/8 [00:00<00:00, 125.99it/s]\u001b[A\n",
      "Validation DataLoader 0: 100%|██████████████████████████████████████████████████████████| 8/8 [00:00<00:00, 127.79it/s]\u001b[A\n",
      "Epoch 26: 100%|████████████████████████████████████████████████████████████████| 8/8 [00:00<00:00, 68.50it/s, v_num=12]\u001b[A\n",
      "Validation: |                                                                                    | 0/? [00:00<?, ?it/s]\u001b[A\n",
      "Validation:   0%|                                                                                | 0/8 [00:00<?, ?it/s]\u001b[A\n",
      "Validation DataLoader 0:   0%|                                                                   | 0/8 [00:00<?, ?it/s]\u001b[A\n",
      "Validation DataLoader 0:  12%|███████▍                                                   | 1/8 [00:00<00:00, 95.55it/s]\u001b[A\n",
      "Validation DataLoader 0:  25%|██████████████▌                                           | 2/8 [00:00<00:00, 102.49it/s]\u001b[A\n",
      "Validation DataLoader 0:  38%|█████████████████████▊                                    | 3/8 [00:00<00:00, 119.83it/s]\u001b[A\n",
      "Validation DataLoader 0:  50%|█████████████████████████████                             | 4/8 [00:00<00:00, 125.32it/s]\u001b[A\n",
      "Validation DataLoader 0:  62%|████████████████████████████████████▎                     | 5/8 [00:00<00:00, 132.16it/s]\u001b[A\n",
      "Validation DataLoader 0:  75%|███████████████████████████████████████████▌              | 6/8 [00:00<00:00, 132.58it/s]\u001b[A\n",
      "Validation DataLoader 0:  88%|██████████████████████████████████████████████████▊       | 7/8 [00:00<00:00, 133.96it/s]\u001b[A\n",
      "Validation DataLoader 0: 100%|██████████████████████████████████████████████████████████| 8/8 [00:00<00:00, 137.33it/s]\u001b[A\n",
      "Epoch 27: 100%|████████████████████████████████████████████████████████████████| 8/8 [00:00<00:00, 74.29it/s, v_num=12]\u001b[A\n",
      "Validation: |                                                                                    | 0/? [00:00<?, ?it/s]\u001b[A\n",
      "Validation:   0%|                                                                                | 0/8 [00:00<?, ?it/s]\u001b[A\n",
      "Validation DataLoader 0:   0%|                                                                   | 0/8 [00:00<?, ?it/s]\u001b[A\n",
      "Validation DataLoader 0:  12%|███████▎                                                  | 1/8 [00:00<00:00, 113.09it/s]\u001b[A\n",
      "Validation DataLoader 0:  25%|██████████████▌                                           | 2/8 [00:00<00:00, 133.04it/s]\u001b[A\n",
      "Validation DataLoader 0:  38%|█████████████████████▊                                    | 3/8 [00:00<00:00, 136.17it/s]\u001b[A\n",
      "Validation DataLoader 0:  50%|█████████████████████████████                             | 4/8 [00:00<00:00, 142.70it/s]\u001b[A\n",
      "Validation DataLoader 0:  62%|████████████████████████████████████▎                     | 5/8 [00:00<00:00, 149.75it/s]\u001b[A\n",
      "Validation DataLoader 0:  75%|███████████████████████████████████████████▌              | 6/8 [00:00<00:00, 155.46it/s]\u001b[A\n",
      "Validation DataLoader 0:  88%|██████████████████████████████████████████████████▊       | 7/8 [00:00<00:00, 154.23it/s]\u001b[A\n",
      "Validation DataLoader 0: 100%|██████████████████████████████████████████████████████████| 8/8 [00:00<00:00, 158.77it/s]\u001b[A\n",
      "Epoch 28: 100%|████████████████████████████████████████████████████████████████| 8/8 [00:00<00:00, 66.21it/s, v_num=12]\u001b[A\n",
      "Validation: |                                                                                    | 0/? [00:00<?, ?it/s]\u001b[A\n",
      "Validation:   0%|                                                                                | 0/8 [00:00<?, ?it/s]\u001b[A\n",
      "Validation DataLoader 0:   0%|                                                                   | 0/8 [00:00<?, ?it/s]\u001b[A\n",
      "Validation DataLoader 0:  12%|███████▎                                                  | 1/8 [00:00<00:00, 106.33it/s]\u001b[A\n",
      "Validation DataLoader 0:  25%|██████████████▌                                           | 2/8 [00:00<00:00, 129.83it/s]\u001b[A\n",
      "Validation DataLoader 0:  38%|█████████████████████▊                                    | 3/8 [00:00<00:00, 132.66it/s]\u001b[A\n",
      "Validation DataLoader 0:  50%|█████████████████████████████                             | 4/8 [00:00<00:00, 144.84it/s]\u001b[A\n",
      "Validation DataLoader 0:  62%|████████████████████████████████████▎                     | 5/8 [00:00<00:00, 155.62it/s]\u001b[A\n",
      "Validation DataLoader 0:  75%|███████████████████████████████████████████▌              | 6/8 [00:00<00:00, 156.37it/s]\u001b[A\n",
      "Validation DataLoader 0:  88%|██████████████████████████████████████████████████▊       | 7/8 [00:00<00:00, 157.77it/s]\u001b[A\n",
      "Validation DataLoader 0: 100%|██████████████████████████████████████████████████████████| 8/8 [00:00<00:00, 158.29it/s]\u001b[A\n",
      "Epoch 29: 100%|████████████████████████████████████████████████████████████████| 8/8 [00:00<00:00, 65.13it/s, v_num=12]\u001b[A\n",
      "Validation: |                                                                                    | 0/? [00:00<?, ?it/s]\u001b[A\n",
      "Validation:   0%|                                                                                | 0/8 [00:00<?, ?it/s]\u001b[A\n",
      "Validation DataLoader 0:   0%|                                                                   | 0/8 [00:00<?, ?it/s]\u001b[A\n",
      "Validation DataLoader 0:  12%|███████▍                                                   | 1/8 [00:00<00:00, 65.28it/s]\u001b[A\n",
      "Validation DataLoader 0:  25%|██████████████▊                                            | 2/8 [00:00<00:00, 88.36it/s]\u001b[A\n",
      "Validation DataLoader 0:  38%|█████████████████████▊                                    | 3/8 [00:00<00:00, 104.77it/s]\u001b[A\n",
      "Validation DataLoader 0:  50%|█████████████████████████████                             | 4/8 [00:00<00:00, 115.49it/s]\u001b[A\n",
      "Validation DataLoader 0:  62%|████████████████████████████████████▎                     | 5/8 [00:00<00:00, 114.59it/s]\u001b[A\n",
      "Validation DataLoader 0:  75%|███████████████████████████████████████████▌              | 6/8 [00:00<00:00, 123.37it/s]\u001b[A\n",
      "Validation DataLoader 0:  88%|██████████████████████████████████████████████████▊       | 7/8 [00:00<00:00, 128.13it/s]\u001b[A\n",
      "Validation DataLoader 0: 100%|██████████████████████████████████████████████████████████| 8/8 [00:00<00:00, 131.45it/s]\u001b[A\n",
      "Epoch 29: 100%|████████████████████████████████████████████████████████████████| 8/8 [00:00<00:00, 36.03it/s, v_num=12]\u001b[A"
     ]
    },
    {
     "name": "stderr",
     "output_type": "stream",
     "text": [
      "`Trainer.fit` stopped: `max_epochs=30` reached.\n"
     ]
    },
    {
     "name": "stdout",
     "output_type": "stream",
     "text": [
      "Epoch 29: 100%|████████████████████████████████████████████████████████████████| 8/8 [00:00<00:00, 31.27it/s, v_num=12]\n"
     ]
    }
   ],
   "source": [
    "ff_trainer = Trainer(deterministic=True,\n",
    "max_epochs=30,\n",
    "log_every_n_steps=5,\n",
    "logger=logger,\n",
    "callbacks=[ErrorTracker()])\n",
    "ff_trainer.fit(ffn_module,datamodule=ffn_dm)"
   ]
  },
  {
   "cell_type": "code",
   "execution_count": 16,
   "id": "a67a1384-1070-44f2-8df7-2cf24d0f1a0d",
   "metadata": {},
   "outputs": [
    {
     "name": "stdout",
     "output_type": "stream",
     "text": [
      "Testing DataLoader 0: 100%|█████████████████████████████████████████████████████████████| 8/8 [00:00<00:00, 111.14it/s]\n",
      "────────────────────────────────────────────────────────────────────────────────────────────────────────────────────────\n",
      "       Test metric             DataLoader 0\n",
      "────────────────────────────────────────────────────────────────────────────────────────────────────────────────────────\n",
      "        test_loss            179.0413818359375\n",
      "        test_mae            11.442255973815918\n",
      "────────────────────────────────────────────────────────────────────────────────────────────────────────────────────────\n"
     ]
    },
    {
     "data": {
      "text/plain": [
       "[{'test_loss': 179.0413818359375, 'test_mae': 11.442255973815918}]"
      ]
     },
     "execution_count": 16,
     "metadata": {},
     "output_type": "execute_result"
    }
   ],
   "source": [
    "ff_trainer.test(ffn_module , datamodule=ffn_dm)"
   ]
  },
  {
   "cell_type": "code",
   "execution_count": 23,
   "id": "4db82f48-4f2e-4c62-b099-f3536127122b",
   "metadata": {},
   "outputs": [
    {
     "data": {
      "text/plain": [
       "tensor(12.1297, grad_fn=<MeanBackward0>)"
      ]
     },
     "execution_count": 23,
     "metadata": {},
     "output_type": "execute_result"
    }
   ],
   "source": [
    "preds = ffn_module(X)\n",
    "torch.abs(Y-preds).mean()"
   ]
  },
  {
   "cell_type": "code",
   "execution_count": 24,
   "id": "ad511c84-d2d9-4c0e-86ba-135a416e0241",
   "metadata": {},
   "outputs": [
    {
     "name": "stdout",
     "output_type": "stream",
     "text": [
      "tensor([34.1427, 11.3873, 32.9119,  5.8711], grad_fn=<SliceBackward0>)\n"
     ]
    }
   ],
   "source": [
    "print(preds[1:5])"
   ]
  },
  {
   "cell_type": "code",
   "execution_count": 25,
   "id": "8fc3eb1b-9e6f-41ba-858f-e7023dae9d6e",
   "metadata": {},
   "outputs": [
    {
     "name": "stdout",
     "output_type": "stream",
     "text": [
      "tensor([15., 18., 16., 17.])\n"
     ]
    }
   ],
   "source": [
    "print(Y[1:5])"
   ]
  },
  {
   "cell_type": "code",
   "execution_count": 18,
   "id": "46b41633-13b7-4675-aac8-9f702740ed66",
   "metadata": {
    "scrolled": true
   },
   "outputs": [
    {
     "data": {
      "image/png": "[encoded data removed]",
      "text/plain": [
       "<Figure size 640x480 with 1 Axes>"
      ]
     },
     "metadata": {},
     "output_type": "display_data"
    }
   ],
   "source": [
    "import matplotlib.pyplot as plt\n",
    "plt.plot(preds.detach().numpy(),Y.detach().numpy(),'o')\n",
    "plt.show()"
   ]
  }
 ],
 "metadata": {
  "kernelspec": {
   "display_name": "Python 3 (ipykernel)",
   "language": "python",
   "name": "python3"
  },
  "language_info": {
   "codemirror_mode": {
    "name": "ipython",
    "version": 3
   },
   "file_extension": ".py",
   "mimetype": "text/x-python",
   "name": "python",
   "nbconvert_exporter": "python",
   "pygments_lexer": "ipython3",
   "version": "3.11.9"
  }
 },
 "nbformat": 4,
 "nbformat_minor": 5
}
