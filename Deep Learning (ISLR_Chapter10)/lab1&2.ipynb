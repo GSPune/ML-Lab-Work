{
 "cells": [
  {
   "cell_type": "markdown",
   "metadata": {},
   "source": [
    "## Deep Learning (Lab Sections 1 & 2)"
   ]
  },
  {
   "cell_type": "code",
   "execution_count": 29,
   "metadata": {},
   "outputs": [
    {
     "name": "stdout",
     "output_type": "stream",
     "text": [
      "Hello to Deep Learning\n"
     ]
    }
   ],
   "source": [
    "import numpy as np, pandas as pd\n",
    "from matplotlib.pyplot import subplots\n",
    "from sklearn.linear_model import \\\n",
    "     (LinearRegression,\n",
    "      LogisticRegression,\n",
    "      Lasso)\n",
    "from sklearn.preprocessing import StandardScaler\n",
    "from sklearn.model_selection import KFold\n",
    "from sklearn.pipeline import Pipeline\n",
    "from ISLP import load_data\n",
    "from ISLP.models import ModelSpec as MS\n",
    "from sklearn.model_selection import \\\n",
    "     (train_test_split,\n",
    "      GridSearchCV)\n",
    "\n",
    "print(\"Hello to Deep Learning\")"
   ]
  },
  {
   "cell_type": "markdown",
   "metadata": {},
   "source": [
    "### Installing some main torch library and other essential tools.\n",
    "There are a number of imports for torch. (These are not included with ISLP, so must be installed separately.) All of them are used to specify sequentially-structured networks."
   ]
  },
  {
   "cell_type": "code",
   "execution_count": 30,
   "metadata": {},
   "outputs": [],
   "source": [
    "import torch\n",
    "from torch import nn\n",
    "from torch.optim import RMSprop\n",
    "from torch.utils.data import TensorDataset\n",
    "from torchmetrics import (MeanAbsoluteError,R2Score)\n",
    "from torchinfo import summary"
   ]
  },
  {
   "cell_type": "markdown",
   "metadata": {},
   "source": [
    " The package pytorch_lightning is a somewhat higher-level interface to torch that simplifies the specification and fitting of models by reducing the amount of boilerplate code needed (compared to using torch alone).\n",
    "\n",
    "In order to reproduce results we use seed_everything(). We will also instruct torch to use deterministic algorithms where possible."
   ]
  },
  {
   "cell_type": "code",
   "execution_count": 31,
   "metadata": {},
   "outputs": [
    {
     "name": "stderr",
     "output_type": "stream",
     "text": [
      "Seed set to 0\n"
     ]
    }
   ],
   "source": [
    "from pytorch_lightning import Trainer\n",
    "from pytorch_lightning.loggers import CSVLogger\n",
    "from pytorch_lightning import seed_everything\n",
    "seed_everything(0, workers=True)\n",
    "torch.use_deterministic_algorithms(True, warn_only=True)\n",
    "#We will use several datasets shipped with torchvision for our examples\n",
    "from torchvision.io import read_image\n",
    "from torchvision.datasets import MNIST, CIFAR100\n",
    "from torchvision.models import (resnet50,\n",
    "                                ResNet50_Weights)\n",
    "from torchvision.transforms import (Resize,\n",
    "                                    Normalize,\n",
    "                                    CenterCrop,\n",
    "                                    ToTensor)\n",
    "\n",
    "from ISLP.torch import (SimpleDataModule,\n",
    "                        SimpleModule,\n",
    "                        ErrorTracker,\n",
    "                        rec_num_workers)\n",
    "\n",
    "from ISLP.torch.imdb import (load_lookup,\n",
    "                             load_tensor,\n",
    "                             load_sparse,\n",
    "                             load_sequential)\n",
    "# The glob() function from the glob module is used to find all files matching wildcard characters\n",
    "from glob import glob\n",
    "import json"
   ]
  },
  {
   "cell_type": "code",
   "execution_count": 32,
   "metadata": {},
   "outputs": [
    {
     "name": "stdout",
     "output_type": "stream",
     "text": [
      "(263, 20)\n"
     ]
    }
   ],
   "source": [
    "Hitters = load_data('Hitters').dropna()\n",
    "print(Hitters.shape)\n",
    "n = Hitters.shape[0]"
   ]
  },
  {
   "cell_type": "markdown",
   "metadata": {},
   "source": [
    "We will fit two linear models (least squares and lasso) and compare their performance to that of a neural network. For this comparison we will use mean absolute error on a validation dataset. In tools like ModelSpec (from the ISLP library), the design matrix allows you to specify transformations, interaction terms, and polynomial expansions of features.\n",
    "\n",
    "It also allows machine learning models to understand and process the input data as well handle categorical variables (using one-hot encoding).Overall, fit_transform() in ModelSpec automates the creation of a design matrix, preparing data for machine learning models by fitting and transforming it in one step​."
   ]
  },
  {
   "cell_type": "code",
   "execution_count": 33,
   "metadata": {},
   "outputs": [
    {
     "data": {
      "text/html": [
       "<style>#sk-container-id-2 {\n",
       "  /* Definition of color scheme common for light and dark mode */\n",
       "  --sklearn-color-text: black;\n",
       "  --sklearn-color-line: gray;\n",
       "  /* Definition of color scheme for unfitted estimators */\n",
       "  --sklearn-color-unfitted-level-0: #fff5e6;\n",
       "  --sklearn-color-unfitted-level-1: #f6e4d2;\n",
       "  --sklearn-color-unfitted-level-2: #ffe0b3;\n",
       "  --sklearn-color-unfitted-level-3: chocolate;\n",
       "  /* Definition of color scheme for fitted estimators */\n",
       "  --sklearn-color-fitted-level-0: #f0f8ff;\n",
       "  --sklearn-color-fitted-level-1: #d4ebff;\n",
       "  --sklearn-color-fitted-level-2: #b3dbfd;\n",
       "  --sklearn-color-fitted-level-3: cornflowerblue;\n",
       "\n",
       "  /* Specific color for light theme */\n",
       "  --sklearn-color-text-on-default-background: var(--sg-text-color, var(--theme-code-foreground, var(--jp-content-font-color1, black)));\n",
       "  --sklearn-color-background: var(--sg-background-color, var(--theme-background, var(--jp-layout-color0, white)));\n",
       "  --sklearn-color-border-box: var(--sg-text-color, var(--theme-code-foreground, var(--jp-content-font-color1, black)));\n",
       "  --sklearn-color-icon: #696969;\n",
       "\n",
       "  @media (prefers-color-scheme: dark) {\n",
       "    /* Redefinition of color scheme for dark theme */\n",
       "    --sklearn-color-text-on-default-background: var(--sg-text-color, var(--theme-code-foreground, var(--jp-content-font-color1, white)));\n",
       "    --sklearn-color-background: var(--sg-background-color, var(--theme-background, var(--jp-layout-color0, #111)));\n",
       "    --sklearn-color-border-box: var(--sg-text-color, var(--theme-code-foreground, var(--jp-content-font-color1, white)));\n",
       "    --sklearn-color-icon: #878787;\n",
       "  }\n",
       "}\n",
       "\n",
       "#sk-container-id-2 {\n",
       "  color: var(--sklearn-color-text);\n",
       "}\n",
       "\n",
       "#sk-container-id-2 pre {\n",
       "  padding: 0;\n",
       "}\n",
       "\n",
       "#sk-container-id-2 input.sk-hidden--visually {\n",
       "  border: 0;\n",
       "  clip: rect(1px 1px 1px 1px);\n",
       "  clip: rect(1px, 1px, 1px, 1px);\n",
       "  height: 1px;\n",
       "  margin: -1px;\n",
       "  overflow: hidden;\n",
       "  padding: 0;\n",
       "  position: absolute;\n",
       "  width: 1px;\n",
       "}\n",
       "\n",
       "#sk-container-id-2 div.sk-dashed-wrapped {\n",
       "  border: 1px dashed var(--sklearn-color-line);\n",
       "  margin: 0 0.4em 0.5em 0.4em;\n",
       "  box-sizing: border-box;\n",
       "  padding-bottom: 0.4em;\n",
       "  background-color: var(--sklearn-color-background);\n",
       "}\n",
       "\n",
       "#sk-container-id-2 div.sk-container {\n",
       "  /* jupyter's `normalize.less` sets `[hidden] { display: none; }`\n",
       "     but bootstrap.min.css set `[hidden] { display: none !important; }`\n",
       "     so we also need the `!important` here to be able to override the\n",
       "     default hidden behavior on the sphinx rendered scikit-learn.org.\n",
       "     See: https://github.com/scikit-learn/scikit-learn/issues/21755 */\n",
       "  display: inline-block !important;\n",
       "  position: relative;\n",
       "}\n",
       "\n",
       "#sk-container-id-2 div.sk-text-repr-fallback {\n",
       "  display: none;\n",
       "}\n",
       "\n",
       "div.sk-parallel-item,\n",
       "div.sk-serial,\n",
       "div.sk-item {\n",
       "  /* draw centered vertical line to link estimators */\n",
       "  background-image: linear-gradient(var(--sklearn-color-text-on-default-background), var(--sklearn-color-text-on-default-background));\n",
       "  background-size: 2px 100%;\n",
       "  background-repeat: no-repeat;\n",
       "  background-position: center center;\n",
       "}\n",
       "\n",
       "/* Parallel-specific style estimator block */\n",
       "\n",
       "#sk-container-id-2 div.sk-parallel-item::after {\n",
       "  content: \"\";\n",
       "  width: 100%;\n",
       "  border-bottom: 2px solid var(--sklearn-color-text-on-default-background);\n",
       "  flex-grow: 1;\n",
       "}\n",
       "\n",
       "#sk-container-id-2 div.sk-parallel {\n",
       "  display: flex;\n",
       "  align-items: stretch;\n",
       "  justify-content: center;\n",
       "  background-color: var(--sklearn-color-background);\n",
       "  position: relative;\n",
       "}\n",
       "\n",
       "#sk-container-id-2 div.sk-parallel-item {\n",
       "  display: flex;\n",
       "  flex-direction: column;\n",
       "}\n",
       "\n",
       "#sk-container-id-2 div.sk-parallel-item:first-child::after {\n",
       "  align-self: flex-end;\n",
       "  width: 50%;\n",
       "}\n",
       "\n",
       "#sk-container-id-2 div.sk-parallel-item:last-child::after {\n",
       "  align-self: flex-start;\n",
       "  width: 50%;\n",
       "}\n",
       "\n",
       "#sk-container-id-2 div.sk-parallel-item:only-child::after {\n",
       "  width: 0;\n",
       "}\n",
       "\n",
       "/* Serial-specific style estimator block */\n",
       "\n",
       "#sk-container-id-2 div.sk-serial {\n",
       "  display: flex;\n",
       "  flex-direction: column;\n",
       "  align-items: center;\n",
       "  background-color: var(--sklearn-color-background);\n",
       "  padding-right: 1em;\n",
       "  padding-left: 1em;\n",
       "}\n",
       "\n",
       "\n",
       "/* Toggleable style: style used for estimator/Pipeline/ColumnTransformer box that is\n",
       "clickable and can be expanded/collapsed.\n",
       "- Pipeline and ColumnTransformer use this feature and define the default style\n",
       "- Estimators will overwrite some part of the style using the `sk-estimator` class\n",
       "*/\n",
       "\n",
       "/* Pipeline and ColumnTransformer style (default) */\n",
       "\n",
       "#sk-container-id-2 div.sk-toggleable {\n",
       "  /* Default theme specific background. It is overwritten whether we have a\n",
       "  specific estimator or a Pipeline/ColumnTransformer */\n",
       "  background-color: var(--sklearn-color-background);\n",
       "}\n",
       "\n",
       "/* Toggleable label */\n",
       "#sk-container-id-2 label.sk-toggleable__label {\n",
       "  cursor: pointer;\n",
       "  display: block;\n",
       "  width: 100%;\n",
       "  margin-bottom: 0;\n",
       "  padding: 0.5em;\n",
       "  box-sizing: border-box;\n",
       "  text-align: center;\n",
       "}\n",
       "\n",
       "#sk-container-id-2 label.sk-toggleable__label-arrow:before {\n",
       "  /* Arrow on the left of the label */\n",
       "  content: \"▸\";\n",
       "  float: left;\n",
       "  margin-right: 0.25em;\n",
       "  color: var(--sklearn-color-icon);\n",
       "}\n",
       "\n",
       "#sk-container-id-2 label.sk-toggleable__label-arrow:hover:before {\n",
       "  color: var(--sklearn-color-text);\n",
       "}\n",
       "\n",
       "/* Toggleable content - dropdown */\n",
       "\n",
       "#sk-container-id-2 div.sk-toggleable__content {\n",
       "  max-height: 0;\n",
       "  max-width: 0;\n",
       "  overflow: hidden;\n",
       "  text-align: left;\n",
       "  /* unfitted */\n",
       "  background-color: var(--sklearn-color-unfitted-level-0);\n",
       "}\n",
       "\n",
       "#sk-container-id-2 div.sk-toggleable__content.fitted {\n",
       "  /* fitted */\n",
       "  background-color: var(--sklearn-color-fitted-level-0);\n",
       "}\n",
       "\n",
       "#sk-container-id-2 div.sk-toggleable__content pre {\n",
       "  margin: 0.2em;\n",
       "  border-radius: 0.25em;\n",
       "  color: var(--sklearn-color-text);\n",
       "  /* unfitted */\n",
       "  background-color: var(--sklearn-color-unfitted-level-0);\n",
       "}\n",
       "\n",
       "#sk-container-id-2 div.sk-toggleable__content.fitted pre {\n",
       "  /* unfitted */\n",
       "  background-color: var(--sklearn-color-fitted-level-0);\n",
       "}\n",
       "\n",
       "#sk-container-id-2 input.sk-toggleable__control:checked~div.sk-toggleable__content {\n",
       "  /* Expand drop-down */\n",
       "  max-height: 200px;\n",
       "  max-width: 100%;\n",
       "  overflow: auto;\n",
       "}\n",
       "\n",
       "#sk-container-id-2 input.sk-toggleable__control:checked~label.sk-toggleable__label-arrow:before {\n",
       "  content: \"▾\";\n",
       "}\n",
       "\n",
       "/* Pipeline/ColumnTransformer-specific style */\n",
       "\n",
       "#sk-container-id-2 div.sk-label input.sk-toggleable__control:checked~label.sk-toggleable__label {\n",
       "  color: var(--sklearn-color-text);\n",
       "  background-color: var(--sklearn-color-unfitted-level-2);\n",
       "}\n",
       "\n",
       "#sk-container-id-2 div.sk-label.fitted input.sk-toggleable__control:checked~label.sk-toggleable__label {\n",
       "  background-color: var(--sklearn-color-fitted-level-2);\n",
       "}\n",
       "\n",
       "/* Estimator-specific style */\n",
       "\n",
       "/* Colorize estimator box */\n",
       "#sk-container-id-2 div.sk-estimator input.sk-toggleable__control:checked~label.sk-toggleable__label {\n",
       "  /* unfitted */\n",
       "  background-color: var(--sklearn-color-unfitted-level-2);\n",
       "}\n",
       "\n",
       "#sk-container-id-2 div.sk-estimator.fitted input.sk-toggleable__control:checked~label.sk-toggleable__label {\n",
       "  /* fitted */\n",
       "  background-color: var(--sklearn-color-fitted-level-2);\n",
       "}\n",
       "\n",
       "#sk-container-id-2 div.sk-label label.sk-toggleable__label,\n",
       "#sk-container-id-2 div.sk-label label {\n",
       "  /* The background is the default theme color */\n",
       "  color: var(--sklearn-color-text-on-default-background);\n",
       "}\n",
       "\n",
       "/* On hover, darken the color of the background */\n",
       "#sk-container-id-2 div.sk-label:hover label.sk-toggleable__label {\n",
       "  color: var(--sklearn-color-text);\n",
       "  background-color: var(--sklearn-color-unfitted-level-2);\n",
       "}\n",
       "\n",
       "/* Label box, darken color on hover, fitted */\n",
       "#sk-container-id-2 div.sk-label.fitted:hover label.sk-toggleable__label.fitted {\n",
       "  color: var(--sklearn-color-text);\n",
       "  background-color: var(--sklearn-color-fitted-level-2);\n",
       "}\n",
       "\n",
       "/* Estimator label */\n",
       "\n",
       "#sk-container-id-2 div.sk-label label {\n",
       "  font-family: monospace;\n",
       "  font-weight: bold;\n",
       "  display: inline-block;\n",
       "  line-height: 1.2em;\n",
       "}\n",
       "\n",
       "#sk-container-id-2 div.sk-label-container {\n",
       "  text-align: center;\n",
       "}\n",
       "\n",
       "/* Estimator-specific */\n",
       "#sk-container-id-2 div.sk-estimator {\n",
       "  font-family: monospace;\n",
       "  border: 1px dotted var(--sklearn-color-border-box);\n",
       "  border-radius: 0.25em;\n",
       "  box-sizing: border-box;\n",
       "  margin-bottom: 0.5em;\n",
       "  /* unfitted */\n",
       "  background-color: var(--sklearn-color-unfitted-level-0);\n",
       "}\n",
       "\n",
       "#sk-container-id-2 div.sk-estimator.fitted {\n",
       "  /* fitted */\n",
       "  background-color: var(--sklearn-color-fitted-level-0);\n",
       "}\n",
       "\n",
       "/* on hover */\n",
       "#sk-container-id-2 div.sk-estimator:hover {\n",
       "  /* unfitted */\n",
       "  background-color: var(--sklearn-color-unfitted-level-2);\n",
       "}\n",
       "\n",
       "#sk-container-id-2 div.sk-estimator.fitted:hover {\n",
       "  /* fitted */\n",
       "  background-color: var(--sklearn-color-fitted-level-2);\n",
       "}\n",
       "\n",
       "/* Specification for estimator info (e.g. \"i\" and \"?\") */\n",
       "\n",
       "/* Common style for \"i\" and \"?\" */\n",
       "\n",
       ".sk-estimator-doc-link,\n",
       "a:link.sk-estimator-doc-link,\n",
       "a:visited.sk-estimator-doc-link {\n",
       "  float: right;\n",
       "  font-size: smaller;\n",
       "  line-height: 1em;\n",
       "  font-family: monospace;\n",
       "  background-color: var(--sklearn-color-background);\n",
       "  border-radius: 1em;\n",
       "  height: 1em;\n",
       "  width: 1em;\n",
       "  text-decoration: none !important;\n",
       "  margin-left: 1ex;\n",
       "  /* unfitted */\n",
       "  border: var(--sklearn-color-unfitted-level-1) 1pt solid;\n",
       "  color: var(--sklearn-color-unfitted-level-1);\n",
       "}\n",
       "\n",
       ".sk-estimator-doc-link.fitted,\n",
       "a:link.sk-estimator-doc-link.fitted,\n",
       "a:visited.sk-estimator-doc-link.fitted {\n",
       "  /* fitted */\n",
       "  border: var(--sklearn-color-fitted-level-1) 1pt solid;\n",
       "  color: var(--sklearn-color-fitted-level-1);\n",
       "}\n",
       "\n",
       "/* On hover */\n",
       "div.sk-estimator:hover .sk-estimator-doc-link:hover,\n",
       ".sk-estimator-doc-link:hover,\n",
       "div.sk-label-container:hover .sk-estimator-doc-link:hover,\n",
       ".sk-estimator-doc-link:hover {\n",
       "  /* unfitted */\n",
       "  background-color: var(--sklearn-color-unfitted-level-3);\n",
       "  color: var(--sklearn-color-background);\n",
       "  text-decoration: none;\n",
       "}\n",
       "\n",
       "div.sk-estimator.fitted:hover .sk-estimator-doc-link.fitted:hover,\n",
       ".sk-estimator-doc-link.fitted:hover,\n",
       "div.sk-label-container:hover .sk-estimator-doc-link.fitted:hover,\n",
       ".sk-estimator-doc-link.fitted:hover {\n",
       "  /* fitted */\n",
       "  background-color: var(--sklearn-color-fitted-level-3);\n",
       "  color: var(--sklearn-color-background);\n",
       "  text-decoration: none;\n",
       "}\n",
       "\n",
       "/* Span, style for the box shown on hovering the info icon */\n",
       ".sk-estimator-doc-link span {\n",
       "  display: none;\n",
       "  z-index: 9999;\n",
       "  position: relative;\n",
       "  font-weight: normal;\n",
       "  right: .2ex;\n",
       "  padding: .5ex;\n",
       "  margin: .5ex;\n",
       "  width: min-content;\n",
       "  min-width: 20ex;\n",
       "  max-width: 50ex;\n",
       "  color: var(--sklearn-color-text);\n",
       "  box-shadow: 2pt 2pt 4pt #999;\n",
       "  /* unfitted */\n",
       "  background: var(--sklearn-color-unfitted-level-0);\n",
       "  border: .5pt solid var(--sklearn-color-unfitted-level-3);\n",
       "}\n",
       "\n",
       ".sk-estimator-doc-link.fitted span {\n",
       "  /* fitted */\n",
       "  background: var(--sklearn-color-fitted-level-0);\n",
       "  border: var(--sklearn-color-fitted-level-3);\n",
       "}\n",
       "\n",
       ".sk-estimator-doc-link:hover span {\n",
       "  display: block;\n",
       "}\n",
       "\n",
       "/* \"?\"-specific style due to the `<a>` HTML tag */\n",
       "\n",
       "#sk-container-id-2 a.estimator_doc_link {\n",
       "  float: right;\n",
       "  font-size: 1rem;\n",
       "  line-height: 1em;\n",
       "  font-family: monospace;\n",
       "  background-color: var(--sklearn-color-background);\n",
       "  border-radius: 1rem;\n",
       "  height: 1rem;\n",
       "  width: 1rem;\n",
       "  text-decoration: none;\n",
       "  /* unfitted */\n",
       "  color: var(--sklearn-color-unfitted-level-1);\n",
       "  border: var(--sklearn-color-unfitted-level-1) 1pt solid;\n",
       "}\n",
       "\n",
       "#sk-container-id-2 a.estimator_doc_link.fitted {\n",
       "  /* fitted */\n",
       "  border: var(--sklearn-color-fitted-level-1) 1pt solid;\n",
       "  color: var(--sklearn-color-fitted-level-1);\n",
       "}\n",
       "\n",
       "/* On hover */\n",
       "#sk-container-id-2 a.estimator_doc_link:hover {\n",
       "  /* unfitted */\n",
       "  background-color: var(--sklearn-color-unfitted-level-3);\n",
       "  color: var(--sklearn-color-background);\n",
       "  text-decoration: none;\n",
       "}\n",
       "\n",
       "#sk-container-id-2 a.estimator_doc_link.fitted:hover {\n",
       "  /* fitted */\n",
       "  background-color: var(--sklearn-color-fitted-level-3);\n",
       "}\n",
       "</style><div id=\"sk-container-id-2\" class=\"sk-top-container\"><div class=\"sk-text-repr-fallback\"><pre>ModelSpec(intercept=False,\n",
       "          terms=Index([&#x27;AtBat&#x27;, &#x27;Hits&#x27;, &#x27;HmRun&#x27;, &#x27;Runs&#x27;, &#x27;RBI&#x27;, &#x27;Walks&#x27;, &#x27;Years&#x27;, &#x27;CAtBat&#x27;,\n",
       "       &#x27;CHits&#x27;, &#x27;CHmRun&#x27;, &#x27;CRuns&#x27;, &#x27;CRBI&#x27;, &#x27;CWalks&#x27;, &#x27;League&#x27;, &#x27;Division&#x27;,\n",
       "       &#x27;PutOuts&#x27;, &#x27;Assists&#x27;, &#x27;Errors&#x27;, &#x27;NewLeague&#x27;],\n",
       "      dtype=&#x27;object&#x27;))</pre><b>In a Jupyter environment, please rerun this cell to show the HTML representation or trust the notebook. <br />On GitHub, the HTML representation is unable to render, please try loading this page with nbviewer.org.</b></div><div class=\"sk-container\" hidden><div class=\"sk-item\"><div class=\"sk-estimator fitted sk-toggleable\"><input class=\"sk-toggleable__control sk-hidden--visually\" id=\"sk-estimator-id-2\" type=\"checkbox\" checked><label for=\"sk-estimator-id-2\" class=\"sk-toggleable__label fitted sk-toggleable__label-arrow fitted\">&nbsp;ModelSpec<span class=\"sk-estimator-doc-link fitted\">i<span>Fitted</span></span></label><div class=\"sk-toggleable__content fitted\"><pre>ModelSpec(intercept=False,\n",
       "          terms=Index([&#x27;AtBat&#x27;, &#x27;Hits&#x27;, &#x27;HmRun&#x27;, &#x27;Runs&#x27;, &#x27;RBI&#x27;, &#x27;Walks&#x27;, &#x27;Years&#x27;, &#x27;CAtBat&#x27;,\n",
       "       &#x27;CHits&#x27;, &#x27;CHmRun&#x27;, &#x27;CRuns&#x27;, &#x27;CRBI&#x27;, &#x27;CWalks&#x27;, &#x27;League&#x27;, &#x27;Division&#x27;,\n",
       "       &#x27;PutOuts&#x27;, &#x27;Assists&#x27;, &#x27;Errors&#x27;, &#x27;NewLeague&#x27;],\n",
       "      dtype=&#x27;object&#x27;))</pre></div> </div></div></div></div>"
      ],
      "text/plain": [
       "ModelSpec(intercept=False,\n",
       "          terms=Index(['AtBat', 'Hits', 'HmRun', 'Runs', 'RBI', 'Walks', 'Years', 'CAtBat',\n",
       "       'CHits', 'CHmRun', 'CRuns', 'CRBI', 'CWalks', 'League', 'Division',\n",
       "       'PutOuts', 'Assists', 'Errors', 'NewLeague'],\n",
       "      dtype='object'))"
      ]
     },
     "execution_count": 33,
     "metadata": {},
     "output_type": "execute_result"
    }
   ],
   "source": [
    "model = MS(Hitters.columns.drop('Salary'),intercept=False)\n",
    "X = model.fit_transform(Hitters).to_numpy()\n",
    "Y = Hitters['Salary'].to_numpy()\n",
    "model"
   ]
  },
  {
   "cell_type": "markdown",
   "metadata": {},
   "source": [
    "The to_numpy() method above converts pandas data frames or series to numpy arrays. We do this because we will need to use sklearn to fit the lasso model, and it requires this conversion. We now split the data into test and training, fixing the random state used by sklearn to do the split."
   ]
  },
  {
   "cell_type": "code",
   "execution_count": 34,
   "metadata": {},
   "outputs": [],
   "source": [
    "(X_train, \n",
    " X_test,\n",
    " Y_train,\n",
    " Y_test) = train_test_split(X,\n",
    "                            Y,\n",
    "                            test_size=1/3,\n",
    "                            random_state=1)\n",
    "# X_train.shape\n",
    "# X_test.shape\n",
    "# Y_train.shape"
   ]
  },
  {
   "cell_type": "markdown",
   "metadata": {},
   "source": [
    "### Linear Models"
   ]
  },
  {
   "cell_type": "markdown",
   "metadata": {},
   "source": [
    "We fit the linear model and evaluate the test error directly.   "
   ]
  },
  {
   "cell_type": "code",
   "execution_count": 35,
   "metadata": {},
   "outputs": [
    {
     "data": {
      "text/plain": [
       "259.71528833146294"
      ]
     },
     "execution_count": 35,
     "metadata": {},
     "output_type": "execute_result"
    }
   ],
   "source": [
    "hit_lm = LinearRegression().fit(X_train, Y_train)\n",
    "Yhat_test = hit_lm.predict(X_test)\n",
    "np.abs(Yhat_test - Y_test).mean()"
   ]
  },
  {
   "cell_type": "markdown",
   "metadata": {},
   "source": [
    "Next we fit the lasso using sklearn. We are using mean absolute error to select and evaluate a model, rather than mean squared error. \n",
    "Pipeline is a scikit-learn class used to chain multiple steps together. In this case, it chains standardization and Lasso regression into a single workflow."
   ]
  },
  {
   "cell_type": "code",
   "execution_count": 36,
   "metadata": {},
   "outputs": [],
   "source": [
    "scaler = StandardScaler(with_mean=True, with_std=True)\n",
    "lasso = Lasso(warm_start=True, max_iter=30000)\n",
    "standard_lasso = Pipeline(steps=[('scaler', scaler),\n",
    "                                 ('lasso', lasso)])\n",
    "\n",
    "X_s = scaler.fit_transform(X_train)\n",
    "n = X_s.shape[0]\n",
    "lam_max = np.fabs(X_s.T.dot(Y_train - Y_train.mean())).max() / n\n",
    "param_grid = {'lasso__alpha': np.exp(np.linspace(0, np.log(0.01), 100))\n",
    "             * lam_max}\n",
    "# param_grid\n",
    "# lam_max"
   ]
  },
  {
   "cell_type": "markdown",
   "metadata": {},
   "source": [
    "lam_max is the value of the regularization parameter (lambda) beyond which all coefficients in the Lasso regression model would be shrunk to zero. It's essentially the highest level of regularization that would still allow some coefficients to remain non-zero.\n",
    "\n",
    "We also now perform cross validation using this sequence of tuning regularization parameter (lambda) values.The 'param_grid' can be used in conjunction with GridSearchCV to find the optimal value of lambda for Lasso regression:"
   ]
  },
  {
   "cell_type": "code",
   "execution_count": 37,
   "metadata": {},
   "outputs": [],
   "source": [
    "cv = KFold(10,\n",
    "           shuffle=True,\n",
    "           random_state=1)\n",
    "grid = GridSearchCV(standard_lasso,\n",
    "                    param_grid,\n",
    "                    cv=cv,\n",
    "                    scoring='neg_mean_absolute_error')\n",
    "grid.fit(X_train, Y_train);\n",
    "# grid"
   ]
  },
  {
   "cell_type": "markdown",
   "metadata": {},
   "source": [
    "We extract the lasso model with best cross-validated mean absolute error, and evaluate its performance on X_test and Y_test, which were not used in cross-validation."
   ]
  },
  {
   "cell_type": "code",
   "execution_count": 38,
   "metadata": {},
   "outputs": [
    {
     "data": {
      "text/plain": [
       "235.6754837478029"
      ]
     },
     "execution_count": 38,
     "metadata": {},
     "output_type": "execute_result"
    }
   ],
   "source": [
    "trained_lasso = grid.best_estimator_\n",
    "Yhat_test = trained_lasso.predict(X_test)\n",
    "np.fabs(Yhat_test - Y_test).mean()"
   ]
  },
  {
   "cell_type": "markdown",
   "metadata": {},
   "source": [
    "### Specifying a Neural Network: Classes and Inheritance\n",
    "To fit the neural network, we first set up a model structure that describes the network. Doing so requires us to define new classes specific to the model we wish to fit. Typically this is done in pytorch by sub-classing a generic representation of a network, which is the approach we take here."
   ]
  },
  {
   "cell_type": "code",
   "execution_count": 39,
   "metadata": {},
   "outputs": [],
   "source": [
    "#specifying network architecture\n",
    "class HittersModel(nn.Module): #this class inherits from nn.module\n",
    "\n",
    "    #create objects  \n",
    "    def __init__(self,input_size):\n",
    "        super(HittersModel,self).__init__()\n",
    "        self.flatten = nn.Flatten()\n",
    "        #nn.Sequential is a container that holds layers in sequence. \n",
    "        #The input data flows through these layers one by one.\n",
    "        self.sequential = nn.Sequential(\n",
    "            nn.Linear(input_size,50), # Fully connected layer: input -> 50 neurons\n",
    "            nn.ReLU(), \n",
    "            nn.Dropout(0.4), # Dropout with a probability of 0.4\n",
    "            nn.Linear(50,1) # Fully connected layer: 50 -> output 1 neuron\n",
    "        )\n",
    "\n",
    "    def forward(self,x):\n",
    "        x = self.flatten(x)\n",
    "        return torch.flatten(self.sequential(x))"
   ]
  },
  {
   "cell_type": "markdown",
   "metadata": {},
   "source": [
    "This defines a simple feedforward neural network (single hidden layer) with 50 neurons in the hidden layer and a ReLU activation function, followed by dropout and a final output layer. The class above inherits from nn.module base class.\n",
    "\n",
    "The __init__ method creates instances of the hitters model class and has two model attributes flatten and sequential which are used in the forward method. 'super()' allows subclasses (i.e. HittersModel) to access methods of the class they inherit from. \n",
    "\n",
    "In the sequential attribute, the input data flows through all the layers (along with applied functions) we define one by one such as the Rectified Linear Activation Function,40% dropout layer and hidden layer(s) (here size -> 50 and features are 19).All these layers are mapped to one another."
   ]
  },
  {
   "cell_type": "code",
   "execution_count": 40,
   "metadata": {},
   "outputs": [
    {
     "data": {
      "text/plain": [
       "HittersModel(\n",
       "  (flatten): Flatten(start_dim=1, end_dim=-1)\n",
       "  (sequential): Sequential(\n",
       "    (0): Linear(in_features=19, out_features=50, bias=True)\n",
       "    (1): ReLU()\n",
       "    (2): Dropout(p=0.4, inplace=False)\n",
       "    (3): Linear(in_features=50, out_features=1, bias=True)\n",
       "  )\n",
       ")"
      ]
     },
     "execution_count": 40,
     "metadata": {},
     "output_type": "execute_result"
    }
   ],
   "source": [
    "hit_model = HittersModel(X.shape[1])\n",
    "hit_model"
   ]
  },
  {
   "cell_type": "markdown",
   "metadata": {},
   "source": [
    "The package torchinfo provides a summary() function that neatly summarizes this information. We specify the size of the input and see the size of each tensor as it passes through layers of the network."
   ]
  },
  {
   "cell_type": "code",
   "execution_count": 41,
   "metadata": {},
   "outputs": [
    {
     "data": {
      "text/plain": [
       "===================================================================================================================\n",
       "Layer (type:depth-idx)                   Input Shape               Output Shape              Param #\n",
       "===================================================================================================================\n",
       "HittersModel                             [175, 19]                 [175]                     --\n",
       "├─Flatten: 1-1                           [175, 19]                 [175, 19]                 --\n",
       "├─Sequential: 1-2                        [175, 19]                 [175, 1]                  --\n",
       "│    └─Linear: 2-1                       [175, 19]                 [175, 50]                 1,000\n",
       "│    └─ReLU: 2-2                         [175, 50]                 [175, 50]                 --\n",
       "│    └─Dropout: 2-3                      [175, 50]                 [175, 50]                 --\n",
       "│    └─Linear: 2-4                       [175, 50]                 [175, 1]                  51\n",
       "===================================================================================================================\n",
       "Total params: 1,051\n",
       "Trainable params: 1,051\n",
       "Non-trainable params: 0\n",
       "Total mult-adds (Units.MEGABYTES): 0.18\n",
       "===================================================================================================================\n",
       "Input size (MB): 0.01\n",
       "Forward/backward pass size (MB): 0.07\n",
       "Params size (MB): 0.00\n",
       "Estimated Total Size (MB): 0.09\n",
       "==================================================================================================================="
      ]
     },
     "execution_count": 41,
     "metadata": {},
     "output_type": "execute_result"
    }
   ],
   "source": [
    "summary(hit_model, \n",
    "        input_size=X_train.shape,\n",
    "        col_names=['input_size',\n",
    "                   'output_size',\n",
    "                   'num_params'])"
   ]
  },
  {
   "cell_type": "markdown",
   "metadata": {},
   "source": [
    "Now we wish to see the final results (i.e. the error metrics) of this neural network and should be expecting some good answers (compared to the previous models) as there is quite a lot of parameters.\n",
    "\n",
    "Since the data is a bit different, i.e. the datatypes are not tensors which are the basic DT in torch, we need to convert it to a more accesible form.As usual we again create a test and training dataset split, this time using the TensorDataset function.\n"
   ]
  },
  {
   "cell_type": "code",
   "execution_count": 42,
   "metadata": {},
   "outputs": [],
   "source": [
    "X_train_t = torch.tensor(X_train.astype(np.float32)) # numpy array(s)\n",
    "Y_train_t = torch.tensor(Y_train.astype(np.float32))\n",
    "hit_train = TensorDataset(X_train_t, Y_train_t)\n",
    "\n",
    "#test data\n",
    "X_test_t = torch.tensor(X_test.astype(np.float32))\n",
    "Y_test_t = torch.tensor(Y_test.astype(np.float32))\n",
    "hit_test = TensorDataset(X_test_t, Y_test_t)\n",
    "\n",
    "max_num_workers = rec_num_workers()"
   ]
  },
  {
   "cell_type": "markdown",
   "metadata": {},
   "source": [
    "Finally, this dataset is passed to a DataLoader() which ultimately passes data into our network. While this may seem like a lot of overhead, this structure is helpful for more complex tasks where data may live on different machines, or where data must be passed to a GPU. We provide a helper function SimpleDataModule() provided in ISLP to make this task easier for standard usage.\n",
    "\n",
    "We now use this to tell torch how to read in the data for Stochastic gradient descent.We provide the training and test data sets as well as the batch size (of 32) and a validation set (test set only in this case).The parameter 'num_workers' indicates how many processes we will use for loading the data.\n",
    "\n",
    "By using the SimpleModule.regression() method, we indicate that we will use squared-error loss.We have also asked for mean absolute error to be tracked as well in the metrics that are logged.\n",
    "\n",
    "The whole process might feel cumbersome but tends to repeat itself and can be redone after the steps are understood."
   ]
  },
  {
   "cell_type": "code",
   "execution_count": 43,
   "metadata": {},
   "outputs": [],
   "source": [
    "hit_dm = SimpleDataModule(hit_train,\n",
    "                          hit_test,\n",
    "                          batch_size=32,\n",
    "                          num_workers=min(4, max_num_workers),\n",
    "                          validation=hit_test)\n",
    "\n",
    "#prediction and measuring squared error loss\n",
    "hit_module = SimpleModule.regression(hit_model,metrics={'mae':MeanAbsoluteError()})\n",
    "\n",
    "# We can log our results via CSVLogger(), which in this case stores the results in a CSV file within a directory logs/hitters\n",
    "hit_logger = CSVLogger('logs', name='hitters')"
   ]
  },
  {
   "cell_type": "markdown",
   "metadata": {},
   "source": [
    "Now we are finally ready to train our model and put everything together to run stochastic gradient descent.We provide some logging details and maximum no of epochs information in the Trainer method (object from pytorch_lightning).The callback argument uses the helper function ErrorTracker() to track the error/loss (at every epoch) in our logs and we use this to make plots as we go along the epochs. "
   ]
  },
  {
   "cell_type": "code",
   "execution_count": 44,
   "metadata": {},
   "outputs": [
    {
     "name": "stderr",
     "output_type": "stream",
     "text": [
      "GPU available: False, used: False\n",
      "TPU available: False, using: 0 TPU cores\n",
      "HPU available: False, using: 0 HPUs\n",
      "\n",
      "  | Name  | Type         | Params | Mode \n",
      "-----------------------------------------------\n",
      "0 | model | HittersModel | 1.1 K  | train\n",
      "1 | loss  | MSELoss      | 0      | train\n",
      "-----------------------------------------------\n",
      "1.1 K     Trainable params\n",
      "0         Non-trainable params\n",
      "1.1 K     Total params\n",
      "0.004     Total estimated model params size (MB)\n",
      "8         Modules in train mode\n",
      "0         Modules in eval mode\n"
     ]
    },
    {
     "name": "stdout",
     "output_type": "stream",
     "text": [
      "Epoch 0: 100%|██████████████████████████████████████████████████████████████████████████████████████████████████████| 6/6 [00:05<00:00,  1.13it/s, v_num=1]\n",
      "Validation: |                                                                                                                        | 0/? [00:00<?, ?it/s]\u001b[A\n",
      "Validation:   0%|                                                                                                                    | 0/3 [00:00<?, ?it/s]\u001b[A\n",
      "Validation DataLoader 0:   0%|                                                                                                       | 0/3 [00:00<?, ?it/s]\u001b[A\n",
      "Validation DataLoader 0:  33%|███████████████████████████████▎                                                              | 1/3 [00:00<00:00, 463.51it/s]\u001b[A\n",
      "Validation DataLoader 0:  67%|██████████████████████████████████████████████████████████████▋                               | 2/3 [00:00<00:00, 165.23it/s]\u001b[A\n",
      "Validation DataLoader 0: 100%|██████████████████████████████████████████████████████████████████████████████████████████████| 3/3 [00:00<00:00, 190.27it/s]\u001b[A\n",
      "Epoch 1: 100%|█████████████████████████████████████████████████████████████████████████████████████████████████████| 6/6 [00:00<00:00, 126.09it/s, v_num=1]\u001b[A\n",
      "Validation: |                                                                                                                        | 0/? [00:00<?, ?it/s]\u001b[A\n",
      "Validation:   0%|                                                                                                                    | 0/3 [00:00<?, ?it/s]\u001b[A\n",
      "Validation DataLoader 0:   0%|                                                                                                       | 0/3 [00:00<?, ?it/s]\u001b[A\n",
      "Validation DataLoader 0:  33%|███████████████████████████████▋                                                               | 1/3 [00:00<00:00, 66.63it/s]\u001b[A\n",
      "Validation DataLoader 0:  67%|██████████████████████████████████████████████████████████████▋                               | 2/3 [00:00<00:00, 133.25it/s]\u001b[A\n",
      "Validation DataLoader 0: 100%|██████████████████████████████████████████████████████████████████████████████████████████████| 3/3 [00:00<00:00, 199.88it/s]\u001b[A\n",
      "Epoch 2: 100%|█████████████████████████████████████████████████████████████████████████████████████████████████████| 6/6 [00:00<00:00, 151.21it/s, v_num=1]\u001b[A\n",
      "Validation: |                                                                                                                        | 0/? [00:00<?, ?it/s]\u001b[A\n",
      "Validation:   0%|                                                                                                                    | 0/3 [00:00<?, ?it/s]\u001b[A\n",
      "Validation DataLoader 0:   0%|                                                                                                       | 0/3 [00:00<?, ?it/s]\u001b[A\n",
      "Validation DataLoader 0:  33%|██████████████████████████████████▎                                                                    | 1/3 [00:00<?, ?it/s]\u001b[A\n",
      "Validation DataLoader 0:  67%|██████████████████████████████████████████████████████████████▋                               | 2/3 [00:00<00:00, 113.84it/s]\u001b[A\n",
      "Validation DataLoader 0: 100%|██████████████████████████████████████████████████████████████████████████████████████████████| 3/3 [00:00<00:00, 141.34it/s]\u001b[A\n",
      "Epoch 3: 100%|█████████████████████████████████████████████████████████████████████████████████████████████████████| 6/6 [00:00<00:00, 109.56it/s, v_num=1]\u001b[A\n",
      "Validation: |                                                                                                                        | 0/? [00:00<?, ?it/s]\u001b[A\n",
      "Validation:   0%|                                                                                                                    | 0/3 [00:00<?, ?it/s]\u001b[A\n",
      "Validation DataLoader 0:   0%|                                                                                                       | 0/3 [00:00<?, ?it/s]\u001b[A\n",
      "Validation DataLoader 0:  33%|███████████████████████████████▎                                                              | 1/3 [00:00<00:00, 142.80it/s]\u001b[A\n",
      "Validation DataLoader 0:  67%|██████████████████████████████████████████████████████████████▋                               | 2/3 [00:00<00:00, 155.65it/s]\u001b[A\n",
      "Validation DataLoader 0: 100%|██████████████████████████████████████████████████████████████████████████████████████████████| 3/3 [00:00<00:00, 186.55it/s]\u001b[A\n",
      "Epoch 4: 100%|█████████████████████████████████████████████████████████████████████████████████████████████████████| 6/6 [00:00<00:00, 114.93it/s, v_num=1]\u001b[A\n",
      "Validation: |                                                                                                                        | 0/? [00:00<?, ?it/s]\u001b[A\n",
      "Validation:   0%|                                                                                                                    | 0/3 [00:00<?, ?it/s]\u001b[A\n",
      "Validation DataLoader 0:   0%|                                                                                                       | 0/3 [00:00<?, ?it/s]\u001b[A\n",
      "Validation DataLoader 0:  33%|███████████████████████████████▎                                                              | 1/3 [00:00<00:00, 159.81it/s]\u001b[A\n",
      "Validation DataLoader 0:  67%|██████████████████████████████████████████████████████████████▋                               | 2/3 [00:00<00:00, 189.52it/s]\u001b[A\n",
      "Validation DataLoader 0: 100%|██████████████████████████████████████████████████████████████████████████████████████████████| 3/3 [00:00<00:00, 192.04it/s]\u001b[A\n",
      "Epoch 5: 100%|██████████████████████████████████████████████████████████████████████████████████████████████████████| 6/6 [00:00<00:00, 91.90it/s, v_num=1]\u001b[A\n",
      "Validation: |                                                                                                                        | 0/? [00:00<?, ?it/s]\u001b[A\n",
      "Validation:   0%|                                                                                                                    | 0/3 [00:00<?, ?it/s]\u001b[A\n",
      "Validation DataLoader 0:   0%|                                                                                                       | 0/3 [00:00<?, ?it/s]\u001b[A\n",
      "Validation DataLoader 0:  33%|███████████████████████████████▋                                                               | 1/3 [00:00<00:00, 74.82it/s]\u001b[A\n",
      "Validation DataLoader 0:  67%|███████████████████████████████████████████████████████████████▎                               | 2/3 [00:00<00:00, 98.30it/s]\u001b[A\n",
      "Validation DataLoader 0: 100%|██████████████████████████████████████████████████████████████████████████████████████████████| 3/3 [00:00<00:00, 147.45it/s]\u001b[A\n",
      "Epoch 6: 100%|█████████████████████████████████████████████████████████████████████████████████████████████████████| 6/6 [00:00<00:00, 104.51it/s, v_num=1]\u001b[A\n",
      "Validation: |                                                                                                                        | 0/? [00:00<?, ?it/s]\u001b[A\n",
      "Validation:   0%|                                                                                                                    | 0/3 [00:00<?, ?it/s]\u001b[A\n",
      "Validation DataLoader 0:   0%|                                                                                                       | 0/3 [00:00<?, ?it/s]\u001b[A\n",
      "Validation DataLoader 0:  33%|███████████████████████████████▋                                                               | 1/3 [00:00<00:00, 67.58it/s]\u001b[A\n",
      "Validation DataLoader 0:  67%|██████████████████████████████████████████████████████████████▋                               | 2/3 [00:00<00:00, 114.36it/s]\u001b[A\n",
      "Validation DataLoader 0: 100%|██████████████████████████████████████████████████████████████████████████████████████████████| 3/3 [00:00<00:00, 133.61it/s]\u001b[A\n",
      "Epoch 7: 100%|█████████████████████████████████████████████████████████████████████████████████████████████████████| 6/6 [00:00<00:00, 108.72it/s, v_num=1]\u001b[A\n",
      "Validation: |                                                                                                                        | 0/? [00:00<?, ?it/s]\u001b[A\n",
      "Validation:   0%|                                                                                                                    | 0/3 [00:00<?, ?it/s]\u001b[A\n",
      "Validation DataLoader 0:   0%|                                                                                                       | 0/3 [00:00<?, ?it/s]\u001b[A\n",
      "Validation DataLoader 0:  33%|███████████████████████████████▋                                                               | 1/3 [00:00<00:00, 66.62it/s]\u001b[A\n",
      "Validation DataLoader 0:  67%|███████████████████████████████████████████████████████████████▎                               | 2/3 [00:00<00:00, 91.79it/s]\u001b[A\n",
      "Validation DataLoader 0: 100%|██████████████████████████████████████████████████████████████████████████████████████████████| 3/3 [00:00<00:00, 119.97it/s]\u001b[A\n",
      "Epoch 8: 100%|█████████████████████████████████████████████████████████████████████████████████████████████████████| 6/6 [00:00<00:00, 108.75it/s, v_num=1]\u001b[A\n",
      "Validation: |                                                                                                                        | 0/? [00:00<?, ?it/s]\u001b[A\n",
      "Validation:   0%|                                                                                                                    | 0/3 [00:00<?, ?it/s]\u001b[A\n",
      "Validation DataLoader 0:   0%|                                                                                                       | 0/3 [00:00<?, ?it/s]\u001b[A\n",
      "Validation DataLoader 0:  33%|███████████████████████████████▎                                                              | 1/3 [00:00<00:00, 123.09it/s]\u001b[A\n",
      "Validation DataLoader 0:  67%|██████████████████████████████████████████████████████████████▋                               | 2/3 [00:00<00:00, 154.87it/s]\u001b[A\n",
      "Validation DataLoader 0: 100%|██████████████████████████████████████████████████████████████████████████████████████████████| 3/3 [00:00<00:00, 166.23it/s]\u001b[A\n",
      "Epoch 9: 100%|██████████████████████████████████████████████████████████████████████████████████████████████████████| 6/6 [00:00<00:00, 96.45it/s, v_num=1]\u001b[A\n",
      "Validation: |                                                                                                                        | 0/? [00:00<?, ?it/s]\u001b[A\n",
      "Validation:   0%|                                                                                                                    | 0/3 [00:00<?, ?it/s]\u001b[A\n",
      "Validation DataLoader 0:   0%|                                                                                                       | 0/3 [00:00<?, ?it/s]\u001b[A\n",
      "Validation DataLoader 0:  33%|███████████████████████████████▎                                                              | 1/3 [00:00<00:00, 147.54it/s]\u001b[A\n",
      "Validation DataLoader 0:  67%|██████████████████████████████████████████████████████████████▋                               | 2/3 [00:00<00:00, 199.36it/s]\u001b[A\n",
      "Validation DataLoader 0: 100%|██████████████████████████████████████████████████████████████████████████████████████████████| 3/3 [00:00<00:00, 213.69it/s]\u001b[A\n",
      "Epoch 10: 100%|████████████████████████████████████████████████████████████████████████████████████████████████████| 6/6 [00:00<00:00, 130.33it/s, v_num=1]\u001b[A\n",
      "Validation: |                                                                                                                        | 0/? [00:00<?, ?it/s]\u001b[A\n",
      "Validation:   0%|                                                                                                                    | 0/3 [00:00<?, ?it/s]\u001b[A\n",
      "Validation DataLoader 0:   0%|                                                                                                       | 0/3 [00:00<?, ?it/s]\u001b[A\n",
      "Validation DataLoader 0:  33%|███████████████████████████████▎                                                              | 1/3 [00:00<00:00, 142.94it/s]\u001b[A\n",
      "Validation DataLoader 0:  67%|██████████████████████████████████████████████████████████████▋                               | 2/3 [00:00<00:00, 179.70it/s]\u001b[A\n",
      "Validation DataLoader 0: 100%|██████████████████████████████████████████████████████████████████████████████████████████████| 3/3 [00:00<00:00, 188.63it/s]\u001b[A\n",
      "Epoch 11: 100%|████████████████████████████████████████████████████████████████████████████████████████████████████| 6/6 [00:00<00:00, 113.92it/s, v_num=1]\u001b[A\n",
      "Validation: |                                                                                                                        | 0/? [00:00<?, ?it/s]\u001b[A\n",
      "Validation:   0%|                                                                                                                    | 0/3 [00:00<?, ?it/s]\u001b[A\n",
      "Validation DataLoader 0:   0%|                                                                                                       | 0/3 [00:00<?, ?it/s]\u001b[A\n",
      "Validation DataLoader 0:  33%|███████████████████████████████▎                                                              | 1/3 [00:00<00:00, 334.63it/s]\u001b[A\n",
      "Validation DataLoader 0:  67%|██████████████████████████████████████████████████████████████▋                               | 2/3 [00:00<00:00, 669.27it/s]\u001b[A\n",
      "Validation DataLoader 0: 100%|██████████████████████████████████████████████████████████████████████████████████████████████| 3/3 [00:00<00:00, 187.28it/s]\u001b[A\n",
      "Epoch 12: 100%|█████████████████████████████████████████████████████████████████████████████████████████████████████| 6/6 [00:00<00:00, 99.51it/s, v_num=1]\u001b[A\n",
      "Validation: |                                                                                                                        | 0/? [00:00<?, ?it/s]\u001b[A\n",
      "Validation:   0%|                                                                                                                    | 0/3 [00:00<?, ?it/s]\u001b[A\n",
      "Validation DataLoader 0:   0%|                                                                                                       | 0/3 [00:00<?, ?it/s]\u001b[A\n",
      "Validation DataLoader 0:  33%|███████████████████████████████▎                                                              | 1/3 [00:00<00:00, 101.89it/s]\u001b[A\n",
      "Validation DataLoader 0:  67%|██████████████████████████████████████████████████████████████▋                               | 2/3 [00:00<00:00, 141.22it/s]\u001b[A\n",
      "Validation DataLoader 0: 100%|██████████████████████████████████████████████████████████████████████████████████████████████| 3/3 [00:00<00:00, 164.73it/s]\u001b[A\n",
      "Epoch 13: 100%|████████████████████████████████████████████████████████████████████████████████████████████████████| 6/6 [00:00<00:00, 134.25it/s, v_num=1]\u001b[A\n",
      "Validation: |                                                                                                                        | 0/? [00:00<?, ?it/s]\u001b[A\n",
      "Validation:   0%|                                                                                                                    | 0/3 [00:00<?, ?it/s]\u001b[A\n",
      "Validation DataLoader 0:   0%|                                                                                                       | 0/3 [00:00<?, ?it/s]\u001b[A\n",
      "Validation DataLoader 0:  33%|███████████████████████████████▎                                                              | 1/3 [00:00<00:00, 135.62it/s]\u001b[A\n",
      "Validation DataLoader 0:  67%|██████████████████████████████████████████████████████████████▋                               | 2/3 [00:00<00:00, 120.21it/s]\u001b[A\n",
      "Validation DataLoader 0: 100%|██████████████████████████████████████████████████████████████████████████████████████████████| 3/3 [00:00<00:00, 180.31it/s]\u001b[A\n",
      "Epoch 14: 100%|█████████████████████████████████████████████████████████████████████████████████████████████████████| 6/6 [00:00<00:00, 93.42it/s, v_num=1]\u001b[A\n",
      "Validation: |                                                                                                                        | 0/? [00:00<?, ?it/s]\u001b[A\n",
      "Validation:   0%|                                                                                                                    | 0/3 [00:00<?, ?it/s]\u001b[A\n",
      "Validation DataLoader 0:   0%|                                                                                                       | 0/3 [00:00<?, ?it/s]\u001b[A\n",
      "Validation DataLoader 0:  33%|███████████████████████████████▎                                                              | 1/3 [00:00<00:00, 123.63it/s]\u001b[A\n",
      "Validation DataLoader 0:  67%|██████████████████████████████████████████████████████████████▋                               | 2/3 [00:00<00:00, 190.32it/s]\u001b[A\n",
      "Validation DataLoader 0: 100%|██████████████████████████████████████████████████████████████████████████████████████████████| 3/3 [00:00<00:00, 187.24it/s]\u001b[A\n",
      "Epoch 15: 100%|█████████████████████████████████████████████████████████████████████████████████████████████████████| 6/6 [00:00<00:00, 94.81it/s, v_num=1]\u001b[A\n",
      "Validation: |                                                                                                                        | 0/? [00:00<?, ?it/s]\u001b[A\n",
      "Validation:   0%|                                                                                                                    | 0/3 [00:00<?, ?it/s]\u001b[A\n",
      "Validation DataLoader 0:   0%|                                                                                                       | 0/3 [00:00<?, ?it/s]\u001b[A\n",
      "Validation DataLoader 0:  33%|███████████████████████████████▋                                                               | 1/3 [00:00<00:00, 64.01it/s]\u001b[A\n",
      "Validation DataLoader 0:  67%|███████████████████████████████████████████████████████████████▎                               | 2/3 [00:00<00:00, 71.27it/s]\u001b[A\n",
      "Validation DataLoader 0: 100%|███████████████████████████████████████████████████████████████████████████████████████████████| 3/3 [00:00<00:00, 93.36it/s]\u001b[A\n",
      "Epoch 16: 100%|█████████████████████████████████████████████████████████████████████████████████████████████████████| 6/6 [00:00<00:00, 89.80it/s, v_num=1]\u001b[A\n",
      "Validation: |                                                                                                                        | 0/? [00:00<?, ?it/s]\u001b[A\n",
      "Validation:   0%|                                                                                                                    | 0/3 [00:00<?, ?it/s]\u001b[A\n",
      "Validation DataLoader 0:   0%|                                                                                                       | 0/3 [00:00<?, ?it/s]\u001b[A\n",
      "Validation DataLoader 0:  33%|███████████████████████████████▎                                                              | 1/3 [00:00<00:00, 147.96it/s]\u001b[A\n",
      "Validation DataLoader 0:  67%|██████████████████████████████████████████████████████████████▋                               | 2/3 [00:00<00:00, 209.88it/s]\u001b[A\n",
      "Validation DataLoader 0: 100%|██████████████████████████████████████████████████████████████████████████████████████████████| 3/3 [00:00<00:00, 221.72it/s]\u001b[A\n",
      "Epoch 17: 100%|████████████████████████████████████████████████████████████████████████████████████████████████████| 6/6 [00:00<00:00, 103.73it/s, v_num=1]\u001b[A\n",
      "Validation: |                                                                                                                        | 0/? [00:00<?, ?it/s]\u001b[A\n",
      "Validation:   0%|                                                                                                                    | 0/3 [00:00<?, ?it/s]\u001b[A\n",
      "Validation DataLoader 0:   0%|                                                                                                       | 0/3 [00:00<?, ?it/s]\u001b[A\n",
      "Validation DataLoader 0:  33%|███████████████████████████████▋                                                               | 1/3 [00:00<00:00, 76.85it/s]\u001b[A\n",
      "Validation DataLoader 0:  67%|██████████████████████████████████████████████████████████████▋                               | 2/3 [00:00<00:00, 153.71it/s]\u001b[A\n",
      "Validation DataLoader 0: 100%|██████████████████████████████████████████████████████████████████████████████████████████████| 3/3 [00:00<00:00, 104.71it/s]\u001b[A\n",
      "Epoch 18: 100%|████████████████████████████████████████████████████████████████████████████████████████████████████| 6/6 [00:00<00:00, 110.97it/s, v_num=1]\u001b[A\n",
      "Validation: |                                                                                                                        | 0/? [00:00<?, ?it/s]\u001b[A\n",
      "Validation:   0%|                                                                                                                    | 0/3 [00:00<?, ?it/s]\u001b[A\n",
      "Validation DataLoader 0:   0%|                                                                                                       | 0/3 [00:00<?, ?it/s]\u001b[A\n",
      "Validation DataLoader 0:  33%|███████████████████████████████▎                                                              | 1/3 [00:00<00:00, 340.12it/s]\u001b[A\n",
      "Validation DataLoader 0:  67%|██████████████████████████████████████████████████████████████▋                               | 2/3 [00:00<00:00, 680.23it/s]\u001b[A\n",
      "Validation DataLoader 0: 100%|██████████████████████████████████████████████████████████████████████████████████████████████| 3/3 [00:00<00:00, 176.86it/s]\u001b[A\n",
      "Epoch 19: 100%|████████████████████████████████████████████████████████████████████████████████████████████████████| 6/6 [00:00<00:00, 114.55it/s, v_num=1]\u001b[A\n",
      "Validation: |                                                                                                                        | 0/? [00:00<?, ?it/s]\u001b[A\n",
      "Validation:   0%|                                                                                                                    | 0/3 [00:00<?, ?it/s]\u001b[A\n",
      "Validation DataLoader 0:   0%|                                                                                                       | 0/3 [00:00<?, ?it/s]\u001b[A\n",
      "Validation DataLoader 0:  33%|██████████████████████████████████▎                                                                    | 1/3 [00:00<?, ?it/s]\u001b[A\n",
      "Validation DataLoader 0:  67%|██████████████████████████████████████████████████████████████▋                               | 2/3 [00:00<00:00, 119.71it/s]\u001b[A\n",
      "Validation DataLoader 0: 100%|██████████████████████████████████████████████████████████████████████████████████████████████| 3/3 [00:00<00:00, 179.57it/s]\u001b[A\n",
      "Epoch 20: 100%|█████████████████████████████████████████████████████████████████████████████████████████████████████| 6/6 [00:00<00:00, 97.89it/s, v_num=1]\u001b[A\n",
      "Validation: |                                                                                                                        | 0/? [00:00<?, ?it/s]\u001b[A\n",
      "Validation:   0%|                                                                                                                    | 0/3 [00:00<?, ?it/s]\u001b[A\n",
      "Validation DataLoader 0:   0%|                                                                                                       | 0/3 [00:00<?, ?it/s]\u001b[A\n",
      "Validation DataLoader 0:  33%|███████████████████████████████▋                                                               | 1/3 [00:00<00:00, 63.95it/s]\u001b[A\n",
      "Validation DataLoader 0:  67%|██████████████████████████████████████████████████████████████▋                               | 2/3 [00:00<00:00, 118.54it/s]\u001b[A\n",
      "Validation DataLoader 0: 100%|██████████████████████████████████████████████████████████████████████████████████████████████| 3/3 [00:00<00:00, 177.80it/s]\u001b[A\n",
      "Epoch 21: 100%|████████████████████████████████████████████████████████████████████████████████████████████████████| 6/6 [00:00<00:00, 115.39it/s, v_num=1]\u001b[A\n",
      "Validation: |                                                                                                                        | 0/? [00:00<?, ?it/s]\u001b[A\n",
      "Validation:   0%|                                                                                                                    | 0/3 [00:00<?, ?it/s]\u001b[A\n",
      "Validation DataLoader 0:   0%|                                                                                                       | 0/3 [00:00<?, ?it/s]\u001b[A\n",
      "Validation DataLoader 0:  33%|███████████████████████████████▋                                                               | 1/3 [00:00<00:00, 63.94it/s]\u001b[A\n",
      "Validation DataLoader 0:  67%|██████████████████████████████████████████████████████████████▋                               | 2/3 [00:00<00:00, 127.89it/s]\u001b[A\n",
      "Validation DataLoader 0: 100%|██████████████████████████████████████████████████████████████████████████████████████████████| 3/3 [00:00<00:00, 191.83it/s]\u001b[A\n",
      "Epoch 22: 100%|████████████████████████████████████████████████████████████████████████████████████████████████████| 6/6 [00:00<00:00, 112.70it/s, v_num=1]\u001b[A\n",
      "Validation: |                                                                                                                        | 0/? [00:00<?, ?it/s]\u001b[A\n",
      "Validation:   0%|                                                                                                                    | 0/3 [00:00<?, ?it/s]\u001b[A\n",
      "Validation DataLoader 0:   0%|                                                                                                       | 0/3 [00:00<?, ?it/s]\u001b[A\n",
      "Validation DataLoader 0:  33%|███████████████████████████████▎                                                              | 1/3 [00:00<00:00, 221.64it/s]\u001b[A\n",
      "Validation DataLoader 0:  67%|██████████████████████████████████████████████████████████████▋                               | 2/3 [00:00<00:00, 161.56it/s]\u001b[A\n",
      "Validation DataLoader 0: 100%|██████████████████████████████████████████████████████████████████████████████████████████████| 3/3 [00:00<00:00, 187.87it/s]\u001b[A\n",
      "Epoch 23: 100%|████████████████████████████████████████████████████████████████████████████████████████████████████| 6/6 [00:00<00:00, 113.19it/s, v_num=1]\u001b[A\n",
      "Validation: |                                                                                                                        | 0/? [00:00<?, ?it/s]\u001b[A\n",
      "Validation:   0%|                                                                                                                    | 0/3 [00:00<?, ?it/s]\u001b[A\n",
      "Validation DataLoader 0:   0%|                                                                                                       | 0/3 [00:00<?, ?it/s]\u001b[A\n",
      "Validation DataLoader 0:  33%|███████████████████████████████▎                                                              | 1/3 [00:00<00:00, 195.05it/s]\u001b[A\n",
      "Validation DataLoader 0:  67%|██████████████████████████████████████████████████████████████▋                               | 2/3 [00:00<00:00, 197.46it/s]\u001b[A\n",
      "Validation DataLoader 0: 100%|██████████████████████████████████████████████████████████████████████████████████████████████| 3/3 [00:00<00:00, 204.79it/s]\u001b[A\n",
      "Epoch 24: 100%|████████████████████████████████████████████████████████████████████████████████████████████████████| 6/6 [00:00<00:00, 121.68it/s, v_num=1]\u001b[A\n",
      "Validation: |                                                                                                                        | 0/? [00:00<?, ?it/s]\u001b[A\n",
      "Validation:   0%|                                                                                                                    | 0/3 [00:00<?, ?it/s]\u001b[A\n",
      "Validation DataLoader 0:   0%|                                                                                                       | 0/3 [00:00<?, ?it/s]\u001b[A\n",
      "Validation DataLoader 0:  33%|███████████████████████████████▋                                                               | 1/3 [00:00<00:00, 68.58it/s]\u001b[A\n",
      "Validation DataLoader 0:  67%|██████████████████████████████████████████████████████████████▋                               | 2/3 [00:00<00:00, 105.08it/s]\u001b[A\n",
      "Validation DataLoader 0: 100%|██████████████████████████████████████████████████████████████████████████████████████████████| 3/3 [00:00<00:00, 124.67it/s]\u001b[A\n",
      "Epoch 25: 100%|████████████████████████████████████████████████████████████████████████████████████████████████████| 6/6 [00:00<00:00, 101.52it/s, v_num=1]\u001b[A\n",
      "Validation: |                                                                                                                        | 0/? [00:00<?, ?it/s]\u001b[A\n",
      "Validation:   0%|                                                                                                                    | 0/3 [00:00<?, ?it/s]\u001b[A\n",
      "Validation DataLoader 0:   0%|                                                                                                       | 0/3 [00:00<?, ?it/s]\u001b[A\n",
      "Validation DataLoader 0:  33%|███████████████████████████████▋                                                               | 1/3 [00:00<00:00, 53.33it/s]\u001b[A\n",
      "Validation DataLoader 0:  67%|███████████████████████████████████████████████████████████████▎                               | 2/3 [00:00<00:00, 88.48it/s]\u001b[A\n",
      "Validation DataLoader 0: 100%|██████████████████████████████████████████████████████████████████████████████████████████████| 3/3 [00:00<00:00, 113.25it/s]\u001b[A\n",
      "Epoch 26: 100%|████████████████████████████████████████████████████████████████████████████████████████████████████| 6/6 [00:00<00:00, 105.74it/s, v_num=1]\u001b[A\n",
      "Validation: |                                                                                                                        | 0/? [00:00<?, ?it/s]\u001b[A\n",
      "Validation:   0%|                                                                                                                    | 0/3 [00:00<?, ?it/s]\u001b[A\n",
      "Validation DataLoader 0:   0%|                                                                                                       | 0/3 [00:00<?, ?it/s]\u001b[A\n",
      "Validation DataLoader 0:  33%|███████████████████████████████▎                                                              | 1/3 [00:00<00:00, 148.68it/s]\u001b[A\n",
      "Validation DataLoader 0:  67%|██████████████████████████████████████████████████████████████▋                               | 2/3 [00:00<00:00, 297.36it/s]\u001b[A\n",
      "Validation DataLoader 0: 100%|██████████████████████████████████████████████████████████████████████████████████████████████| 3/3 [00:00<00:00, 446.04it/s]\u001b[A\n",
      "Epoch 27: 100%|█████████████████████████████████████████████████████████████████████████████████████████████████████| 6/6 [00:00<00:00, 93.45it/s, v_num=1]\u001b[A\n",
      "Validation: |                                                                                                                        | 0/? [00:00<?, ?it/s]\u001b[A\n",
      "Validation:   0%|                                                                                                                    | 0/3 [00:00<?, ?it/s]\u001b[A\n",
      "Validation DataLoader 0:   0%|                                                                                                       | 0/3 [00:00<?, ?it/s]\u001b[A\n",
      "Validation DataLoader 0:  33%|███████████████████████████████▎                                                              | 1/3 [00:00<00:00, 129.87it/s]\u001b[A\n",
      "Validation DataLoader 0:  67%|██████████████████████████████████████████████████████████████▋                               | 2/3 [00:00<00:00, 170.58it/s]\u001b[A\n",
      "Validation DataLoader 0: 100%|██████████████████████████████████████████████████████████████████████████████████████████████| 3/3 [00:00<00:00, 190.76it/s]\u001b[A\n",
      "Epoch 28: 100%|████████████████████████████████████████████████████████████████████████████████████████████████████| 6/6 [00:00<00:00, 104.14it/s, v_num=1]\u001b[A\n",
      "Validation: |                                                                                                                        | 0/? [00:00<?, ?it/s]\u001b[A\n",
      "Validation:   0%|                                                                                                                    | 0/3 [00:00<?, ?it/s]\u001b[A\n",
      "Validation DataLoader 0:   0%|                                                                                                       | 0/3 [00:00<?, ?it/s]\u001b[A\n",
      "Validation DataLoader 0:  33%|███████████████████████████████▎                                                              | 1/3 [00:00<00:00, 253.05it/s]\u001b[A\n",
      "Validation DataLoader 0:  67%|██████████████████████████████████████████████████████████████▋                               | 2/3 [00:00<00:00, 506.10it/s]\u001b[A\n",
      "Validation DataLoader 0: 100%|██████████████████████████████████████████████████████████████████████████████████████████████| 3/3 [00:00<00:00, 194.02it/s]\u001b[A\n",
      "Epoch 29: 100%|████████████████████████████████████████████████████████████████████████████████████████████████████| 6/6 [00:00<00:00, 100.35it/s, v_num=1]\u001b[A\n",
      "Validation: |                                                                                                                        | 0/? [00:00<?, ?it/s]\u001b[A\n",
      "Validation:   0%|                                                                                                                    | 0/3 [00:00<?, ?it/s]\u001b[A\n",
      "Validation DataLoader 0:   0%|                                                                                                       | 0/3 [00:00<?, ?it/s]\u001b[A\n",
      "Validation DataLoader 0:  33%|███████████████████████████████▎                                                              | 1/3 [00:00<00:00, 153.13it/s]\u001b[A\n",
      "Validation DataLoader 0:  67%|██████████████████████████████████████████████████████████████▋                               | 2/3 [00:00<00:00, 168.51it/s]\u001b[A\n",
      "Validation DataLoader 0: 100%|██████████████████████████████████████████████████████████████████████████████████████████████| 3/3 [00:00<00:00, 153.79it/s]\u001b[A\n",
      "Epoch 30: 100%|█████████████████████████████████████████████████████████████████████████████████████████████████████| 6/6 [00:00<00:00, 79.80it/s, v_num=1]\u001b[A\n",
      "Validation: |                                                                                                                        | 0/? [00:00<?, ?it/s]\u001b[A\n",
      "Validation:   0%|                                                                                                                    | 0/3 [00:00<?, ?it/s]\u001b[A\n",
      "Validation DataLoader 0:   0%|                                                                                                       | 0/3 [00:00<?, ?it/s]\u001b[A\n",
      "Validation DataLoader 0:  33%|███████████████████████████████▎                                                              | 1/3 [00:00<00:00, 154.64it/s]\u001b[A\n",
      "Validation DataLoader 0:  67%|██████████████████████████████████████████████████████████████▋                               | 2/3 [00:00<00:00, 186.99it/s]\u001b[A\n",
      "Validation DataLoader 0: 100%|██████████████████████████████████████████████████████████████████████████████████████████████| 3/3 [00:00<00:00, 203.73it/s]\u001b[A\n",
      "Epoch 31: 100%|████████████████████████████████████████████████████████████████████████████████████████████████████| 6/6 [00:00<00:00, 104.46it/s, v_num=1]\u001b[A\n",
      "Validation: |                                                                                                                        | 0/? [00:00<?, ?it/s]\u001b[A\n",
      "Validation:   0%|                                                                                                                    | 0/3 [00:00<?, ?it/s]\u001b[A\n",
      "Validation DataLoader 0:   0%|                                                                                                       | 0/3 [00:00<?, ?it/s]\u001b[A\n",
      "Validation DataLoader 0:  33%|███████████████████████████████▎                                                              | 1/3 [00:00<00:00, 127.04it/s]\u001b[A\n",
      "Validation DataLoader 0:  67%|██████████████████████████████████████████████████████████████▋                               | 2/3 [00:00<00:00, 149.12it/s]\u001b[A\n",
      "Validation DataLoader 0: 100%|██████████████████████████████████████████████████████████████████████████████████████████████| 3/3 [00:00<00:00, 172.29it/s]\u001b[A\n",
      "Epoch 32: 100%|█████████████████████████████████████████████████████████████████████████████████████████████████████| 6/6 [00:00<00:00, 87.69it/s, v_num=1]\u001b[A\n",
      "Validation: |                                                                                                                        | 0/? [00:00<?, ?it/s]\u001b[A\n",
      "Validation:   0%|                                                                                                                    | 0/3 [00:00<?, ?it/s]\u001b[A\n",
      "Validation DataLoader 0:   0%|                                                                                                       | 0/3 [00:00<?, ?it/s]\u001b[A\n",
      "Validation DataLoader 0:  33%|███████████████████████████████▎                                                              | 1/3 [00:00<00:00, 134.48it/s]\u001b[A\n",
      "Validation DataLoader 0:  67%|██████████████████████████████████████████████████████████████▋                               | 2/3 [00:00<00:00, 174.85it/s]\u001b[A\n",
      "Validation DataLoader 0: 100%|██████████████████████████████████████████████████████████████████████████████████████████████| 3/3 [00:00<00:00, 189.87it/s]\u001b[A\n",
      "Epoch 33: 100%|█████████████████████████████████████████████████████████████████████████████████████████████████████| 6/6 [00:00<00:00, 96.80it/s, v_num=1]\u001b[A\n",
      "Validation: |                                                                                                                        | 0/? [00:00<?, ?it/s]\u001b[A\n",
      "Validation:   0%|                                                                                                                    | 0/3 [00:00<?, ?it/s]\u001b[A\n",
      "Validation DataLoader 0:   0%|                                                                                                       | 0/3 [00:00<?, ?it/s]\u001b[A\n",
      "Validation DataLoader 0:  33%|███████████████████████████████▎                                                              | 1/3 [00:00<00:00, 119.93it/s]\u001b[A\n",
      "Validation DataLoader 0:  67%|██████████████████████████████████████████████████████████████▋                               | 2/3 [00:00<00:00, 149.84it/s]\u001b[A\n",
      "Validation DataLoader 0: 100%|██████████████████████████████████████████████████████████████████████████████████████████████| 3/3 [00:00<00:00, 172.95it/s]\u001b[A\n",
      "Epoch 34: 100%|█████████████████████████████████████████████████████████████████████████████████████████████████████| 6/6 [00:00<00:00, 68.63it/s, v_num=1]\u001b[A\n",
      "Validation: |                                                                                                                        | 0/? [00:00<?, ?it/s]\u001b[A\n",
      "Validation:   0%|                                                                                                                    | 0/3 [00:00<?, ?it/s]\u001b[A\n",
      "Validation DataLoader 0:   0%|                                                                                                       | 0/3 [00:00<?, ?it/s]\u001b[A\n",
      "Validation DataLoader 0:  33%|███████████████████████████████▎                                                              | 1/3 [00:00<00:00, 108.46it/s]\u001b[A\n",
      "Validation DataLoader 0:  67%|███████████████████████████████████████████████████████████████▎                               | 2/3 [00:00<00:00, 98.59it/s]\u001b[A\n",
      "Validation DataLoader 0: 100%|███████████████████████████████████████████████████████████████████████████████████████████████| 3/3 [00:00<00:00, 88.38it/s]\u001b[A\n",
      "Epoch 35: 100%|█████████████████████████████████████████████████████████████████████████████████████████████████████| 6/6 [00:00<00:00, 68.79it/s, v_num=1]\u001b[A\n",
      "Validation: |                                                                                                                        | 0/? [00:00<?, ?it/s]\u001b[A\n",
      "Validation:   0%|                                                                                                                    | 0/3 [00:00<?, ?it/s]\u001b[A\n",
      "Validation DataLoader 0:   0%|                                                                                                       | 0/3 [00:00<?, ?it/s]\u001b[A\n",
      "Validation DataLoader 0:  33%|███████████████████████████████▎                                                              | 1/3 [00:00<00:00, 111.09it/s]\u001b[A\n",
      "Validation DataLoader 0:  67%|██████████████████████████████████████████████████████████████▋                               | 2/3 [00:00<00:00, 135.73it/s]\u001b[A\n",
      "Validation DataLoader 0: 100%|██████████████████████████████████████████████████████████████████████████████████████████████| 3/3 [00:00<00:00, 158.53it/s]\u001b[A\n",
      "Epoch 36: 100%|█████████████████████████████████████████████████████████████████████████████████████████████████████| 6/6 [00:00<00:00, 82.39it/s, v_num=1]\u001b[A\n",
      "Validation: |                                                                                                                        | 0/? [00:00<?, ?it/s]\u001b[A\n",
      "Validation:   0%|                                                                                                                    | 0/3 [00:00<?, ?it/s]\u001b[A\n",
      "Validation DataLoader 0:   0%|                                                                                                       | 0/3 [00:00<?, ?it/s]\u001b[A\n",
      "Validation DataLoader 0:  33%|███████████████████████████████▎                                                              | 1/3 [00:00<00:00, 134.29it/s]\u001b[A\n",
      "Validation DataLoader 0:  67%|██████████████████████████████████████████████████████████████▋                               | 2/3 [00:00<00:00, 126.05it/s]\u001b[A\n",
      "Validation DataLoader 0: 100%|██████████████████████████████████████████████████████████████████████████████████████████████| 3/3 [00:00<00:00, 153.90it/s]\u001b[A\n",
      "Epoch 37: 100%|█████████████████████████████████████████████████████████████████████████████████████████████████████| 6/6 [00:00<00:00, 61.66it/s, v_num=1]\u001b[A\n",
      "Validation: |                                                                                                                        | 0/? [00:00<?, ?it/s]\u001b[A\n",
      "Validation:   0%|                                                                                                                    | 0/3 [00:00<?, ?it/s]\u001b[A\n",
      "Validation DataLoader 0:   0%|                                                                                                       | 0/3 [00:00<?, ?it/s]\u001b[A\n",
      "Validation DataLoader 0:  33%|███████████████████████████████▋                                                               | 1/3 [00:00<00:00, 58.58it/s]\u001b[A\n",
      "Validation DataLoader 0:  67%|███████████████████████████████████████████████████████████████▎                               | 2/3 [00:00<00:00, 81.01it/s]\u001b[A\n",
      "Validation DataLoader 0: 100%|███████████████████████████████████████████████████████████████████████████████████████████████| 3/3 [00:00<00:00, 97.21it/s]\u001b[A\n",
      "Epoch 38: 100%|█████████████████████████████████████████████████████████████████████████████████████████████████████| 6/6 [00:00<00:00, 44.69it/s, v_num=1]\u001b[A\n",
      "Validation: |                                                                                                                        | 0/? [00:00<?, ?it/s]\u001b[A\n",
      "Validation:   0%|                                                                                                                    | 0/3 [00:00<?, ?it/s]\u001b[A\n",
      "Validation DataLoader 0:   0%|                                                                                                       | 0/3 [00:00<?, ?it/s]\u001b[A\n",
      "Validation DataLoader 0:  33%|███████████████████████████████▎                                                              | 1/3 [00:00<00:00, 143.85it/s]\u001b[A\n",
      "Validation DataLoader 0:  67%|██████████████████████████████████████████████████████████████▋                               | 2/3 [00:00<00:00, 180.46it/s]\u001b[A\n",
      "Validation DataLoader 0: 100%|██████████████████████████████████████████████████████████████████████████████████████████████| 3/3 [00:00<00:00, 186.44it/s]\u001b[A\n",
      "Epoch 39: 100%|█████████████████████████████████████████████████████████████████████████████████████████████████████| 6/6 [00:00<00:00, 78.35it/s, v_num=1]\u001b[A\n",
      "Validation: |                                                                                                                        | 0/? [00:00<?, ?it/s]\u001b[A\n",
      "Validation:   0%|                                                                                                                    | 0/3 [00:00<?, ?it/s]\u001b[A\n",
      "Validation DataLoader 0:   0%|                                                                                                       | 0/3 [00:00<?, ?it/s]\u001b[A\n",
      "Validation DataLoader 0:  33%|███████████████████████████████▋                                                               | 1/3 [00:00<00:00, 81.46it/s]\u001b[A\n",
      "Validation DataLoader 0:  67%|██████████████████████████████████████████████████████████████▋                               | 2/3 [00:00<00:00, 111.14it/s]\u001b[A\n",
      "Validation DataLoader 0: 100%|██████████████████████████████████████████████████████████████████████████████████████████████| 3/3 [00:00<00:00, 125.16it/s]\u001b[A\n",
      "Epoch 40: 100%|█████████████████████████████████████████████████████████████████████████████████████████████████████| 6/6 [00:00<00:00, 84.64it/s, v_num=1]\u001b[A\n",
      "Validation: |                                                                                                                        | 0/? [00:00<?, ?it/s]\u001b[A\n",
      "Validation:   0%|                                                                                                                    | 0/3 [00:00<?, ?it/s]\u001b[A\n",
      "Validation DataLoader 0:   0%|                                                                                                       | 0/3 [00:00<?, ?it/s]\u001b[A\n",
      "Validation DataLoader 0:  33%|███████████████████████████████▋                                                               | 1/3 [00:00<00:00, 80.22it/s]\u001b[A\n",
      "Validation DataLoader 0:  67%|██████████████████████████████████████████████████████████████▋                               | 2/3 [00:00<00:00, 113.01it/s]\u001b[A\n",
      "Validation DataLoader 0: 100%|██████████████████████████████████████████████████████████████████████████████████████████████| 3/3 [00:00<00:00, 135.10it/s]\u001b[A\n",
      "Epoch 41: 100%|█████████████████████████████████████████████████████████████████████████████████████████████████████| 6/6 [00:00<00:00, 94.87it/s, v_num=1]\u001b[A\n",
      "Validation: |                                                                                                                        | 0/? [00:00<?, ?it/s]\u001b[A\n",
      "Validation:   0%|                                                                                                                    | 0/3 [00:00<?, ?it/s]\u001b[A\n",
      "Validation DataLoader 0:   0%|                                                                                                       | 0/3 [00:00<?, ?it/s]\u001b[A\n",
      "Validation DataLoader 0:  33%|███████████████████████████████▎                                                              | 1/3 [00:00<00:00, 153.67it/s]\u001b[A\n",
      "Validation DataLoader 0:  67%|██████████████████████████████████████████████████████████████▋                               | 2/3 [00:00<00:00, 160.13it/s]\u001b[A\n",
      "Validation DataLoader 0: 100%|██████████████████████████████████████████████████████████████████████████████████████████████| 3/3 [00:00<00:00, 181.82it/s]\u001b[A\n",
      "Epoch 42: 100%|█████████████████████████████████████████████████████████████████████████████████████████████████████| 6/6 [00:00<00:00, 88.96it/s, v_num=1]\u001b[A\n",
      "Validation: |                                                                                                                        | 0/? [00:00<?, ?it/s]\u001b[A\n",
      "Validation:   0%|                                                                                                                    | 0/3 [00:00<?, ?it/s]\u001b[A\n",
      "Validation DataLoader 0:   0%|                                                                                                       | 0/3 [00:00<?, ?it/s]\u001b[A\n",
      "Validation DataLoader 0:  33%|███████████████████████████████▎                                                              | 1/3 [00:00<00:00, 218.68it/s]\u001b[A\n",
      "Validation DataLoader 0:  67%|██████████████████████████████████████████████████████████████▋                               | 2/3 [00:00<00:00, 182.31it/s]\u001b[A\n",
      "Validation DataLoader 0: 100%|██████████████████████████████████████████████████████████████████████████████████████████████| 3/3 [00:00<00:00, 186.73it/s]\u001b[A\n",
      "Epoch 43: 100%|█████████████████████████████████████████████████████████████████████████████████████████████████████| 6/6 [00:00<00:00, 97.09it/s, v_num=1]\u001b[A\n",
      "Validation: |                                                                                                                        | 0/? [00:00<?, ?it/s]\u001b[A\n",
      "Validation:   0%|                                                                                                                    | 0/3 [00:00<?, ?it/s]\u001b[A\n",
      "Validation DataLoader 0:   0%|                                                                                                       | 0/3 [00:00<?, ?it/s]\u001b[A\n",
      "Validation DataLoader 0:  33%|███████████████████████████████▎                                                              | 1/3 [00:00<00:00, 114.26it/s]\u001b[A\n",
      "Validation DataLoader 0:  67%|██████████████████████████████████████████████████████████████▋                               | 2/3 [00:00<00:00, 185.84it/s]\u001b[A\n",
      "Validation DataLoader 0: 100%|██████████████████████████████████████████████████████████████████████████████████████████████| 3/3 [00:00<00:00, 156.13it/s]\u001b[A\n",
      "Epoch 44: 100%|█████████████████████████████████████████████████████████████████████████████████████████████████████| 6/6 [00:00<00:00, 87.73it/s, v_num=1]\u001b[A\n",
      "Validation: |                                                                                                                        | 0/? [00:00<?, ?it/s]\u001b[A\n",
      "Validation:   0%|                                                                                                                    | 0/3 [00:00<?, ?it/s]\u001b[A\n",
      "Validation DataLoader 0:   0%|                                                                                                       | 0/3 [00:00<?, ?it/s]\u001b[A\n",
      "Validation DataLoader 0:  33%|███████████████████████████████▎                                                              | 1/3 [00:00<00:00, 111.42it/s]\u001b[A\n",
      "Validation DataLoader 0:  67%|██████████████████████████████████████████████████████████████▋                               | 2/3 [00:00<00:00, 157.75it/s]\u001b[A\n",
      "Validation DataLoader 0: 100%|██████████████████████████████████████████████████████████████████████████████████████████████| 3/3 [00:00<00:00, 149.91it/s]\u001b[A\n",
      "Epoch 45: 100%|█████████████████████████████████████████████████████████████████████████████████████████████████████| 6/6 [00:00<00:00, 56.19it/s, v_num=1]\u001b[A\n",
      "Validation: |                                                                                                                        | 0/? [00:00<?, ?it/s]\u001b[A\n",
      "Validation:   0%|                                                                                                                    | 0/3 [00:00<?, ?it/s]\u001b[A\n",
      "Validation DataLoader 0:   0%|                                                                                                       | 0/3 [00:00<?, ?it/s]\u001b[A\n",
      "Validation DataLoader 0:  33%|███████████████████████████████▎                                                              | 1/3 [00:00<00:00, 111.02it/s]\u001b[A\n",
      "Validation DataLoader 0:  67%|██████████████████████████████████████████████████████████████▋                               | 2/3 [00:00<00:00, 136.78it/s]\u001b[A\n",
      "Validation DataLoader 0: 100%|██████████████████████████████████████████████████████████████████████████████████████████████| 3/3 [00:00<00:00, 161.07it/s]\u001b[A\n",
      "Epoch 46: 100%|█████████████████████████████████████████████████████████████████████████████████████████████████████| 6/6 [00:00<00:00, 83.22it/s, v_num=1]\u001b[A\n",
      "Validation: |                                                                                                                        | 0/? [00:00<?, ?it/s]\u001b[A\n",
      "Validation:   0%|                                                                                                                    | 0/3 [00:00<?, ?it/s]\u001b[A\n",
      "Validation DataLoader 0:   0%|                                                                                                       | 0/3 [00:00<?, ?it/s]\u001b[A\n",
      "Validation DataLoader 0:  33%|███████████████████████████████▎                                                              | 1/3 [00:00<00:00, 120.01it/s]\u001b[A\n",
      "Validation DataLoader 0:  67%|██████████████████████████████████████████████████████████████▋                               | 2/3 [00:00<00:00, 139.42it/s]\u001b[A\n",
      "Validation DataLoader 0: 100%|██████████████████████████████████████████████████████████████████████████████████████████████| 3/3 [00:00<00:00, 147.08it/s]\u001b[A\n",
      "Epoch 47: 100%|█████████████████████████████████████████████████████████████████████████████████████████████████████| 6/6 [00:00<00:00, 83.55it/s, v_num=1]\u001b[A\n",
      "Validation: |                                                                                                                        | 0/? [00:00<?, ?it/s]\u001b[A\n",
      "Validation:   0%|                                                                                                                    | 0/3 [00:00<?, ?it/s]\u001b[A\n",
      "Validation DataLoader 0:   0%|                                                                                                       | 0/3 [00:00<?, ?it/s]\u001b[A\n",
      "Validation DataLoader 0:  33%|███████████████████████████████▎                                                              | 1/3 [00:00<00:00, 111.49it/s]\u001b[A\n",
      "Validation DataLoader 0:  67%|██████████████████████████████████████████████████████████████▋                               | 2/3 [00:00<00:00, 135.10it/s]\u001b[A\n",
      "Validation DataLoader 0: 100%|██████████████████████████████████████████████████████████████████████████████████████████████| 3/3 [00:00<00:00, 146.18it/s]\u001b[A\n",
      "Epoch 48: 100%|█████████████████████████████████████████████████████████████████████████████████████████████████████| 6/6 [00:00<00:00, 72.26it/s, v_num=1]\u001b[A\n",
      "Validation: |                                                                                                                        | 0/? [00:00<?, ?it/s]\u001b[A\n",
      "Validation:   0%|                                                                                                                    | 0/3 [00:00<?, ?it/s]\u001b[A\n",
      "Validation DataLoader 0:   0%|                                                                                                       | 0/3 [00:00<?, ?it/s]\u001b[A\n",
      "Validation DataLoader 0:  33%|███████████████████████████████▎                                                              | 1/3 [00:00<00:00, 106.77it/s]\u001b[A\n",
      "Validation DataLoader 0:  67%|██████████████████████████████████████████████████████████████▋                               | 2/3 [00:00<00:00, 126.61it/s]\u001b[A\n",
      "Validation DataLoader 0: 100%|██████████████████████████████████████████████████████████████████████████████████████████████| 3/3 [00:00<00:00, 140.63it/s]\u001b[A\n",
      "Epoch 49: 100%|█████████████████████████████████████████████████████████████████████████████████████████████████████| 6/6 [00:00<00:00, 69.02it/s, v_num=1]\u001b[A\n",
      "Validation: |                                                                                                                        | 0/? [00:00<?, ?it/s]\u001b[A\n",
      "Validation:   0%|                                                                                                                    | 0/3 [00:00<?, ?it/s]\u001b[A\n",
      "Validation DataLoader 0:   0%|                                                                                                       | 0/3 [00:00<?, ?it/s]\u001b[A\n",
      "Validation DataLoader 0:  33%|███████████████████████████████▎                                                              | 1/3 [00:00<00:00, 114.66it/s]\u001b[A\n",
      "Validation DataLoader 0:  67%|██████████████████████████████████████████████████████████████▋                               | 2/3 [00:00<00:00, 113.67it/s]\u001b[A\n",
      "Validation DataLoader 0: 100%|██████████████████████████████████████████████████████████████████████████████████████████████| 3/3 [00:00<00:00, 134.80it/s]\u001b[A\n",
      "Epoch 49: 100%|█████████████████████████████████████████████████████████████████████████████████████████████████████| 6/6 [00:00<00:00, 42.94it/s, v_num=1]\u001b[A"
     ]
    },
    {
     "name": "stderr",
     "output_type": "stream",
     "text": [
      "`Trainer.fit` stopped: `max_epochs=50` reached.\n"
     ]
    },
    {
     "name": "stdout",
     "output_type": "stream",
     "text": [
      "Epoch 49: 100%|█████████████████████████████████████████████████████████████████████████████████████████████████████| 6/6 [00:00<00:00, 35.18it/s, v_num=1]\n"
     ]
    }
   ],
   "source": [
    "hit_trainer = Trainer(deterministic=True,\n",
    "                      max_epochs=50,\n",
    "                      log_every_n_steps=5,\n",
    "                      logger=hit_logger,\n",
    "                      callbacks=[ErrorTracker()])\n",
    "\n",
    "hit_trainer.fit(hit_module,datamodule=hit_dm)"
   ]
  },
  {
   "cell_type": "markdown",
   "metadata": {},
   "source": [
    "After having fit the model, we can evaluate performance on our test data using the test() method of our trainer."
   ]
  },
  {
   "cell_type": "code",
   "execution_count": 45,
   "metadata": {},
   "outputs": [
    {
     "name": "stdout",
     "output_type": "stream",
     "text": [
      "Testing DataLoader 0: 100%|█████████████████████████████████████████████████████████████████████████████████████████████████| 3/3 [00:00<00:00, 187.47it/s]\n",
      "────────────────────────────────────────────────────────────────────────────────────────────────────────────────────────────────────────────────────────────\n",
      "       Test metric             DataLoader 0\n",
      "────────────────────────────────────────────────────────────────────────────────────────────────────────────────────────────────────────────────────────────\n",
      "        test_loss             104098.5546875\n",
      "        test_mae            229.50115966796875\n",
      "────────────────────────────────────────────────────────────────────────────────────────────────────────────────────────────────────────────────────────────\n"
     ]
    },
    {
     "data": {
      "text/plain": [
       "[{'test_loss': 104098.5546875, 'test_mae': 229.50115966796875}]"
      ]
     },
     "execution_count": 45,
     "metadata": {},
     "output_type": "execute_result"
    }
   ],
   "source": [
    "hit_trainer.test(hit_module, datamodule=hit_dm)"
   ]
  },
  {
   "cell_type": "markdown",
   "metadata": {},
   "source": [
    "We can see that MAE has reduced to 229.50 compared to the 259 and 237 we had earlier for OLS and Lasso Regression and it's a quite a better result.\n",
    "\n",
    "Now earlier we had made a CSV logger to log the data and errors.Now that nicely gives the logs in the form of a csv file that can be loaded with pandas dataframe.We can use that to make a few meaningful plots such"
   ]
  },
  {
   "cell_type": "code",
   "execution_count": 46,
   "metadata": {},
   "outputs": [
    {
     "data": {
      "text/html": [
       "<div>\n",
       "<style scoped>\n",
       "    .dataframe tbody tr th:only-of-type {\n",
       "        vertical-align: middle;\n",
       "    }\n",
       "\n",
       "    .dataframe tbody tr th {\n",
       "        vertical-align: top;\n",
       "    }\n",
       "\n",
       "    .dataframe thead th {\n",
       "        text-align: right;\n",
       "    }\n",
       "</style>\n",
       "<table border=\"1\" class=\"dataframe\">\n",
       "  <thead>\n",
       "    <tr style=\"text-align: right;\">\n",
       "      <th></th>\n",
       "      <th>epoch</th>\n",
       "      <th>step</th>\n",
       "      <th>test_loss</th>\n",
       "      <th>test_mae</th>\n",
       "      <th>train_loss</th>\n",
       "      <th>train_mae_epoch</th>\n",
       "      <th>train_mae_step</th>\n",
       "      <th>valid_loss</th>\n",
       "      <th>valid_mae</th>\n",
       "    </tr>\n",
       "  </thead>\n",
       "  <tbody>\n",
       "    <tr>\n",
       "      <th>0</th>\n",
       "      <td>0</td>\n",
       "      <td>4</td>\n",
       "      <td>NaN</td>\n",
       "      <td>NaN</td>\n",
       "      <td>NaN</td>\n",
       "      <td>NaN</td>\n",
       "      <td>386.986084</td>\n",
       "      <td>NaN</td>\n",
       "      <td>NaN</td>\n",
       "    </tr>\n",
       "    <tr>\n",
       "      <th>1</th>\n",
       "      <td>0</td>\n",
       "      <td>5</td>\n",
       "      <td>NaN</td>\n",
       "      <td>NaN</td>\n",
       "      <td>NaN</td>\n",
       "      <td>NaN</td>\n",
       "      <td>NaN</td>\n",
       "      <td>145063.593750</td>\n",
       "      <td>237.685242</td>\n",
       "    </tr>\n",
       "    <tr>\n",
       "      <th>2</th>\n",
       "      <td>0</td>\n",
       "      <td>5</td>\n",
       "      <td>NaN</td>\n",
       "      <td>NaN</td>\n",
       "      <td>715415.250000</td>\n",
       "      <td>561.457336</td>\n",
       "      <td>NaN</td>\n",
       "      <td>NaN</td>\n",
       "      <td>NaN</td>\n",
       "    </tr>\n",
       "    <tr>\n",
       "      <th>3</th>\n",
       "      <td>1</td>\n",
       "      <td>9</td>\n",
       "      <td>NaN</td>\n",
       "      <td>NaN</td>\n",
       "      <td>NaN</td>\n",
       "      <td>NaN</td>\n",
       "      <td>273.843872</td>\n",
       "      <td>NaN</td>\n",
       "      <td>NaN</td>\n",
       "    </tr>\n",
       "    <tr>\n",
       "      <th>4</th>\n",
       "      <td>1</td>\n",
       "      <td>11</td>\n",
       "      <td>NaN</td>\n",
       "      <td>NaN</td>\n",
       "      <td>NaN</td>\n",
       "      <td>NaN</td>\n",
       "      <td>NaN</td>\n",
       "      <td>131679.781250</td>\n",
       "      <td>236.432709</td>\n",
       "    </tr>\n",
       "    <tr>\n",
       "      <th>...</th>\n",
       "      <td>...</td>\n",
       "      <td>...</td>\n",
       "      <td>...</td>\n",
       "      <td>...</td>\n",
       "      <td>...</td>\n",
       "      <td>...</td>\n",
       "      <td>...</td>\n",
       "      <td>...</td>\n",
       "      <td>...</td>\n",
       "    </tr>\n",
       "    <tr>\n",
       "      <th>156</th>\n",
       "      <td>49</td>\n",
       "      <td>294</td>\n",
       "      <td>NaN</td>\n",
       "      <td>NaN</td>\n",
       "      <td>NaN</td>\n",
       "      <td>NaN</td>\n",
       "      <td>338.384491</td>\n",
       "      <td>NaN</td>\n",
       "      <td>NaN</td>\n",
       "    </tr>\n",
       "    <tr>\n",
       "      <th>157</th>\n",
       "      <td>49</td>\n",
       "      <td>299</td>\n",
       "      <td>NaN</td>\n",
       "      <td>NaN</td>\n",
       "      <td>NaN</td>\n",
       "      <td>NaN</td>\n",
       "      <td>198.867279</td>\n",
       "      <td>NaN</td>\n",
       "      <td>NaN</td>\n",
       "    </tr>\n",
       "    <tr>\n",
       "      <th>158</th>\n",
       "      <td>49</td>\n",
       "      <td>299</td>\n",
       "      <td>NaN</td>\n",
       "      <td>NaN</td>\n",
       "      <td>NaN</td>\n",
       "      <td>NaN</td>\n",
       "      <td>NaN</td>\n",
       "      <td>104098.554688</td>\n",
       "      <td>229.501160</td>\n",
       "    </tr>\n",
       "    <tr>\n",
       "      <th>159</th>\n",
       "      <td>49</td>\n",
       "      <td>299</td>\n",
       "      <td>NaN</td>\n",
       "      <td>NaN</td>\n",
       "      <td>108526.789062</td>\n",
       "      <td>236.133484</td>\n",
       "      <td>NaN</td>\n",
       "      <td>NaN</td>\n",
       "      <td>NaN</td>\n",
       "    </tr>\n",
       "    <tr>\n",
       "      <th>160</th>\n",
       "      <td>50</td>\n",
       "      <td>300</td>\n",
       "      <td>104098.554688</td>\n",
       "      <td>229.50116</td>\n",
       "      <td>NaN</td>\n",
       "      <td>NaN</td>\n",
       "      <td>NaN</td>\n",
       "      <td>NaN</td>\n",
       "      <td>NaN</td>\n",
       "    </tr>\n",
       "  </tbody>\n",
       "</table>\n",
       "<p>161 rows × 9 columns</p>\n",
       "</div>"
      ],
      "text/plain": [
       "     epoch  step      test_loss   test_mae     train_loss  train_mae_epoch  \\\n",
       "0        0     4            NaN        NaN            NaN              NaN   \n",
       "1        0     5            NaN        NaN            NaN              NaN   \n",
       "2        0     5            NaN        NaN  715415.250000       561.457336   \n",
       "3        1     9            NaN        NaN            NaN              NaN   \n",
       "4        1    11            NaN        NaN            NaN              NaN   \n",
       "..     ...   ...            ...        ...            ...              ...   \n",
       "156     49   294            NaN        NaN            NaN              NaN   \n",
       "157     49   299            NaN        NaN            NaN              NaN   \n",
       "158     49   299            NaN        NaN            NaN              NaN   \n",
       "159     49   299            NaN        NaN  108526.789062       236.133484   \n",
       "160     50   300  104098.554688  229.50116            NaN              NaN   \n",
       "\n",
       "     train_mae_step     valid_loss   valid_mae  \n",
       "0        386.986084            NaN         NaN  \n",
       "1               NaN  145063.593750  237.685242  \n",
       "2               NaN            NaN         NaN  \n",
       "3        273.843872            NaN         NaN  \n",
       "4               NaN  131679.781250  236.432709  \n",
       "..              ...            ...         ...  \n",
       "156      338.384491            NaN         NaN  \n",
       "157      198.867279            NaN         NaN  \n",
       "158             NaN  104098.554688  229.501160  \n",
       "159             NaN            NaN         NaN  \n",
       "160             NaN            NaN         NaN  \n",
       "\n",
       "[161 rows x 9 columns]"
      ]
     },
     "execution_count": 46,
     "metadata": {},
     "output_type": "execute_result"
    }
   ],
   "source": [
    "#retrieving the logs\n",
    "hit_results = pd.read_csv(hit_logger.experiment.metrics_file_path)\n",
    "hit_results"
   ]
  },
  {
   "cell_type": "markdown",
   "metadata": {},
   "source": [
    "Since we will produce similar plots in later examples, we write a simple generic function to produce this plot."
   ]
  },
  {
   "cell_type": "code",
   "execution_count": 47,
   "metadata": {},
   "outputs": [
    {
     "data": {
      "image/png": "[encoded data removed]",
      "text/plain": [
       "<Figure size 600x600 with 1 Axes>"
      ]
     },
     "metadata": {},
     "output_type": "display_data"
    }
   ],
   "source": [
    "def summary_plot(results,\n",
    "                 ax,\n",
    "                 col='loss',\n",
    "                 valid_legend='Validation',\n",
    "                 training_legend='Training',\n",
    "                 ylabel='Loss',\n",
    "                 fontsize=20):\n",
    "    for (column,\n",
    "         color,\n",
    "         label) in zip([f'train_{col}_epoch',\n",
    "                        f'valid_{col}'],\n",
    "                       ['black',\n",
    "                        'red'],\n",
    "                       [training_legend,\n",
    "                        valid_legend]):\n",
    "        results.plot(x='epoch',\n",
    "                     y=column,\n",
    "                     label=label,\n",
    "                     marker='o',\n",
    "                     color=color,\n",
    "                     ax=ax)\n",
    "    ax.set_xlabel('Epoch')\n",
    "    ax.set_ylabel(ylabel)\n",
    "    return ax\n",
    "# We now set up our axes, and use our function to produce the MAE plot.\n",
    "\n",
    "fig, ax = subplots(1, 1, figsize=(6, 6))\n",
    "ax = summary_plot(hit_results,\n",
    "                  ax,\n",
    "                  col='mae',\n",
    "                  ylabel='MAE',\n",
    "                  valid_legend='Validation (=Test)')\n",
    "ax.set_ylim([0, 400])\n",
    "ax.set_xticks(np.linspace(0, 50, 11).astype(int));"
   ]
  },
  {
   "cell_type": "markdown",
   "metadata": {},
   "source": [
    "Probably we didn't need to go on for 50 epochs as the errors settled down pretty quickly.Also we can say that we also haven't overfitted much as the model wasn't that complex.\n",
    "\n",
    "Now we can predict directly from the final model, and evaluate its performance on the test data. Before fitting, we call the eval() method of hit_model. This tells torch to effectively consider this model to be fitted, so that we can use it to predict on new data. For our model here, the biggest change is that the dropout layers will be turned off, i.e. no weights will be randomly dropped in predicting on new data."
   ]
  },
  {
   "cell_type": "code",
   "execution_count": 48,
   "metadata": {},
   "outputs": [
    {
     "data": {
      "text/plain": [
       "tensor(229.5012, grad_fn=<MeanBackward0>)"
      ]
     },
     "execution_count": 48,
     "metadata": {},
     "output_type": "execute_result"
    }
   ],
   "source": [
    "hit_model.eval() \n",
    "preds = hit_module(X_test_t)\n",
    "torch.abs(Y_test_t - preds).mean()"
   ]
  },
  {
   "cell_type": "markdown",
   "metadata": {},
   "source": [
    "Finally we do a little bit of cleanup, deleting torch objects which are not required (to ensure that these processes will be killed).Several worker processes will still remain running."
   ]
  },
  {
   "cell_type": "code",
   "execution_count": 49,
   "metadata": {},
   "outputs": [],
   "source": [
    "del(Hitters,\n",
    "    hit_model, hit_dm,\n",
    "    hit_logger,\n",
    "    hit_test, hit_train,\n",
    "    X, Y,\n",
    "    X_test, X_train,\n",
    "    Y_test, Y_train,\n",
    "    X_test_t, Y_test_t,\n",
    "    hit_trainer, hit_module)"
   ]
  },
  {
   "cell_type": "markdown",
   "metadata": {},
   "source": [
    "## Multilayer Network on the MNIST Digit Data\n",
    "The torchvision package comes with a number of example datasets, including the MNIST digit data. Our first step is to retrieve the training and test data sets; the MNIST() function within torchvision.datasets is provided for this purpose. The data will be downloaded the first time this function is executed, and stored in the directory data/MNIST.\n",
    "\n",
    "This dataset contains handwritten digits on postal codes that we are trying to classify into the 10 digits classes."
   ]
  },
  {
   "cell_type": "code",
   "execution_count": 51,
   "metadata": {},
   "outputs": [
    {
     "name": "stdout",
     "output_type": "stream",
     "text": [
      "Downloading http://yann.lecun.com/exdb/mnist/train-images-idx3-ubyte.gz\n",
      "Failed to download (trying next):\n",
      "HTTP Error 403: Forbidden\n",
      "\n",
      "Downloading https://ossci-datasets.s3.amazonaws.com/mnist/train-images-idx3-ubyte.gz\n",
      "Downloading https://ossci-datasets.s3.amazonaws.com/mnist/train-images-idx3-ubyte.gz to data\\MNIST\\raw\\train-images-idx3-ubyte.gz\n"
     ]
    },
    {
     "name": "stderr",
     "output_type": "stream",
     "text": [
      "100%|███████████████████████████████████████████████████████████████████████████████████████████████████████| 9912422/9912422 [00:02<00:00, 3404527.17it/s]\n"
     ]
    },
    {
     "name": "stdout",
     "output_type": "stream",
     "text": [
      "Extracting data\\MNIST\\raw\\train-images-idx3-ubyte.gz to data\\MNIST\\raw\n",
      "\n",
      "Downloading http://yann.lecun.com/exdb/mnist/train-labels-idx1-ubyte.gz\n",
      "Failed to download (trying next):\n",
      "HTTP Error 403: Forbidden\n",
      "\n",
      "Downloading https://ossci-datasets.s3.amazonaws.com/mnist/train-labels-idx1-ubyte.gz\n",
      "Downloading https://ossci-datasets.s3.amazonaws.com/mnist/train-labels-idx1-ubyte.gz to data\\MNIST\\raw\\train-labels-idx1-ubyte.gz\n"
     ]
    },
    {
     "name": "stderr",
     "output_type": "stream",
     "text": [
      "100%|████████████████████████████████████████████████████████████████████████████████████████████████████████████| 28881/28881 [00:00<00:00, 141770.54it/s]\n"
     ]
    },
    {
     "name": "stdout",
     "output_type": "stream",
     "text": [
      "Extracting data\\MNIST\\raw\\train-labels-idx1-ubyte.gz to data\\MNIST\\raw\n",
      "\n",
      "Downloading http://yann.lecun.com/exdb/mnist/t10k-images-idx3-ubyte.gz\n",
      "Failed to download (trying next):\n",
      "HTTP Error 403: Forbidden\n",
      "\n",
      "Downloading https://ossci-datasets.s3.amazonaws.com/mnist/t10k-images-idx3-ubyte.gz\n",
      "Downloading https://ossci-datasets.s3.amazonaws.com/mnist/t10k-images-idx3-ubyte.gz to data\\MNIST\\raw\\t10k-images-idx3-ubyte.gz\n"
     ]
    },
    {
     "name": "stderr",
     "output_type": "stream",
     "text": [
      "100%|███████████████████████████████████████████████████████████████████████████████████████████████████████| 1648877/1648877 [00:00<00:00, 1870873.96it/s]\n"
     ]
    },
    {
     "name": "stdout",
     "output_type": "stream",
     "text": [
      "Extracting data\\MNIST\\raw\\t10k-images-idx3-ubyte.gz to data\\MNIST\\raw\n",
      "\n",
      "Downloading http://yann.lecun.com/exdb/mnist/t10k-labels-idx1-ubyte.gz\n",
      "Failed to download (trying next):\n",
      "HTTP Error 403: Forbidden\n",
      "\n",
      "Downloading https://ossci-datasets.s3.amazonaws.com/mnist/t10k-labels-idx1-ubyte.gz\n",
      "Downloading https://ossci-datasets.s3.amazonaws.com/mnist/t10k-labels-idx1-ubyte.gz to data\\MNIST\\raw\\t10k-labels-idx1-ubyte.gz\n"
     ]
    },
    {
     "name": "stderr",
     "output_type": "stream",
     "text": [
      "100%|██████████████████████████████████████████████████████████████████████████████████████████████████████████████| 4542/4542 [00:00<00:00, 253021.95it/s]"
     ]
    },
    {
     "name": "stdout",
     "output_type": "stream",
     "text": [
      "Extracting data\\MNIST\\raw\\t10k-labels-idx1-ubyte.gz to data\\MNIST\\raw\n",
      "\n"
     ]
    },
    {
     "name": "stderr",
     "output_type": "stream",
     "text": [
      "\n"
     ]
    },
    {
     "data": {
      "text/plain": [
       "Dataset MNIST\n",
       "    Number of datapoints: 60000\n",
       "    Root location: data\n",
       "    Split: Train\n",
       "    StandardTransform\n",
       "Transform: ToTensor()"
      ]
     },
     "execution_count": 51,
     "metadata": {},
     "output_type": "execute_result"
    }
   ],
   "source": [
    "(mnist_train, \n",
    " mnist_test) = [MNIST(root='data',\n",
    "                      train=train,\n",
    "                      download=True,\n",
    "                      transform=ToTensor())\n",
    "                for train in [True, False]]\n",
    "mnist_train"
   ]
  },
  {
   "cell_type": "markdown",
   "metadata": {},
   "source": [
    "There are 60,000 images in the training data and 10,000 in the test data. The images are 28*28 dimensionally and stored as a matrix of pixels. We need to transform each one into a vector.Also scaling of the inputs is done by ToTensor()\n",
    "\n",
    "As in our Hitters example, we form a data module from the training and test datasets, setting aside 20% of the training images for validation and having a batch size of 256."
   ]
  },
  {
   "cell_type": "code",
   "execution_count": 57,
   "metadata": {},
   "outputs": [
    {
     "name": "stdout",
     "output_type": "stream",
     "text": [
      "X:  torch.Size([256, 1, 28, 28])\n",
      "Y:  torch.Size([256])\n",
      "X:  torch.Size([256, 1, 28, 28])\n",
      "Y:  torch.Size([256])\n"
     ]
    }
   ],
   "source": [
    "mnist_dm = SimpleDataModule(mnist_train,\n",
    "                            mnist_test,\n",
    "                            validation=0.2,\n",
    "                            num_workers=max_num_workers,\n",
    "                            batch_size=256)\n",
    "# mnist_dm\n",
    "# Let’s take a look at the data that will get fed into our network. We loop through the first few chunks of the test dataset, breaking after 2 batches:\n",
    "\n",
    "for idx, (X_ ,Y_) in enumerate(mnist_dm.train_dataloader()):\n",
    "    print('X: ', X_.shape)\n",
    "    print('Y: ', Y_.shape)\n",
    "    if idx >= 1:\n",
    "        break\n",
    "\n",
    "#Each batch has 256 images of size 1*28*28"
   ]
  },
  {
   "cell_type": "markdown",
   "metadata": {},
   "source": [
    "Now we are good to structure our neural network (multi-layer).This simply describes the features are simply transformed into the 10 outputs and then gets put in the softmax function."
   ]
  },
  {
   "cell_type": "code",
   "execution_count": 63,
   "metadata": {},
   "outputs": [],
   "source": [
    "class MNISTModel(nn.Module):\n",
    "    def  __init__(self):\n",
    "        super(MNISTModel,self).__init__()\n",
    "        self.layer1 = nn.Sequential(\n",
    "            nn.Flatten(),\n",
    "            nn.Linear(28*28,256),\n",
    "            nn.ReLU(),\n",
    "            nn.Dropout(0.4))\n",
    "        self.layer2 = nn.Sequential(\n",
    "            nn.Linear(256, 128),\n",
    "            nn.ReLU(),\n",
    "            nn.Dropout(0.3))\n",
    "        self._forward = nn.Sequential(\n",
    "            self.layer1,\n",
    "            self.layer2,\n",
    "            nn.Linear(128, 10))\n",
    "        \n",
    "    def forward(self, x):\n",
    "        return self._forward(x)"
   ]
  },
  {
   "cell_type": "markdown",
   "metadata": {},
   "source": [
    "We see that in the first layer, each 1x28x28 image is flattened, then mapped to 256 dimensions where we apply a ReLU activation with 40% dropout. A second layer maps the first layer’s output down to 128 dimensions, applying a ReLU activation with 30% dropout. Finally, the 128 dimensions are mapped down to 10, the number of classes in the MNIST data.\n",
    "\n",
    "A lot of the below part is identical to the SNN example, where we check the parameters, fit the network and train it using Stochastic Gradient Descent."
   ]
  },
  {
   "cell_type": "code",
   "execution_count": 64,
   "metadata": {},
   "outputs": [
    {
     "data": {
      "text/plain": [
       "torch.Size([256, 10])"
      ]
     },
     "execution_count": 64,
     "metadata": {},
     "output_type": "execute_result"
    }
   ],
   "source": [
    "mnist_model = MNISTModel()\n",
    "mnist_model(X_).size()\n",
    "\n",
    "# We can check that the model produces output of expected size based on our existing batch X_ above."
   ]
  },
  {
   "cell_type": "code",
   "execution_count": 65,
   "metadata": {},
   "outputs": [
    {
     "data": {
      "text/plain": [
       "===================================================================================================================\n",
       "Layer (type:depth-idx)                   Input Shape               Output Shape              Param #\n",
       "===================================================================================================================\n",
       "MNISTModel                               [256, 1, 28, 28]          [256, 10]                 --\n",
       "├─Sequential: 1-1                        [256, 1, 28, 28]          [256, 10]                 --\n",
       "│    └─Sequential: 2-1                   [256, 1, 28, 28]          [256, 256]                --\n",
       "│    │    └─Flatten: 3-1                 [256, 1, 28, 28]          [256, 784]                --\n",
       "│    │    └─Linear: 3-2                  [256, 784]                [256, 256]                200,960\n",
       "│    │    └─ReLU: 3-3                    [256, 256]                [256, 256]                --\n",
       "│    │    └─Dropout: 3-4                 [256, 256]                [256, 256]                --\n",
       "│    └─Sequential: 2-2                   [256, 256]                [256, 128]                --\n",
       "│    │    └─Linear: 3-5                  [256, 256]                [256, 128]                32,896\n",
       "│    │    └─ReLU: 3-6                    [256, 128]                [256, 128]                --\n",
       "│    │    └─Dropout: 3-7                 [256, 128]                [256, 128]                --\n",
       "│    └─Linear: 2-3                       [256, 128]                [256, 10]                 1,290\n",
       "===================================================================================================================\n",
       "Total params: 235,146\n",
       "Trainable params: 235,146\n",
       "Non-trainable params: 0\n",
       "Total mult-adds (Units.MEGABYTES): 60.20\n",
       "===================================================================================================================\n",
       "Input size (MB): 0.80\n",
       "Forward/backward pass size (MB): 0.81\n",
       "Params size (MB): 0.94\n",
       "Estimated Total Size (MB): 2.55\n",
       "==================================================================================================================="
      ]
     },
     "execution_count": 65,
     "metadata": {},
     "output_type": "execute_result"
    }
   ],
   "source": [
    "summary(mnist_model,\n",
    "        input_data=X_,\n",
    "        col_names=['input_size',\n",
    "                   'output_size',\n",
    "                   'num_params'])"
   ]
  },
  {
   "cell_type": "markdown",
   "metadata": {},
   "source": [
    "In contrast to our regression model, here we will use the SimpleModule.classification() method which uses the cross-entropy loss function instead of mean squared error. It must be supplied with the number of classes in the problem."
   ]
  },
  {
   "cell_type": "code",
   "execution_count": 67,
   "metadata": {},
   "outputs": [
    {
     "name": "stderr",
     "output_type": "stream",
     "text": [
      "GPU available: False, used: False\n",
      "TPU available: False, using: 0 TPU cores\n",
      "HPU available: False, using: 0 HPUs\n",
      "\n",
      "  | Name  | Type             | Params | Mode \n",
      "---------------------------------------------------\n",
      "0 | model | MNISTModel       | 235 K  | train\n",
      "1 | loss  | CrossEntropyLoss | 0      | train\n",
      "---------------------------------------------------\n",
      "235 K     Trainable params\n",
      "0         Non-trainable params\n",
      "235 K     Total params\n",
      "0.941     Total estimated model params size (MB)\n",
      "13        Modules in train mode\n",
      "0         Modules in eval mode\n",
      "`Trainer.fit` stopped: `max_epochs=30` reached.\n"
     ]
    }
   ],
   "source": [
    "mnist_module = SimpleModule.classification(mnist_model,\n",
    "                                           num_classes=10)\n",
    "mnist_logger = CSVLogger('logs', name='MNIST')\n",
    "\n",
    "# The final step is to supply training data, and fit the model. We disable the progress bar below to avoid lengthy output in the browser when running.\n",
    "mnist_trainer = Trainer(deterministic=True,\n",
    "                        max_epochs=30,\n",
    "                        logger=mnist_logger,\n",
    "                        enable_progress_bar=False,\n",
    "                        callbacks=[ErrorTracker()])\n",
    "mnist_trainer.fit(mnist_module,\n",
    "                  datamodule=mnist_dm)"
   ]
  },
  {
   "cell_type": "markdown",
   "metadata": {},
   "source": [
    "We have suppressed the output here, which is a progress report on the fitting of the model, grouped by epoch. This is very useful, since on large datasets fitting can take time. Fitting this model took 170 seconds on a Windows 11 Device with 4 cores and 8 GB of RAM. Here we specified a validation split of 20%, so training is actually performed on 80% of the 60,000 observations in the training set.\n",
    "\n",
    "SimpleModule.classification() includes an accuracy metric by default. Other classification metrics can be added from torchmetrics. We will use our summary_plot() function to display accuracy across epochs."
   ]
  },
  {
   "cell_type": "code",
   "execution_count": 68,
   "metadata": {},
   "outputs": [
    {
     "data": {
      "image/png": "[encoded data removed]",
      "text/plain": [
       "<Figure size 600x600 with 1 Axes>"
      ]
     },
     "metadata": {},
     "output_type": "display_data"
    }
   ],
   "source": [
    "mnist_results = pd.read_csv(mnist_logger.experiment.metrics_file_path)\n",
    "fig, ax = subplots(1, 1, figsize=(6, 6))\n",
    "summary_plot(mnist_results,\n",
    "             ax,\n",
    "             col='accuracy',\n",
    "             ylabel='Accuracy')\n",
    "ax.set_ylim([0.5, 1])\n",
    "ax.set_ylabel('Accuracy')\n",
    "ax.set_xticks(np.linspace(0, 30, 7).astype(int));"
   ]
  },
  {
   "cell_type": "markdown",
   "metadata": {},
   "source": [
    "Here the metric uesd is accuracy and we can see how the graph progresses for both the training and validation data.Interestingly the validation data starts off a little higher than the training data but in the end they are almost comparable.\n",
    "\n",
    "Once again we evaluate the accuracy using the test() method of our trainer.The accuracy comes out to be 96.67%."
   ]
  },
  {
   "cell_type": "code",
   "execution_count": 69,
   "metadata": {},
   "outputs": [
    {
     "name": "stdout",
     "output_type": "stream",
     "text": [
      "────────────────────────────────────────────────────────────────────────────────────────────────────────────────────────────────────────────────────────────\n",
      "       Test metric             DataLoader 0\n",
      "────────────────────────────────────────────────────────────────────────────────────────────────────────────────────────────────────────────────────────────\n",
      "      test_accuracy         0.9666000008583069\n",
      "        test_loss           0.15843795239925385\n",
      "────────────────────────────────────────────────────────────────────────────────────────────────────────────────────────────────────────────────────────────\n"
     ]
    },
    {
     "data": {
      "text/plain": [
       "[{'test_loss': 0.15843795239925385, 'test_accuracy': 0.9666000008583069}]"
      ]
     },
     "execution_count": 69,
     "metadata": {},
     "output_type": "execute_result"
    }
   ],
   "source": [
    "mnist_trainer.test(mnist_module,\n",
    "                   datamodule=mnist_dm)"
   ]
  },
  {
   "cell_type": "markdown",
   "metadata": {},
   "source": [
    "As in the Hitters example, we delete some of the objects we created above."
   ]
  },
  {
   "cell_type": "code",
   "execution_count": 70,
   "metadata": {},
   "outputs": [],
   "source": [
    "del(mnist_test,\n",
    "    mnist_train,\n",
    "    mnist_model,\n",
    "    mnist_dm,\n",
    "    mnist_trainer,\n",
    "    mnist_module,\n",
    "    mnist_results)"
   ]
  }
 ],
 "metadata": {
  "kernelspec": {
   "display_name": "Python 3 (ipykernel)",
   "language": "python",
   "name": "python3"
  },
  "language_info": {
   "codemirror_mode": {
    "name": "ipython",
    "version": 3
   },
   "file_extension": ".py",
   "mimetype": "text/x-python",
   "name": "python",
   "nbconvert_exporter": "python",
   "pygments_lexer": "ipython3",
   "version": "3.11.9"
  }
 },
 "nbformat": 4,
 "nbformat_minor": 4
}
