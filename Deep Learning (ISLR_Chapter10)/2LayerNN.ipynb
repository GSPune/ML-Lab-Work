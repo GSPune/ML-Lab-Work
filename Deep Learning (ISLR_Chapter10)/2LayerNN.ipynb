{
 "cells": [
  {
   "cell_type": "code",
   "execution_count": 1,
   "id": "56396b80-d609-40f2-a37f-ba1292381581",
   "metadata": {},
   "outputs": [],
   "source": [
    "import torch\n",
    "import torch.nn as nn\n",
    "import torch.optim as optim"
   ]
  },
  {
   "cell_type": "code",
   "execution_count": 2,
   "id": "2d676d31-98c5-4a56-8a95-929d70074cb4",
   "metadata": {},
   "outputs": [],
   "source": [
    "# Basic tensor creation\n",
    "x = torch.tensor([1, 2, 3], dtype=torch.float32)\n",
    "y = torch.rand(3, 3)  # Random tensor\n",
    "\n",
    "class SimpleModel(nn.Module):\n",
    "    pass"
   ]
  },
  {
   "cell_type": "code",
   "execution_count": null,
   "id": "650f1b24-9bdf-4056-bd14-3016fd792839",
   "metadata": {},
   "outputs": [],
   "source": []
  }
 ],
 "metadata": {
  "kernelspec": {
   "display_name": "Python 3 (ipykernel)",
   "language": "python",
   "name": "python3"
  },
  "language_info": {
   "codemirror_mode": {
    "name": "ipython",
    "version": 3
   },
   "file_extension": ".py",
   "mimetype": "text/x-python",
   "name": "python",
   "nbconvert_exporter": "python",
   "pygments_lexer": "ipython3",
   "version": "3.11.9"
  }
 },
 "nbformat": 4,
 "nbformat_minor": 5
}
