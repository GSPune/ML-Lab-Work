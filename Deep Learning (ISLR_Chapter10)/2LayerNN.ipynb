{
 "cells": [
  {
   "cell_type": "code",
   "execution_count": 14,
   "id": "56396b80-d609-40f2-a37f-ba1292381581",
   "metadata": {},
   "outputs": [],
   "source": [
    "import torch\n",
    "import torch.nn as nn\n",
    "import torch.optim as optim\n",
    "import torchinfo"
   ]
  },
  {
   "cell_type": "code",
   "execution_count": 15,
   "id": "2d676d31-98c5-4a56-8a95-929d70074cb4",
   "metadata": {},
   "outputs": [],
   "source": [
    "# Basic tensor creation\n",
    "x = torch.tensor([1, 2, 3], dtype=torch.float32)\n",
    "y = torch.randn(3, 5)  # Random tensor\n",
    "\n",
    "class SimpleModel(nn.Module):\n",
    "    def __init__(self,input_size,hidden_size,output_size):\n",
    "        super(SimpleModel,self).__init__()\n",
    "        self.fc1 = nn.Linear(input_size,hidden_size)\n",
    "        self.fc2 = nn.Linear(hidden_size,output_size)\n",
    "\n",
    "    def forward(self,x):\n",
    "        x = torch.relu(self.fc1(x))\n",
    "        x = self.fc2(x)\n",
    "        return x"
   ]
  },
  {
   "cell_type": "code",
   "execution_count": 16,
   "id": "650f1b24-9bdf-4056-bd14-3016fd792839",
   "metadata": {},
   "outputs": [],
   "source": [
    "input_size = 10  # Example input features\n",
    "hidden_size = 5  # Number of neurons in the hidden layer\n",
    "output_size = 2  # Example output classes\n",
    "\n",
    "model = SimpleModel(input_size, hidden_size, output_size)\n",
    "\n",
    "criterion = nn.CrossEntropyLoss()  # Loss for classification tasks\n",
    "optimizer = optim.SGD(model.parameters(), lr=0.01)"
   ]
  },
  {
   "cell_type": "code",
   "execution_count": 17,
   "id": "0b2de751-ec99-43df-bb8f-02732185fad9",
   "metadata": {},
   "outputs": [
    {
     "name": "stdout",
     "output_type": "stream",
     "text": [
      "Epoch [10/100], Loss: 0.7241\n",
      "Epoch [20/100], Loss: 0.6933\n",
      "Epoch [30/100], Loss: 0.6657\n",
      "Epoch [40/100], Loss: 0.6407\n",
      "Epoch [50/100], Loss: 0.6179\n",
      "Epoch [60/100], Loss: 0.5969\n",
      "Epoch [70/100], Loss: 0.5773\n",
      "Epoch [80/100], Loss: 0.5591\n",
      "Epoch [90/100], Loss: 0.5418\n",
      "Epoch [100/100], Loss: 0.5253\n"
     ]
    }
   ],
   "source": [
    "# Example data\n",
    "inputs = torch.randn(8, input_size)  # Batch of 8 samples\n",
    "targets = torch.randint(0, output_size, (8,))  # Random target labels\n",
    "\n",
    "for epoch in range(100):  # Training for 100 epochs\n",
    "    outputs = model(inputs)  # Forward pass\n",
    "    loss = criterion(outputs, targets)  # Compute loss\n",
    "\n",
    "    optimizer.zero_grad()  # Clear previous gradients\n",
    "    loss.backward()  # Backward pass (compute gradients)\n",
    "    optimizer.step()  # Update parameters\n",
    "\n",
    "    if (epoch + 1) % 10 == 0:\n",
    "        print(f'Epoch [{epoch+1}/100], Loss: {loss.item():.4f}')\n"
   ]
  },
  {
   "cell_type": "code",
   "execution_count": 20,
   "id": "5ec2bd59-d369-4f87-b92a-6a684d1e8c42",
   "metadata": {},
   "outputs": [
    {
     "data": {
      "text/plain": [
       "SimpleModel(\n",
       "  (fc1): Linear(in_features=10, out_features=5, bias=True)\n",
       "  (fc2): Linear(in_features=5, out_features=2, bias=True)\n",
       ")"
      ]
     },
     "execution_count": 20,
     "metadata": {},
     "output_type": "execute_result"
    }
   ],
   "source": [
    "data_model = SimpleModel(input_size,hidden_size, output_size)\n",
    "data_model"
   ]
  }
 ],
 "metadata": {
  "kernelspec": {
   "display_name": "Python 3 (ipykernel)",
   "language": "python",
   "name": "python3"
  },
  "language_info": {
   "codemirror_mode": {
    "name": "ipython",
    "version": 3
   },
   "file_extension": ".py",
   "mimetype": "text/x-python",
   "name": "python",
   "nbconvert_exporter": "python",
   "pygments_lexer": "ipython3",
   "version": "3.11.9"
  }
 },
 "nbformat": 4,
 "nbformat_minor": 5
}
